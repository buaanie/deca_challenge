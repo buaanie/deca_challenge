{
 "cells": [
  {
   "cell_type": "markdown",
   "metadata": {},
   "source": [
    "# Start by running two following cells"
   ]
  },
  {
   "cell_type": "code",
   "execution_count": 1,
   "metadata": {
    "init_cell": true
   },
   "outputs": [
    {
     "data": {
      "text/html": [
       "<style>.container { width:95% !important; }</style>"
      ],
      "text/plain": [
       "<IPython.core.display.HTML object>"
      ]
     },
     "metadata": {},
     "output_type": "display_data"
    }
   ],
   "source": [
    "from IPython.core.display import display, HTML \n",
    "display(HTML(\"<style>.container { width:95% !important; }</style>\"))\n",
    "%matplotlib inline\n",
    "%load_ext Cython\n",
    "from jupyterthemes import jtplot\n",
    "jtplot.style(theme='oceans16')\n",
    "import matplotlib.pyplot as plt\n",
    "import pandas as pd\n",
    "import os\n",
    "import time\n",
    "# from tqdm import tqdm\n",
    "from tqdm import tqdm_notebook as tqdm\n",
    "import numpy as np\n",
    "from sklearn.utils import murmurhash3_32\n",
    "from __future__ import division, print_function\n",
    "from collections import OrderedDict\n",
    "from datetime import datetime as dt\n",
    "import random\n",
    "from collections import defaultdict\n",
    "np.random.seed(0)\n",
    "random.seed(0)\n",
    "from sklearn.model_selection import KFold\n",
    "import math\n",
    "from sklearn.cluster import KMeans\n",
    "from sklearn.feature_extraction.text import TfidfVectorizer\n",
    "from IPython import embed\n",
    "pd.set_option('display.max_columns', 30)"
   ]
  },
  {
   "cell_type": "code",
   "execution_count": 2,
   "metadata": {
    "init_cell": true
   },
   "outputs": [],
   "source": [
    "def deca_load(filename):\n",
    "    tic = time.time()\n",
    "    csv_path = 'data_raw/{}.csv'.format(filename)\n",
    "    hdf_path = 'data_hdf/_{}.h5'.format(filename)\n",
    "    if os.path.exists(hdf_path):\n",
    "        print('loading {}... '.format(hdf_path), end='')\n",
    "        result = pd.read_hdf(hdf_path)\n",
    "        print(\"OK ({0:.1f}s)\".format(time.time() - tic))\n",
    "        return result\n",
    "    else:\n",
    "        try:\n",
    "            os.mkdir('data_hdf')\n",
    "        except:\n",
    "            pass\n",
    "        print('loading {}... '.format(csv_path), end='')\n",
    "        result = pd.read_csv(csv_path)\n",
    "        print(\"OK ({0:.1f}s)\".format(time.time() - tic))\n",
    "        result.to_hdf(hdf_path, 'fixed', mode='w', complib='blosc', complevel=9)\n",
    "        print('Saved {} for fast future loading.'.format(hdf_path))\n",
    "        return result\n",
    "def deca_save(data, filename):\n",
    "    tic = time.time()\n",
    "    hdf_path = 'data_hdf/_{}.h5'.format(filename)\n",
    "    print('saving {}... '.format(hdf_path), end='')\n",
    "    data.to_hdf(hdf_path, 'fixed', mode='w', complib='blosc', complevel=9)\n",
    "    print(\"OK ({0:.1f}s)\".format(time.time() - tic))\n",
    "def get_hour_bin(hour):\n",
    "    if hour >= 5 and hour < 8:\n",
    "        hour_bin = 1\n",
    "    elif hour >= 8 and hour < 11:\n",
    "        hour_bin = 2\n",
    "    elif hour >= 11 and hour < 14:\n",
    "        hour_bin = 3\n",
    "    elif hour >= 14 and hour < 19:\n",
    "        hour_bin = 4\n",
    "    elif hour >= 19 and hour < 22:\n",
    "        hour_bin = 5\n",
    "    else:\n",
    "        hour_bin = 6\n",
    "    return hour_bin\n",
    "def nan_boolean_check(x):\n",
    "    if isinstance(x, float):\n",
    "        if np.isnan(x):\n",
    "            return False\n",
    "    return bool(x)\n",
    "def myhash(v, hashspace):\n",
    "    return murmurhash3_32(v) % hashspace"
   ]
  },
  {
   "cell_type": "markdown",
   "metadata": {},
   "source": [
    "# Augmenting Main Tables"
   ]
  },
  {
   "cell_type": "markdown",
   "metadata": {},
   "source": [
    "Target Encoding is a technique to acquire numerical values corresponding to a categorical feature. This is desirable as categorical features are not suitable to be used with decision trees. This block writes a python file named `target_encoding.py` in current path. This script takes for its first argument a binary value indicating (0) for train-valid split pathway (1) full_train-test pathway. The second argument designates (0) using the column in notification table (1) using the column in user table or (2) historical features. For each run it'd produce a file inside `data_hdf/` with target encodings which are later used as input for GBDT.  \n",
    "\n",
    "### Notif fields\n",
    "`python target_encoding.py 1 0 <col> interaction`\n",
    "\n",
    "where `<col>` can be:\n",
    "* notifC\n",
    "* notif_kmeans\n",
    "* notif_time_bin\n",
    "* sentenceC\n",
    "* icon_hash\n",
    "\n",
    "### User fields\n",
    "`python target_encoding.py 1 1 <col> interaction`\n",
    "\n",
    "where `<col>` can be:\n",
    "* C1\n",
    "* C2\n",
    "* C3\n",
    "* C4\n",
    "* C5\n",
    "* C6\n",
    "* u1s_kmeans199\n",
    "* u2s_kmeans299\n",
    "\n",
    "### Historical fields\n",
    "`python target_encoding.py 1 2 user_id <col>`\n",
    "\n",
    "where `<col>` can be:\n",
    "* last_click_2nd_diff\n",
    "* last_click_3rd_diff\n",
    "* last_click_4th_diff"
   ]
  },
  {
   "cell_type": "code",
   "execution_count": 5,
   "metadata": {},
   "outputs": [
    {
     "name": "stdout",
     "output_type": "stream",
     "text": [
      "Overwriting target_encoding.py\n"
     ]
    }
   ],
   "source": [
    "%%writefile target_encoding.py\n",
    "from __future__ import print_function\n",
    "import pandas as pd\n",
    "import time, os, sys\n",
    "from sklearn.model_selection import KFold\n",
    "import gc\n",
    "\n",
    "def deca_load(filename):\n",
    "    tic = time.time()\n",
    "    csv_path = 'data_raw/{}.csv'.format(filename)\n",
    "    hdf_path = 'data_hdf/_{}.h5'.format(filename)\n",
    "    if os.path.exists(hdf_path):\n",
    "        print('loading {}... '.format(hdf_path), end='')\n",
    "        result = pd.read_hdf(hdf_path)\n",
    "        print(\"OK ({0:.1f}s)\".format(time.time() - tic))\n",
    "        return result\n",
    "    else:\n",
    "        try:\n",
    "            os.mkdir('data_hdf')\n",
    "        except:\n",
    "            pass\n",
    "        print('loading {}... '.format(csv_path), end='')\n",
    "        result = pd.read_csv(csv_path)\n",
    "        print(\"OK ({0:.1f}s)\".format(time.time() - tic))\n",
    "        result.to_hdf(hdf_path, 'fixed', mode='w', complib='blosc', complevel=9)\n",
    "        print('Saved {} for fast future loading.'.format(hdf_path))\n",
    "        return result\n",
    "def deca_save(data, filename):\n",
    "    tic = time.time()\n",
    "    hdf_path = 'data_hdf/_{}.h5'.format(filename)\n",
    "    print('saving {}... '.format(hdf_path), end='')\n",
    "    data.to_hdf(hdf_path, 'fixed', mode='w', complib='blosc', complevel=9)\n",
    "    print(\"OK ({0:.1f}s)\".format(time.time() - tic))\n",
    "    \n",
    "def impact_coding(data, feature, target='interaction'):\n",
    "    n_folds = 20\n",
    "    n_inner_folds = 10\n",
    "    impact_coded = pd.Series()\n",
    "    \n",
    "    oof_default_mean = data[target].mean() # Gobal mean to use by default (you could further tune this)\n",
    "    kf = KFold(n_splits=n_folds, shuffle=True)\n",
    "    oof_mean_cv = pd.DataFrame()\n",
    "    split = 0\n",
    "    for infold, oof in kf.split(data[feature]):\n",
    "            print('\\n* {} * '.format(split))\n",
    "            impact_coded_cv = pd.Series()\n",
    "            kf_inner = KFold(n_splits=n_inner_folds, shuffle=True)\n",
    "            inner_split = 0\n",
    "            inner_oof_mean_cv = pd.DataFrame()\n",
    "            oof_default_inner_mean = data.iloc[infold][target].mean()\n",
    "            for infold_inner, oof_inner in kf_inner.split(data.iloc[infold]):\n",
    "                print('{} '.format(inner_split), end='')\n",
    "                # The mean to apply to the inner oof split (a 1/n_folds % based on the rest)\n",
    "                oof_mean = data.iloc[infold_inner].groupby(by=feature)[target].mean()\n",
    "                impact_coded_cv = impact_coded_cv.append(data.iloc[infold][feature].map(oof_mean).fillna(oof_default_inner_mean))\n",
    "\n",
    "                # Also populate mapping (this has all group -> mean for all inner CV folds)\n",
    "                inner_oof_mean_cv = inner_oof_mean_cv.join(pd.DataFrame(oof_mean), rsuffix=inner_split, how='outer')\n",
    "                inner_oof_mean_cv.fillna(value=oof_default_inner_mean, inplace=True)\n",
    "                inner_split += 1\n",
    "\n",
    "            # Also populate mapping\n",
    "            oof_mean_cv = oof_mean_cv.join(pd.DataFrame(inner_oof_mean_cv), rsuffix=split, how='outer')\n",
    "            oof_mean_cv.fillna(value=oof_default_mean, inplace=True)\n",
    "            split += 1\n",
    "            \n",
    "            impact_coded = impact_coded.append(data.iloc[oof][feature].map(inner_oof_mean_cv.mean(axis=1)).fillna(oof_default_mean))\n",
    "    print('')\n",
    "    return impact_coded, oof_mean_cv.mean(axis=1), oof_default_mean\n",
    "\n",
    "def split_extract_and_save_target_enc(merged_train, merged_val, col, target='interaction'):\n",
    "    tic = time.time()\n",
    "    encoded, impact_coding_mapping, default_coding = impact_coding(merged_train[[target, col]], col, target)\n",
    "    print('Saving')\n",
    "    if target!='interaction':\n",
    "        deca_save(encoded, '{}_{}_encoded'.format(col, target))\n",
    "    else:\n",
    "        deca_save(encoded, '{}_encoded'.format(col))\n",
    "    encoded_val = merged_val[col].map(impact_coding_mapping).fillna(default_coding)\n",
    "    if target!='interaction':\n",
    "        deca_save(encoded_val, '{}_{}_encoded_val'.format(col, target))\n",
    "    else:\n",
    "        deca_save(encoded_val, '{}_encoded_val'.format(col))\n",
    "    print('TOOK {}s'.format(time.time()-tic))\n",
    "    \n",
    "def full_extract_and_save_target_enc(merged_ftrain, merged_tst, col, target='interaction'):\n",
    "    tic = time.time()\n",
    "    encoded, impact_coding_mapping, default_coding = impact_coding(merged_ftrain[[target, col]], col, target)\n",
    "    print('Saving')\n",
    "    if target!='interaction':\n",
    "        deca_save(encoded, '{}_{}_encoded_ftrn'.format(col, target))\n",
    "    else:\n",
    "        deca_save(encoded, '{}_encoded_ftrn'.format(col))\n",
    "    encoded_tst = merged_tst[col].map(impact_coding_mapping).fillna(default_coding)\n",
    "    if target!='interaction':\n",
    "        deca_save(encoded_tst, '{}_{}_encoded_tst'.format(col, target))\n",
    "    else:\n",
    "        deca_save(encoded_tst, '{}_encoded_tst'.format(col))\n",
    "    print('TOOK {}s'.format(time.time()-tic))\n",
    "    \n",
    "if len(sys.argv)<5:\n",
    "    print('Not enought args, usage: target_encoding.py split_pathway user_or_notif col target')\n",
    "    sys.exit(-1)\n",
    "\n",
    "split_pathway = int(sys.argv[1])\n",
    "user_or_notif = int(sys.argv[2])\n",
    "col = sys.argv[3]\n",
    "target = sys.argv[4]\n",
    "\n",
    "print('PARAMS:', split_pathway, user_or_notif, col)\n",
    "    \n",
    "if split_pathway:\n",
    "    train = deca_load('train_split').reset_index(drop=True)[['user_id', 'notif_id', 'interaction']]\n",
    "    valid = deca_load('valid_split').reset_index(drop=True)[['user_id', 'notif_id']]\n",
    "    if user_or_notif==1:\n",
    "        train = train[['user_id', target]]\n",
    "        valid = valid[['user_id']]\n",
    "        users_table = deca_load('users_table_augmented')[['user_id', col]]\n",
    "        print('merging train')\n",
    "        train_merged = pd.merge(train, users_table, on='user_id', how='left')\n",
    "        print('merging valid')\n",
    "        valid_merged = pd.merge(valid, users_table, on='user_id', how='left')\n",
    "        del users_table\n",
    "    elif user_or_notif==0:\n",
    "        train = train[['notif_id', target]]\n",
    "        valid = valid[['notif_id']]\n",
    "        notifs_table = deca_load('notifs_table_augmented')[['notif_id', col]]\n",
    "        print('merging train')\n",
    "        train_merged = pd.merge(train, notifs_table, on='notif_id', how='left')\n",
    "        print('merging valid')\n",
    "        valid_merged = pd.merge(valid, notifs_table, on='notif_id', how='left')\n",
    "        del notifs_table\n",
    "    elif user_or_notif==2:\n",
    "        train = pd.concat([train[[col]], deca_load('history_train')[[target]]], axis=1)\n",
    "        valid = pd.concat([valid[[col]], deca_load('history_valid')[[target]]], axis=1)\n",
    "        train_merged = train\n",
    "        valid_merged = valid\n",
    "    del train, valid\n",
    "else:\n",
    "    full_train_table = deca_load('train_interactions').reset_index(drop=True)[['user_id', 'notif_id', 'interaction']]\n",
    "    test = deca_load('test').reset_index(drop=True)[['user_id', 'notif_id']]\n",
    "    if user_or_notif:\n",
    "        full_train_table = full_train_table[['user_id', target]]\n",
    "        test = test[['user_id']]\n",
    "        users_table = deca_load('users_table_augmented')[['user_id', col]]\n",
    "        print('merging full_train')\n",
    "        full_train_merged = pd.merge(full_train_table, users_table, on='user_id', how='left')\n",
    "        print('merging test')\n",
    "        test_merged = pd.merge(test, users_table, on='user_id', how='left')\n",
    "        del users_table\n",
    "    else:\n",
    "        full_train_table = full_train_table[['notif_id', target]]\n",
    "        test = test[['notif_id']]\n",
    "        notifs_table = deca_load('notifs_table_augmented')[['notif_id', col]]\n",
    "        print('merging full_train')\n",
    "        full_train_merged = pd.merge(full_train_table, notifs_table, on='notif_id', how='left')\n",
    "        print('merging test')\n",
    "        test_merged = pd.merge(test, notifs_table, on='notif_id', how='left')\n",
    "        del notifs_table\n",
    "    del full_train_table, test\n",
    "\n",
    "gc.collect()\n",
    "print('start encoding')\n",
    "if split_pathway:\n",
    "    split_extract_and_save_target_enc(train_merged, valid_merged, col, target)\n",
    "else:\n",
    "    full_extract_and_save_target_enc(full_train_merged, test_merged, col, target)"
   ]
  },
  {
   "cell_type": "markdown",
   "metadata": {
    "heading_collapsed": true
   },
   "source": [
    "# Clustering Users using Sparse Files"
   ]
  },
  {
   "cell_type": "code",
   "execution_count": 3,
   "metadata": {
    "hidden": true
   },
   "outputs": [],
   "source": [
    "from sklearn.feature_extraction.text import TfidfTransformer\n",
    "from sklearn.cluster import MiniBatchKMeans"
   ]
  },
  {
   "cell_type": "markdown",
   "metadata": {
    "hidden": true
   },
   "source": [
    "### U1S"
   ]
  },
  {
   "cell_type": "markdown",
   "metadata": {
    "hidden": true
   },
   "source": [
    "#### ONE"
   ]
  },
  {
   "cell_type": "code",
   "execution_count": 8,
   "metadata": {
    "hidden": true
   },
   "outputs": [
    {
     "name": "stdout",
     "output_type": "stream",
     "text": [
      "loading data_hdf/_user_sparse_1.h5... OK (2.6s)\n"
     ]
    }
   ],
   "source": [
    "u1s = deca_load('user_sparse_1')"
   ]
  },
  {
   "cell_type": "code",
   "execution_count": 9,
   "metadata": {
    "hidden": true
   },
   "outputs": [],
   "source": [
    "u1s_vals = u1s.fillna(0).astype(int).values"
   ]
  },
  {
   "cell_type": "code",
   "execution_count": 10,
   "metadata": {
    "hidden": true
   },
   "outputs": [],
   "source": [
    "u1s_counts = u1s_vals[:,1:]\n",
    "u1s_uids = u1s_vals[:,0]"
   ]
  },
  {
   "cell_type": "code",
   "execution_count": 11,
   "metadata": {
    "hidden": true
   },
   "outputs": [],
   "source": [
    "tfidf = TfidfTransformer()\n",
    "u1s_tfidf = tfidf.fit_transform(u1s_counts)"
   ]
  },
  {
   "cell_type": "code",
   "execution_count": 12,
   "metadata": {
    "hidden": true
   },
   "outputs": [
    {
     "name": "stdout",
     "output_type": "stream",
     "text": [
      "CPU times: user 1min 38s, sys: 1.79 s, total: 1min 40s\n",
      "Wall time: 1min 40s\n"
     ]
    }
   ],
   "source": [
    "%%time \n",
    "km2 = MiniBatchKMeans(n_clusters=199, max_iter=200, n_init=4, verbose=0, max_no_improvement=40)\n",
    "km2.fit(u1s_tfidf)"
   ]
  },
  {
   "cell_type": "code",
   "execution_count": 13,
   "metadata": {
    "hidden": true
   },
   "outputs": [],
   "source": [
    "u1s_cluster_table = pd.DataFrame.from_dict({'user_id': u1s_uids, 'u1s_kmeans199': km2.labels_})"
   ]
  },
  {
   "cell_type": "markdown",
   "metadata": {
    "hidden": true
   },
   "source": [
    "### U2S"
   ]
  },
  {
   "cell_type": "code",
   "execution_count": 15,
   "metadata": {
    "hidden": true
   },
   "outputs": [
    {
     "name": "stdout",
     "output_type": "stream",
     "text": [
      "loading data_hdf/_user_sparse_2.h5... OK (6.3s)\n"
     ]
    }
   ],
   "source": [
    "u2s = deca_load('user_sparse_2')\n",
    "u2s_vals = u2s.fillna(0).astype(int).values\n",
    "u2s_values = u2s_vals[:,1:]\n",
    "u2s_uids = u2s_vals[:,0]"
   ]
  },
  {
   "cell_type": "code",
   "execution_count": 16,
   "metadata": {
    "hidden": true
   },
   "outputs": [
    {
     "name": "stdout",
     "output_type": "stream",
     "text": [
      "CPU times: user 4min 53s, sys: 30.6 s, total: 5min 23s\n",
      "Wall time: 4min 49s\n"
     ]
    }
   ],
   "source": [
    "%%time \n",
    "km3 = MiniBatchKMeans(n_clusters=299, max_iter=450, n_init=6, verbose=0, max_no_improvement=50)\n",
    "km3.fit(u2s_values)"
   ]
  },
  {
   "cell_type": "code",
   "execution_count": 17,
   "metadata": {
    "hidden": true
   },
   "outputs": [],
   "source": [
    "u2s_cluster_table = pd.DataFrame.from_dict({'user_id': u2s_uids, 'u2s_kmeans299': km3.labels_})"
   ]
  },
  {
   "cell_type": "code",
   "execution_count": 55,
   "metadata": {
    "hidden": true
   },
   "outputs": [],
   "source": [
    "# qq = u1s_cluster_table.merge(u2s_cluster_table, on='user_id')\n",
    "# confusion_matrix = pd.crosstab(qq['u2s_kmeans299'], qq['u1s_kmeans199'])\n",
    "# import scipy.stats as stats\n",
    "# def cramers_corrected_stat(confusion_matrix):\n",
    "#     chi2 = stats.chi2_contingency(confusion_matrix)[0]\n",
    "#     n = confusion_matrix.sum().sum()\n",
    "#     phi2 = chi2/n\n",
    "#     r,k = confusion_matrix.shape\n",
    "#     phi2corr = max(0, phi2 - ((k-1)*(r-1))/(n-1))\n",
    "#     rcorr = r - ((r-1)**2)/(n-1)\n",
    "#     kcorr = k - ((k-1)**2)/(n-1)\n",
    "#     return np.sqrt(phi2corr / min( (kcorr-1), (rcorr-1)))\n",
    "# cramers_corrected_stat(confusion_matrix) # ~> 0.027206346383264073"
   ]
  },
  {
   "cell_type": "code",
   "execution_count": 18,
   "metadata": {
    "hidden": true
   },
   "outputs": [
    {
     "name": "stdout",
     "output_type": "stream",
     "text": [
      "loading data_hdf/_users_table_augmented.h5... OK (2.0s)\n"
     ]
    }
   ],
   "source": [
    "users_table = deca_load('users_table_augmented')"
   ]
  },
  {
   "cell_type": "code",
   "execution_count": 19,
   "metadata": {
    "hidden": true
   },
   "outputs": [
    {
     "data": {
      "text/html": [
       "<div>\n",
       "<style scoped>\n",
       "    .dataframe tbody tr th:only-of-type {\n",
       "        vertical-align: middle;\n",
       "    }\n",
       "\n",
       "    .dataframe tbody tr th {\n",
       "        vertical-align: top;\n",
       "    }\n",
       "\n",
       "    .dataframe thead th {\n",
       "        text-align: right;\n",
       "    }\n",
       "</style>\n",
       "<table border=\"1\" class=\"dataframe\">\n",
       "  <thead>\n",
       "    <tr style=\"text-align: right;\">\n",
       "      <th></th>\n",
       "      <th>user_id</th>\n",
       "      <th>C1</th>\n",
       "      <th>C2</th>\n",
       "      <th>C3</th>\n",
       "      <th>C4</th>\n",
       "      <th>C5</th>\n",
       "      <th>C6</th>\n",
       "      <th>N1</th>\n",
       "      <th>N2</th>\n",
       "      <th>N3</th>\n",
       "      <th>S1_PCA1</th>\n",
       "      <th>S1_PCA2</th>\n",
       "      <th>S1_PCA3</th>\n",
       "      <th>S1_PCA4</th>\n",
       "      <th>S1_PCA_KMEANS234</th>\n",
       "      <th>...</th>\n",
       "      <th>S2_PCA_KMEANS189</th>\n",
       "      <th>S1notNA</th>\n",
       "      <th>S1idxmax</th>\n",
       "      <th>S1sum</th>\n",
       "      <th>S1avg</th>\n",
       "      <th>S1mad</th>\n",
       "      <th>S1max</th>\n",
       "      <th>S1std</th>\n",
       "      <th>S2notNA</th>\n",
       "      <th>S2idxmax</th>\n",
       "      <th>S2sum</th>\n",
       "      <th>S2avg</th>\n",
       "      <th>S2mad</th>\n",
       "      <th>S2max</th>\n",
       "      <th>S2std</th>\n",
       "    </tr>\n",
       "  </thead>\n",
       "  <tbody>\n",
       "    <tr>\n",
       "      <th>0</th>\n",
       "      <td>2</td>\n",
       "      <td>1049</td>\n",
       "      <td>7392</td>\n",
       "      <td>145</td>\n",
       "      <td>543</td>\n",
       "      <td>NaN</td>\n",
       "      <td>NaN</td>\n",
       "      <td>1</td>\n",
       "      <td>NaN</td>\n",
       "      <td>NaN</td>\n",
       "      <td>NaN</td>\n",
       "      <td>NaN</td>\n",
       "      <td>NaN</td>\n",
       "      <td>NaN</td>\n",
       "      <td>NaN</td>\n",
       "      <td>...</td>\n",
       "      <td>15.0</td>\n",
       "      <td>NaN</td>\n",
       "      <td>NaN</td>\n",
       "      <td>NaN</td>\n",
       "      <td>NaN</td>\n",
       "      <td>NaN</td>\n",
       "      <td>NaN</td>\n",
       "      <td>NaN</td>\n",
       "      <td>1.0</td>\n",
       "      <td>60</td>\n",
       "      <td>2.0</td>\n",
       "      <td>2.000000</td>\n",
       "      <td>0.000000</td>\n",
       "      <td>2.0</td>\n",
       "      <td>NaN</td>\n",
       "    </tr>\n",
       "    <tr>\n",
       "      <th>1</th>\n",
       "      <td>3</td>\n",
       "      <td>1049</td>\n",
       "      <td>7901</td>\n",
       "      <td>282</td>\n",
       "      <td>336</td>\n",
       "      <td>31.0</td>\n",
       "      <td>67.0</td>\n",
       "      <td>10</td>\n",
       "      <td>1.0</td>\n",
       "      <td>NaN</td>\n",
       "      <td>-9.481562</td>\n",
       "      <td>-6.724702</td>\n",
       "      <td>2.427630</td>\n",
       "      <td>-1.461844</td>\n",
       "      <td>95.0</td>\n",
       "      <td>...</td>\n",
       "      <td>89.0</td>\n",
       "      <td>89.0</td>\n",
       "      <td>73.0</td>\n",
       "      <td>5029.0</td>\n",
       "      <td>56.505618</td>\n",
       "      <td>22.814291</td>\n",
       "      <td>106.0</td>\n",
       "      <td>28.955343</td>\n",
       "      <td>43.0</td>\n",
       "      <td>32</td>\n",
       "      <td>-1.0</td>\n",
       "      <td>-0.023256</td>\n",
       "      <td>1.929692</td>\n",
       "      <td>4.0</td>\n",
       "      <td>2.075806</td>\n",
       "    </tr>\n",
       "    <tr>\n",
       "      <th>2</th>\n",
       "      <td>4</td>\n",
       "      <td>112</td>\n",
       "      <td>2725</td>\n",
       "      <td>65</td>\n",
       "      <td>2</td>\n",
       "      <td>24.0</td>\n",
       "      <td>227.0</td>\n",
       "      <td>2</td>\n",
       "      <td>17.0</td>\n",
       "      <td>NaN</td>\n",
       "      <td>1.901517</td>\n",
       "      <td>-1.573900</td>\n",
       "      <td>-1.068653</td>\n",
       "      <td>0.256103</td>\n",
       "      <td>50.0</td>\n",
       "      <td>...</td>\n",
       "      <td>19.0</td>\n",
       "      <td>88.0</td>\n",
       "      <td>78.0</td>\n",
       "      <td>2206.0</td>\n",
       "      <td>25.068182</td>\n",
       "      <td>11.330062</td>\n",
       "      <td>53.0</td>\n",
       "      <td>13.758839</td>\n",
       "      <td>4.0</td>\n",
       "      <td>70</td>\n",
       "      <td>0.0</td>\n",
       "      <td>0.000000</td>\n",
       "      <td>2.000000</td>\n",
       "      <td>2.0</td>\n",
       "      <td>2.309401</td>\n",
       "    </tr>\n",
       "    <tr>\n",
       "      <th>3</th>\n",
       "      <td>5</td>\n",
       "      <td>1049</td>\n",
       "      <td>7688</td>\n",
       "      <td>145</td>\n",
       "      <td>347</td>\n",
       "      <td>NaN</td>\n",
       "      <td>NaN</td>\n",
       "      <td>3</td>\n",
       "      <td>7.0</td>\n",
       "      <td>NaN</td>\n",
       "      <td>5.839209</td>\n",
       "      <td>-1.316941</td>\n",
       "      <td>0.031361</td>\n",
       "      <td>0.152586</td>\n",
       "      <td>175.0</td>\n",
       "      <td>...</td>\n",
       "      <td>99.0</td>\n",
       "      <td>84.0</td>\n",
       "      <td>68.0</td>\n",
       "      <td>1096.0</td>\n",
       "      <td>13.047619</td>\n",
       "      <td>7.018141</td>\n",
       "      <td>25.0</td>\n",
       "      <td>7.857012</td>\n",
       "      <td>13.0</td>\n",
       "      <td>93</td>\n",
       "      <td>-15.0</td>\n",
       "      <td>-1.153846</td>\n",
       "      <td>0.934911</td>\n",
       "      <td>2.0</td>\n",
       "      <td>1.344504</td>\n",
       "    </tr>\n",
       "    <tr>\n",
       "      <th>4</th>\n",
       "      <td>6</td>\n",
       "      <td>1049</td>\n",
       "      <td>4706</td>\n",
       "      <td>145</td>\n",
       "      <td>812</td>\n",
       "      <td>31.0</td>\n",
       "      <td>67.0</td>\n",
       "      <td>28</td>\n",
       "      <td>296.0</td>\n",
       "      <td>25.0</td>\n",
       "      <td>1.065544</td>\n",
       "      <td>1.920679</td>\n",
       "      <td>-2.561852</td>\n",
       "      <td>-1.043252</td>\n",
       "      <td>68.0</td>\n",
       "      <td>...</td>\n",
       "      <td>135.0</td>\n",
       "      <td>92.0</td>\n",
       "      <td>59.0</td>\n",
       "      <td>2491.0</td>\n",
       "      <td>27.076087</td>\n",
       "      <td>14.827032</td>\n",
       "      <td>59.0</td>\n",
       "      <td>17.177313</td>\n",
       "      <td>33.0</td>\n",
       "      <td>19</td>\n",
       "      <td>-3.0</td>\n",
       "      <td>-0.090909</td>\n",
       "      <td>1.669421</td>\n",
       "      <td>3.0</td>\n",
       "      <td>1.843293</td>\n",
       "    </tr>\n",
       "  </tbody>\n",
       "</table>\n",
       "<p>5 rows × 34 columns</p>\n",
       "</div>"
      ],
      "text/plain": [
       "   user_id    C1    C2   C3   C4    C5     C6  N1     N2    N3   S1_PCA1  \\\n",
       "0        2  1049  7392  145  543   NaN    NaN   1    NaN   NaN       NaN   \n",
       "1        3  1049  7901  282  336  31.0   67.0  10    1.0   NaN -9.481562   \n",
       "2        4   112  2725   65    2  24.0  227.0   2   17.0   NaN  1.901517   \n",
       "3        5  1049  7688  145  347   NaN    NaN   3    7.0   NaN  5.839209   \n",
       "4        6  1049  4706  145  812  31.0   67.0  28  296.0  25.0  1.065544   \n",
       "\n",
       "    S1_PCA2   S1_PCA3   S1_PCA4  S1_PCA_KMEANS234    ...     S2_PCA_KMEANS189  \\\n",
       "0       NaN       NaN       NaN               NaN    ...                 15.0   \n",
       "1 -6.724702  2.427630 -1.461844              95.0    ...                 89.0   \n",
       "2 -1.573900 -1.068653  0.256103              50.0    ...                 19.0   \n",
       "3 -1.316941  0.031361  0.152586             175.0    ...                 99.0   \n",
       "4  1.920679 -2.561852 -1.043252              68.0    ...                135.0   \n",
       "\n",
       "   S1notNA  S1idxmax   S1sum      S1avg      S1mad  S1max      S1std  S2notNA  \\\n",
       "0      NaN       NaN     NaN        NaN        NaN    NaN        NaN      1.0   \n",
       "1     89.0      73.0  5029.0  56.505618  22.814291  106.0  28.955343     43.0   \n",
       "2     88.0      78.0  2206.0  25.068182  11.330062   53.0  13.758839      4.0   \n",
       "3     84.0      68.0  1096.0  13.047619   7.018141   25.0   7.857012     13.0   \n",
       "4     92.0      59.0  2491.0  27.076087  14.827032   59.0  17.177313     33.0   \n",
       "\n",
       "   S2idxmax  S2sum     S2avg     S2mad  S2max     S2std  \n",
       "0        60    2.0  2.000000  0.000000    2.0       NaN  \n",
       "1        32   -1.0 -0.023256  1.929692    4.0  2.075806  \n",
       "2        70    0.0  0.000000  2.000000    2.0  2.309401  \n",
       "3        93  -15.0 -1.153846  0.934911    2.0  1.344504  \n",
       "4        19   -3.0 -0.090909  1.669421    3.0  1.843293  \n",
       "\n",
       "[5 rows x 34 columns]"
      ]
     },
     "execution_count": 19,
     "metadata": {},
     "output_type": "execute_result"
    }
   ],
   "source": [
    "users_table.head()"
   ]
  },
  {
   "cell_type": "code",
   "execution_count": 20,
   "metadata": {
    "hidden": true
   },
   "outputs": [],
   "source": [
    "users_table = pd.merge(users_table, u1s_cluster_table, on='user_id', how='left')\n",
    "users_table = pd.merge(users_table, u2s_cluster_table, on='user_id', how='left')"
   ]
  },
  {
   "cell_type": "code",
   "execution_count": 21,
   "metadata": {
    "hidden": true
   },
   "outputs": [
    {
     "name": "stdout",
     "output_type": "stream",
     "text": [
      "saving data_hdf/_users_table_augmented.h5... OK (13.3s)\n"
     ]
    }
   ],
   "source": [
    "deca_save(users_table, 'users_table_augmented')"
   ]
  },
  {
   "cell_type": "markdown",
   "metadata": {
    "heading_collapsed": true
   },
   "source": [
    "# Augmenting USER Table"
   ]
  },
  {
   "cell_type": "markdown",
   "metadata": {
    "heading_collapsed": true,
    "hidden": true
   },
   "source": [
    "## PCA on sparse tables"
   ]
  },
  {
   "cell_type": "code",
   "execution_count": 3,
   "metadata": {
    "hidden": true
   },
   "outputs": [
    {
     "name": "stdout",
     "output_type": "stream",
     "text": [
      "loading data_hdf/_users.h5... OK (4.7s)\n"
     ]
    }
   ],
   "source": [
    "from sklearn import preprocessing\n",
    "users_table = deca_load('users')"
   ]
  },
  {
   "cell_type": "code",
   "execution_count": 4,
   "metadata": {
    "hidden": true
   },
   "outputs": [
    {
     "name": "stdout",
     "output_type": "stream",
     "text": [
      "loading data_hdf/_user_sparse_1.h5... OK (2.8s)\n",
      "loading data_hdf/_user_sparse_2.h5... OK (3.2s)\n"
     ]
    }
   ],
   "source": [
    "u1s = deca_load('user_sparse_1')\n",
    "u1sc = u1s.fillna(0)\n",
    "u2s = deca_load('user_sparse_2')\n",
    "u2sc = u2s.fillna(0)"
   ]
  },
  {
   "cell_type": "code",
   "execution_count": 5,
   "metadata": {
    "hidden": true
   },
   "outputs": [
    {
     "name": "stdout",
     "output_type": "stream",
     "text": [
      "[0.72897572 0.08896709 0.07495454 0.01783674 0.01507369 0.00988397\n",
      " 0.00831048 0.00734342 0.00493351 0.00428717]\n",
      "[0.03628583 0.03176124 0.02022252 0.01905647 0.01625533 0.01582576\n",
      " 0.01474772 0.01376879 0.01314596 0.01305902]\n"
     ]
    }
   ],
   "source": [
    "from fbpca import pca\n",
    "n_comps = 10\n",
    "n_iter = 9\n",
    "X = u1sc.loc[:, u1sc.columns!='user_id'].as_matrix()\n",
    "\n",
    "std_scale = preprocessing.StandardScaler().fit(X)\n",
    "X = std_scale.transform(X)\n",
    "\n",
    "X2 = u2sc.loc[:, u2sc.columns!='user_id'].as_matrix()\n",
    "\n",
    "std_scale2 = preprocessing.StandardScaler().fit(X2)\n",
    "X2 = std_scale2.transform(X2)\n",
    "\n",
    "U, mu, V = pca(X, n_comps, n_iter=n_iter, raw=True)\n",
    "U2, mu2, V2 = pca(X2, n_comps, n_iter=n_iter, raw=True)\n",
    "X_transformed = U * mu\n",
    "X_transformed2 = U2 * mu2\n",
    "\n",
    "exp_var = np.var(X_transformed, axis=0)\n",
    "full_var = np.var(X, axis=0).sum()\n",
    "print(exp_var / full_var)\n",
    "\n",
    "exp_var = np.var(X_transformed2, axis=0)\n",
    "full_var = np.var(X2, axis=0).sum()\n",
    "print(exp_var / full_var)"
   ]
  },
  {
   "cell_type": "code",
   "execution_count": 6,
   "metadata": {
    "hidden": true
   },
   "outputs": [],
   "source": [
    "from sklearn.cluster import MiniBatchKMeans"
   ]
  },
  {
   "cell_type": "code",
   "execution_count": 7,
   "metadata": {
    "hidden": true
   },
   "outputs": [
    {
     "name": "stdout",
     "output_type": "stream",
     "text": [
      "CPU times: user 2min 16s, sys: 17.9 s, total: 2min 34s\n",
      "Wall time: 2min 14s\n"
     ]
    }
   ],
   "source": [
    "%%time \n",
    "km_s1 = MiniBatchKMeans(n_clusters=234, max_iter=400, n_init=4, verbose=0, max_no_improvement=40)\n",
    "km_s1.fit(X_transformed)"
   ]
  },
  {
   "cell_type": "code",
   "execution_count": 8,
   "metadata": {
    "hidden": true
   },
   "outputs": [
    {
     "name": "stdout",
     "output_type": "stream",
     "text": [
      "CPU times: user 1min 34s, sys: 380 ms, total: 1min 35s\n",
      "Wall time: 1min 35s\n"
     ]
    }
   ],
   "source": [
    "%%time \n",
    "km_s2 = MiniBatchKMeans(n_clusters=189, max_iter=600, n_init=4, verbose=0, max_no_improvement=50)\n",
    "km_s2.fit(X_transformed2)"
   ]
  },
  {
   "cell_type": "code",
   "execution_count": null,
   "metadata": {
    "hidden": true
   },
   "outputs": [],
   "source": []
  },
  {
   "cell_type": "code",
   "execution_count": 9,
   "metadata": {
    "hidden": true
   },
   "outputs": [],
   "source": [
    "svd_s1_table = pd.DataFrame.from_dict({'user_id': u1s.user_id, 'S1_PCA_KMEANS234': km_s1.labels_,\n",
    "                                       'S1_PCA1': X_transformed[:,0], 'S1_PCA2': X_transformed[:,1],\n",
    "                                       'S1_PCA3': X_transformed[:,2], 'S1_PCA4': X_transformed[:,3]\n",
    "                                      })\n",
    "svd_s2_table = pd.DataFrame.from_dict({'user_id': u2s.user_id, 'S2_PCA_KMEANS189': km_s2.labels_,\n",
    "                                       'S2_PCA1': X_transformed2[:,0], 'S2_PCA2': X_transformed2[:,1],\n",
    "                                       'S2_PCA3': X_transformed2[:,2], 'S2_PCA4': X_transformed2[:,3]\n",
    "                                      })"
   ]
  },
  {
   "cell_type": "code",
   "execution_count": 10,
   "metadata": {
    "hidden": true
   },
   "outputs": [],
   "source": [
    "users_table = pd.merge(users_table, svd_s1_table, on='user_id', how='left')\n",
    "users_table = pd.merge(users_table, svd_s2_table, on='user_id', how='left')"
   ]
  },
  {
   "cell_type": "code",
   "execution_count": 11,
   "metadata": {
    "hidden": true
   },
   "outputs": [
    {
     "name": "stdout",
     "output_type": "stream",
     "text": [
      "CPU times: user 1min 2s, sys: 28.3 s, total: 1min 31s\n",
      "Wall time: 1min 27s\n"
     ]
    }
   ],
   "source": [
    "%%time\n",
    "S1notNA = u1s.loc[:, u1s.columns != 'user_id'].count(axis=1)\n",
    "S2notNA = u2s.loc[:, u2s.columns != 'user_id'].count(axis=1)\n",
    "S1idxmax = u1s.loc[:, u1s.columns != 'user_id'].idxmax(axis=1).apply(lambda x: int(x[1:]))\n",
    "S2idxmax = u2s.loc[:, u2s.columns != 'user_id'].idxmax(axis=1).apply(lambda x: str(x)[1:] if pd.notnull(x) else -1)\n",
    "S1sum = u1s.loc[:, u1s.columns != 'user_id'].sum(axis=1)\n",
    "S2sum = u2s.loc[:, u2s.columns != 'user_id'].sum(axis=1)\n",
    "S1avg = u1s.loc[:, u1s.columns != 'user_id'].mean(axis=1) \n",
    "S2avg = u2s.loc[:, u2s.columns != 'user_id'].mean(axis=1)\n",
    "S1mad = u1s.loc[:, u1s.columns != 'user_id'].mad(axis=1) \n",
    "S2mad = u2s.loc[:, u2s.columns != 'user_id'].mad(axis=1)\n",
    "S1max = u1s.loc[:, u1s.columns != 'user_id'].max(axis=1)\n",
    "S2max = u2s.loc[:, u2s.columns != 'user_id'].max(axis=1)\n",
    "S1min = u1s.loc[:, u1s.columns != 'user_id'].min(axis=1)\n",
    "S2min = u2s.loc[:, u2s.columns != 'user_id'].min(axis=1)\n",
    "S1std = u1s.loc[:, u1s.columns != 'user_id'].std(axis=1)\n",
    "S2std = u2s.loc[:, u2s.columns != 'user_id'].std(axis=1)"
   ]
  },
  {
   "cell_type": "code",
   "execution_count": 12,
   "metadata": {
    "hidden": true
   },
   "outputs": [],
   "source": [
    "u1s['S1notNA'] = S1notNA\n",
    "u2s['S2notNA'] = S2notNA\n",
    "u1s['S1idxmax'] = S1idxmax\n",
    "u2s['S2idxmax'] = S2idxmax\n",
    "u1s['S1sum'] = S1sum\n",
    "u2s['S2sum'] = S2sum\n",
    "u1s['S1avg'] = S1avg\n",
    "u2s['S2avg'] = S2avg\n",
    "u1s['S1mad'] = S1mad\n",
    "u2s['S2mad'] = S2mad\n",
    "u1s['S1max'] = S1max\n",
    "u2s['S2max'] = S2max\n",
    "# u1s['S1min'] = S1min\n",
    "# u2s['S2min'] = S2min\n",
    "u1s['S1std'] = S1std\n",
    "u2s['S2std'] = S2std"
   ]
  },
  {
   "cell_type": "code",
   "execution_count": 13,
   "metadata": {
    "hidden": true
   },
   "outputs": [],
   "source": [
    "users_table = pd.merge(users_table, u1s.loc[:, ~np.char.startswith(np.array(map(str, u1s.columns)), 'I')], on='user_id', how='left')"
   ]
  },
  {
   "cell_type": "code",
   "execution_count": 14,
   "metadata": {
    "hidden": true
   },
   "outputs": [],
   "source": [
    "users_table = pd.merge(users_table, u2s.loc[:, ~np.char.startswith(np.array(map(str, u2s.columns)), 'J')], on='user_id', how='left')"
   ]
  },
  {
   "cell_type": "code",
   "execution_count": 15,
   "metadata": {
    "hidden": true
   },
   "outputs": [],
   "source": [
    "for field in ['C1', 'C2', 'C3', 'C4', 'C5', 'C6']:\n",
    "    users_table[field] = users_table[field].astype('category')\n",
    "    users_table[field] = users_table[field].cat.codes"
   ]
  },
  {
   "cell_type": "code",
   "execution_count": 16,
   "metadata": {
    "hidden": true
   },
   "outputs": [],
   "source": [
    "users_table.loc[users_table.C5==-1, 'C5'] = np.nan\n",
    "users_table.loc[users_table.C6==-1, 'C6'] = np.nan"
   ]
  },
  {
   "cell_type": "code",
   "execution_count": 18,
   "metadata": {
    "hidden": true
   },
   "outputs": [],
   "source": [
    "users_table.S2idxmax.fillna(-1, inplace=True)"
   ]
  },
  {
   "cell_type": "code",
   "execution_count": 21,
   "metadata": {
    "hidden": true
   },
   "outputs": [],
   "source": [
    "users_table['S2idxmax'] = users_table.S2idxmax.astype(int)"
   ]
  },
  {
   "cell_type": "code",
   "execution_count": 22,
   "metadata": {
    "hidden": true
   },
   "outputs": [
    {
     "name": "stdout",
     "output_type": "stream",
     "text": [
      "saving data_hdf/_users_table_augmented.h5... OK (13.6s)\n"
     ]
    }
   ],
   "source": [
    "deca_save(users_table, 'users_table_augmented')"
   ]
  },
  {
   "cell_type": "code",
   "execution_count": null,
   "metadata": {
    "hidden": true
   },
   "outputs": [],
   "source": []
  },
  {
   "cell_type": "code",
   "execution_count": null,
   "metadata": {
    "hidden": true
   },
   "outputs": [],
   "source": [
    "del users_table, train_table, u1s, u1sc, u2s, u2sc\n",
    "import gc\n",
    "gc.collect()"
   ]
  },
  {
   "cell_type": "markdown",
   "metadata": {
    "heading_collapsed": true
   },
   "source": [
    "# Augmenting NOTIF table"
   ]
  },
  {
   "cell_type": "markdown",
   "metadata": {
    "heading_collapsed": true,
    "hidden": true
   },
   "source": [
    "## Make a comma-separated file with words concatenated with pipe character"
   ]
  },
  {
   "cell_type": "code",
   "execution_count": 3,
   "metadata": {
    "hidden": true
   },
   "outputs": [
    {
     "name": "stdout",
     "output_type": "stream",
     "text": [
      "Convert notifs.txt to notifs_generated.csv\n"
     ]
    }
   ],
   "source": [
    "#CAN ONLY RUN FOR FIRST TIME RUN\n",
    "print('Convert notifs.txt to notifs_generated.csv')\n",
    "with open('data_raw/notifs.txt') as fh:\n",
    "    with open('data_raw/notifs_generated.csv','w') as fo:\n",
    "        fo.write('notif_id,notif_send_dow,notif_send_hour,notif_send_min,notifC,words\\n')\n",
    "        for line in fh:\n",
    "            spl_line = line.strip().split()\n",
    "            csv_line = ','.join(spl_line[:5]) + ',' + '|'.join(spl_line[5:])\n",
    "            fo.write(csv_line + '\\n')"
   ]
  },
  {
   "cell_type": "markdown",
   "metadata": {
    "heading_collapsed": true,
    "hidden": true
   },
   "source": [
    "## ICONS"
   ]
  },
  {
   "cell_type": "code",
   "execution_count": 4,
   "metadata": {
    "hidden": true
   },
   "outputs": [
    {
     "name": "stdout",
     "output_type": "stream",
     "text": [
      "loading data_hdf/_icons.h5... OK (0.2s)\n"
     ]
    }
   ],
   "source": [
    "icon_table = deca_load('icons')\n",
    "notif_col = []\n",
    "icon_hash = []\n",
    "for ic in icon_table.itertuples():\n",
    "    notif_col.append(ic.notif_id)\n",
    "    icon_hash.append(murmurhash3_32(str(ic[2:201])))\n",
    "icons_hash_table = pd.DataFrame({'notif_id': notif_col, 'icon_hash': icon_hash})"
   ]
  },
  {
   "cell_type": "code",
   "execution_count": 5,
   "metadata": {
    "hidden": true
   },
   "outputs": [],
   "source": [
    "icons_hash_table['icon_hash'] = icons_hash_table.icon_hash.astype('category')\n",
    "icons_hash_table['icon_hash'] = icons_hash_table['icon_hash'].cat.codes"
   ]
  },
  {
   "cell_type": "code",
   "execution_count": 7,
   "metadata": {
    "hidden": true
   },
   "outputs": [],
   "source": [
    "icons_notif_ids = icon_table.values[:, 0]\n",
    "icon_vals = icon_table.values[:, 1:]"
   ]
  },
  {
   "cell_type": "code",
   "execution_count": 9,
   "metadata": {
    "hidden": true
   },
   "outputs": [
    {
     "name": "stdout",
     "output_type": "stream",
     "text": [
      "CPU times: user 39.2 s, sys: 1min 58s, total: 2min 37s\n",
      "Wall time: 21.1 s\n"
     ]
    },
    {
     "data": {
      "image/png": "[encoded data removed]",
      "text/plain": [
       "<matplotlib.figure.Figure at 0x7fdc67223b90>"
      ]
     },
     "metadata": {},
     "output_type": "display_data"
    }
   ],
   "source": [
    "%%time\n",
    "km = KMeans(n_clusters=500, init='k-means++', max_iter=200, n_init=10, verbose=0)\n",
    "km.fit(icon_vals)\n",
    "plt.hist(km.labels_)"
   ]
  },
  {
   "cell_type": "code",
   "execution_count": 10,
   "metadata": {
    "hidden": true
   },
   "outputs": [],
   "source": [
    "icon_cluster500_table = pd.DataFrame.from_dict({'notif_id': icons_notif_ids, 'icon_kmeans500': km.labels_})"
   ]
  },
  {
   "cell_type": "code",
   "execution_count": 11,
   "metadata": {
    "hidden": true
   },
   "outputs": [
    {
     "name": "stdout",
     "output_type": "stream",
     "text": [
      "CPU times: user 25.6 s, sys: 1min 24s, total: 1min 50s\n",
      "Wall time: 11.9 s\n"
     ]
    },
    {
     "data": {
      "image/png": "[encoded data removed]",
      "text/plain": [
       "<matplotlib.figure.Figure at 0x7fdc6720ffd0>"
      ]
     },
     "metadata": {},
     "output_type": "display_data"
    }
   ],
   "source": [
    "%%time\n",
    "km = KMeans(n_clusters=250, init='k-means++', max_iter=200, n_init=10, verbose=0)\n",
    "km.fit(icon_vals)\n",
    "plt.hist(km.labels_)"
   ]
  },
  {
   "cell_type": "code",
   "execution_count": 12,
   "metadata": {
    "hidden": true
   },
   "outputs": [],
   "source": [
    "icon_cluster250_table = pd.DataFrame.from_dict({'notif_id': icons_notif_ids, 'icon_kmeans250': km.labels_})"
   ]
  },
  {
   "cell_type": "markdown",
   "metadata": {
    "heading_collapsed": true,
    "hidden": true
   },
   "source": [
    "## Loading"
   ]
  },
  {
   "cell_type": "code",
   "execution_count": 13,
   "metadata": {
    "hidden": true
   },
   "outputs": [
    {
     "name": "stdout",
     "output_type": "stream",
     "text": [
      "loading data_hdf/_notifs_generated.h5... OK (0.0s)\n"
     ]
    }
   ],
   "source": [
    "notif_table = deca_load('notifs_generated') #ignore warning!\n",
    "notif_table.words.fillna('-1', inplace=True) #replace NaN words with empty strings"
   ]
  },
  {
   "cell_type": "markdown",
   "metadata": {
    "heading_collapsed": true,
    "hidden": true
   },
   "source": [
    "## Add notif_send_week"
   ]
  },
  {
   "cell_type": "code",
   "execution_count": 14,
   "metadata": {
    "hidden": true
   },
   "outputs": [],
   "source": [
    "notif_table = notif_table.sort_values('notif_id')\n",
    "notif_table['notif_send_week'] = -1\n",
    "notif_table.loc[(notif_table['notif_id']<462194) & (notif_table['notif_send_dow']==7),'notif_send_week'] = 0\n",
    "\n",
    "notif_table.loc[(notif_table['notif_id']<462194) & (notif_table['notif_send_dow']!=7),'notif_send_week'] = 1\n",
    "\n",
    "notif_table.loc[(notif_table['notif_id']>=457911) & \n",
    "           (notif_table['notif_id']<=472809) &\n",
    "           (notif_table['notif_send_dow']==7)\n",
    "           ,'notif_send_week'] = 1\n",
    "\n",
    "notif_table.loc[(notif_table['notif_id']>=457911) & \n",
    "           (notif_table['notif_id']<=473484) &\n",
    "           (notif_table['notif_send_dow']==1)\n",
    "           ,'notif_send_week'] = 2\n",
    "\n",
    "notif_table.loc[(notif_table['notif_id']>=465122) & \n",
    "           (notif_table['notif_id']<=515727) &\n",
    "           (notif_table['notif_send_dow']!=7)\n",
    "           ,'notif_send_week'] = 2\n",
    "\n",
    "notif_table.loc[(notif_table['notif_id']>=504141) & \n",
    "           (notif_table['notif_id']<=532385) &\n",
    "           (notif_table['notif_send_dow']==7)\n",
    "           ,'notif_send_week'] = 2\n",
    "\n",
    "notif_table.loc[(notif_table['notif_id']>=510200) & \n",
    "           (notif_table['notif_send_dow']==1)\n",
    "           ,'notif_send_week'] = 3\n",
    "\n",
    "notif_table.loc[(notif_table['notif_id']>=520098) & \n",
    "           (notif_table['notif_send_dow']!=7)\n",
    "           ,'notif_send_week'] = 3\n",
    "notif_table['notif_send_week'] = notif_table['notif_send_week'].astype(int)"
   ]
  },
  {
   "cell_type": "markdown",
   "metadata": {
    "heading_collapsed": true,
    "hidden": true
   },
   "source": [
    "## Adding icon and sentence"
   ]
  },
  {
   "cell_type": "code",
   "execution_count": 15,
   "metadata": {
    "hidden": true
   },
   "outputs": [],
   "source": [
    "notif_table['sentenceC'] = notif_table['words'].apply(murmurhash3_32) \n",
    "notif_table['sentenceC'] = notif_table['sentenceC'].astype('category')\n",
    "notif_table['sentenceC'] = notif_table['sentenceC'].cat.codes"
   ]
  },
  {
   "cell_type": "code",
   "execution_count": 16,
   "metadata": {
    "hidden": true
   },
   "outputs": [],
   "source": [
    "notif_table = notif_table.merge(icons_hash_table, on='notif_id', how='left')\n",
    "notif_table = notif_table.merge(icon_cluster250_table, on='notif_id', how='left')\n",
    "notif_table = notif_table.merge(icon_cluster500_table, on='notif_id', how='left')\n",
    "notif_table.icon_hash.fillna('-999', inplace=True)\n",
    "notif_table.icon_kmeans250.fillna('-999', inplace=True)\n",
    "notif_table.icon_kmeans500.fillna('-999', inplace=True)\n",
    "notif_table['icon_hash'] = notif_table['icon_hash'].astype(int)\n",
    "notif_table['icon_kmeans250'] = notif_table['icon_kmeans250'].astype(int)\n",
    "notif_table['icon_kmeans500'] = notif_table['icon_kmeans500'].astype(int)"
   ]
  },
  {
   "cell_type": "code",
   "execution_count": 59,
   "metadata": {
    "hidden": true
   },
   "outputs": [],
   "source": [
    "# notif_table['pair_sentence_icon'] = notif_table.apply(lambda row: murmurhash3_32('{}_{}'.format(row['sentenceC'], row['icon_hash'])), axis=1)"
   ]
  },
  {
   "cell_type": "markdown",
   "metadata": {
    "heading_collapsed": true,
    "hidden": true
   },
   "source": [
    "## Binning time (hour)"
   ]
  },
  {
   "cell_type": "code",
   "execution_count": 23,
   "metadata": {
    "hidden": true
   },
   "outputs": [],
   "source": [
    "notif_table['notif_time_bin'] = notif_table.notif_send_hour.apply(get_hour_bin)"
   ]
  },
  {
   "cell_type": "markdown",
   "metadata": {
    "hidden": true
   },
   "source": [
    "## Clustering notifications based on words"
   ]
  },
  {
   "cell_type": "code",
   "execution_count": 24,
   "metadata": {
    "hidden": true
   },
   "outputs": [],
   "source": [
    "notif_ids = []\n",
    "notif_sentences = []\n",
    "for notif in notif_table.itertuples():\n",
    "    sentence = ' '.join(notif.words.split('|'))\n",
    "    notif_ids.append(notif.notif_id)\n",
    "    notif_sentences.append(sentence)"
   ]
  },
  {
   "cell_type": "code",
   "execution_count": 28,
   "metadata": {
    "hidden": true
   },
   "outputs": [
    {
     "name": "stdout",
     "output_type": "stream",
     "text": [
      "CPU times: user 20.8 s, sys: 196 ms, total: 21 s\n",
      "Wall time: 20.9 s\n"
     ]
    },
    {
     "data": {
      "image/png": "[encoded data removed]",
      "text/plain": [
       "<matplotlib.figure.Figure at 0x7fdc6720ff50>"
      ]
     },
     "metadata": {},
     "output_type": "display_data"
    }
   ],
   "source": [
    "%%time\n",
    "vectorizer = TfidfVectorizer(ngram_range=(1, 2))\n",
    "vectorizer.fit(notif_sentences)\n",
    "X_train_counts = vectorizer.transform(notif_sentences)\n",
    "km = KMeans(n_clusters=270, init='k-means++', max_iter=100, n_init=10, verbose=0)\n",
    "km.fit(X_train_counts)\n",
    "plt.hist(km.labels_)"
   ]
  },
  {
   "cell_type": "code",
   "execution_count": 29,
   "metadata": {
    "hidden": true
   },
   "outputs": [],
   "source": [
    "cluster_table = pd.DataFrame.from_dict({'notif_id': notif_ids, 'notif_kmeans': km.labels_})\n",
    "notif_table = pd.merge(notif_table, cluster_table, on='notif_id', how='left')"
   ]
  },
  {
   "cell_type": "code",
   "execution_count": 31,
   "metadata": {
    "hidden": true
   },
   "outputs": [
    {
     "name": "stdout",
     "output_type": "stream",
     "text": [
      "CPU times: user 41.5 s, sys: 2.84 s, total: 44.3 s\n",
      "Wall time: 44.2 s\n"
     ]
    },
    {
     "data": {
      "image/png": "[encoded data removed]",
      "text/plain": [
       "<matplotlib.figure.Figure at 0x7fdbfac62c90>"
      ]
     },
     "metadata": {},
     "output_type": "display_data"
    }
   ],
   "source": [
    "%%time\n",
    "vectorizer = TfidfVectorizer(ngram_range=(1, 2))\n",
    "vectorizer.fit(notif_sentences)\n",
    "X_train_counts = vectorizer.transform(notif_sentences)\n",
    "km = KMeans(n_clusters=520, init='k-means++', max_iter=100, n_init=10, verbose=0)\n",
    "km.fit(X_train_counts)\n",
    "plt.hist(km.labels_)"
   ]
  },
  {
   "cell_type": "code",
   "execution_count": 32,
   "metadata": {
    "hidden": true
   },
   "outputs": [],
   "source": [
    "cluster_table = pd.DataFrame.from_dict({'notif_id': notif_ids, 'notif_kmeans520': km.labels_})\n",
    "notif_table = pd.merge(notif_table, cluster_table, on='notif_id', how='left')"
   ]
  },
  {
   "cell_type": "code",
   "execution_count": 35,
   "metadata": {
    "hidden": true
   },
   "outputs": [],
   "source": [
    "notif_table['words_count'] = notif_table.words.apply(lambda x: len(x.split('|')))"
   ]
  },
  {
   "cell_type": "code",
   "execution_count": 36,
   "metadata": {
    "hidden": true
   },
   "outputs": [
    {
     "name": "stdout",
     "output_type": "stream",
     "text": [
      "saving data_hdf/_notifs_table_augmented.h5... OK (0.0s)\n"
     ]
    },
    {
     "name": "stderr",
     "output_type": "stream",
     "text": [
      "/home/nima_mohammadi/myenv/local/lib/python2.7/site-packages/pandas/core/generic.py:1471: PerformanceWarning: \n",
      "your performance may suffer as PyTables will pickle object types that it cannot\n",
      "map directly to c-types [inferred_type->mixed-integer,key->block3_values] [items->['notif_id', 'words']]\n",
      "\n",
      "  return pytables.to_hdf(path_or_buf, key, self, **kwargs)\n"
     ]
    }
   ],
   "source": [
    "deca_save(notif_table, 'notifs_table_augmented')"
   ]
  },
  {
   "cell_type": "code",
   "execution_count": 68,
   "metadata": {
    "hidden": true
   },
   "outputs": [],
   "source": [
    "# def create_aug_notif_features(train_tbl, notifs_tbl, field):\n",
    "#     notifs = notifs_tbl[['notif_id', field]]\n",
    "#     train = pd.merge(train_tbl, notifs, on='notif_id', how='left')\n",
    "#     clicks_field = train.groupby(field).interaction.sum()\n",
    "#     imps_field = train.groupby(field).interaction.count()\n",
    "#     augtable = clicks_field.to_frame('clicks_{}'.format(field))\n",
    "#     augtable = augtable.merge(imps_field.to_frame('imps_{}'.format(field)), left_index=True, right_index=True)\n",
    "#     augtable = augtable.merge(notifs[field].value_counts().to_frame('dist_u_{}'.format(field)), left_index=True, right_index=True)\n",
    "#     augtable['cr_{}'.format(field)] = augtable['clicks_{}'.format(field)] / augtable['imps_{}'.format(field)]\n",
    "#     augtable['conf_{}'.format(field)] = np.log1p(augtable['imps_{}'.format(field)] / augtable['dist_u_{}'.format(field)])\n",
    "#     augtable['cr_{}_bin'.format(field)] =  pd.qcut(augtable['cr_{}'.format(field)], 7)\n",
    "#     augtable['cr_{}_bin'.format(field)] =  augtable['cr_{}_bin'.format(field)].cat.codes\n",
    "#     augtable['conf_{}_bin'.format(field)] =  pd.qcut(augtable['conf_{}'.format(field)], 7)\n",
    "#     augtable['conf_{}_bin'.format(field)] =  augtable['conf_{}_bin'.format(field)].cat.codes\n",
    "#     return augtable\n",
    "# train_table = deca_load('train_interactions')\n",
    "# for field in ['notifC', 'notif_kmeans', 'notif_time_bin', ]:\n",
    "#     print('Calculating CR and CONFIDENCE for {}'.format(field))\n",
    "#     augt = create_aug_notif_features(train_table, notif_table, field)\n",
    "#     notif_table = pd.merge(notif_table, augt, left_on=field, right_index=True, how='left')"
   ]
  },
  {
   "cell_type": "markdown",
   "metadata": {
    "heading_collapsed": true,
    "hidden": true
   },
   "source": [
    "## Adding raw notif time"
   ]
  },
  {
   "cell_type": "code",
   "execution_count": 10,
   "metadata": {
    "hidden": true
   },
   "outputs": [],
   "source": [
    "def time_calc(row):\n",
    "    t = row.notif_send_week * 7\n",
    "    t = (t + (row.notif_send_dow - 1)) * 24\n",
    "    return ((t + row.notif_send_hour) * 60) + row.notif_send_min"
   ]
  },
  {
   "cell_type": "code",
   "execution_count": 3,
   "metadata": {
    "hidden": true
   },
   "outputs": [
    {
     "name": "stdout",
     "output_type": "stream",
     "text": [
      "loading data_hdf/_notifs_table_augmented.h5... OK (0.3s)\n"
     ]
    }
   ],
   "source": [
    "notifs_table_augmented = deca_load('notifs_table_augmented')"
   ]
  },
  {
   "cell_type": "code",
   "execution_count": 4,
   "metadata": {
    "hidden": true
   },
   "outputs": [
    {
     "data": {
      "text/html": [
       "<div>\n",
       "<style scoped>\n",
       "    .dataframe tbody tr th:only-of-type {\n",
       "        vertical-align: middle;\n",
       "    }\n",
       "\n",
       "    .dataframe tbody tr th {\n",
       "        vertical-align: top;\n",
       "    }\n",
       "\n",
       "    .dataframe thead th {\n",
       "        text-align: right;\n",
       "    }\n",
       "</style>\n",
       "<table border=\"1\" class=\"dataframe\">\n",
       "  <thead>\n",
       "    <tr style=\"text-align: right;\">\n",
       "      <th></th>\n",
       "      <th>notif_id</th>\n",
       "      <th>notif_send_dow</th>\n",
       "      <th>notif_send_hour</th>\n",
       "      <th>notif_send_min</th>\n",
       "      <th>notifC</th>\n",
       "      <th>words</th>\n",
       "      <th>notif_send_week</th>\n",
       "      <th>sentenceC</th>\n",
       "      <th>icon_hash</th>\n",
       "      <th>icon_kmeans250</th>\n",
       "      <th>icon_kmeans500</th>\n",
       "      <th>notif_time_bin</th>\n",
       "      <th>notif_kmeans</th>\n",
       "      <th>notif_kmeans520</th>\n",
       "      <th>words_count</th>\n",
       "    </tr>\n",
       "  </thead>\n",
       "  <tbody>\n",
       "    <tr>\n",
       "      <th>0</th>\n",
       "      <td>406173</td>\n",
       "      <td>1</td>\n",
       "      <td>6</td>\n",
       "      <td>30</td>\n",
       "      <td>7</td>\n",
       "      <td>26|1291|1|141|114|34|1291|153|1209|13|26|1291|...</td>\n",
       "      <td>1</td>\n",
       "      <td>2</td>\n",
       "      <td>385</td>\n",
       "      <td>200</td>\n",
       "      <td>264</td>\n",
       "      <td>1</td>\n",
       "      <td>57</td>\n",
       "      <td>280</td>\n",
       "      <td>24</td>\n",
       "    </tr>\n",
       "    <tr>\n",
       "      <th>1</th>\n",
       "      <td>406289</td>\n",
       "      <td>1</td>\n",
       "      <td>6</td>\n",
       "      <td>44</td>\n",
       "      <td>7</td>\n",
       "      <td>26|1291|1|141|114|34|1291|153|1209|13|26|1291|...</td>\n",
       "      <td>1</td>\n",
       "      <td>2</td>\n",
       "      <td>1719</td>\n",
       "      <td>200</td>\n",
       "      <td>264</td>\n",
       "      <td>1</td>\n",
       "      <td>57</td>\n",
       "      <td>280</td>\n",
       "      <td>24</td>\n",
       "    </tr>\n",
       "    <tr>\n",
       "      <th>2</th>\n",
       "      <td>406320</td>\n",
       "      <td>1</td>\n",
       "      <td>6</td>\n",
       "      <td>56</td>\n",
       "      <td>7</td>\n",
       "      <td>26|1291|1|141|114|34|1291|153|1209|13|26|1291|...</td>\n",
       "      <td>1</td>\n",
       "      <td>2</td>\n",
       "      <td>1719</td>\n",
       "      <td>200</td>\n",
       "      <td>264</td>\n",
       "      <td>1</td>\n",
       "      <td>57</td>\n",
       "      <td>280</td>\n",
       "      <td>24</td>\n",
       "    </tr>\n",
       "    <tr>\n",
       "      <th>3</th>\n",
       "      <td>408582</td>\n",
       "      <td>1</td>\n",
       "      <td>9</td>\n",
       "      <td>30</td>\n",
       "      <td>7</td>\n",
       "      <td>403|181|1|606|8|6|1109|376|24|827</td>\n",
       "      <td>1</td>\n",
       "      <td>1094</td>\n",
       "      <td>122</td>\n",
       "      <td>65</td>\n",
       "      <td>125</td>\n",
       "      <td>2</td>\n",
       "      <td>162</td>\n",
       "      <td>289</td>\n",
       "      <td>10</td>\n",
       "    </tr>\n",
       "    <tr>\n",
       "      <th>4</th>\n",
       "      <td>410149</td>\n",
       "      <td>1</td>\n",
       "      <td>6</td>\n",
       "      <td>43</td>\n",
       "      <td>7</td>\n",
       "      <td>302|211|1|1350|203|13|1351|3|203|229|14</td>\n",
       "      <td>1</td>\n",
       "      <td>517</td>\n",
       "      <td>2489</td>\n",
       "      <td>203</td>\n",
       "      <td>225</td>\n",
       "      <td>1</td>\n",
       "      <td>194</td>\n",
       "      <td>165</td>\n",
       "      <td>11</td>\n",
       "    </tr>\n",
       "  </tbody>\n",
       "</table>\n",
       "</div>"
      ],
      "text/plain": [
       "  notif_id  notif_send_dow  notif_send_hour  notif_send_min  notifC  \\\n",
       "0   406173               1                6              30       7   \n",
       "1   406289               1                6              44       7   \n",
       "2   406320               1                6              56       7   \n",
       "3   408582               1                9              30       7   \n",
       "4   410149               1                6              43       7   \n",
       "\n",
       "                                               words  notif_send_week  \\\n",
       "0  26|1291|1|141|114|34|1291|153|1209|13|26|1291|...                1   \n",
       "1  26|1291|1|141|114|34|1291|153|1209|13|26|1291|...                1   \n",
       "2  26|1291|1|141|114|34|1291|153|1209|13|26|1291|...                1   \n",
       "3                  403|181|1|606|8|6|1109|376|24|827                1   \n",
       "4            302|211|1|1350|203|13|1351|3|203|229|14                1   \n",
       "\n",
       "   sentenceC  icon_hash  icon_kmeans250  icon_kmeans500  notif_time_bin  \\\n",
       "0          2        385             200             264               1   \n",
       "1          2       1719             200             264               1   \n",
       "2          2       1719             200             264               1   \n",
       "3       1094        122              65             125               2   \n",
       "4        517       2489             203             225               1   \n",
       "\n",
       "   notif_kmeans  notif_kmeans520  words_count  \n",
       "0            57              280           24  \n",
       "1            57              280           24  \n",
       "2            57              280           24  \n",
       "3           162              289           10  \n",
       "4           194              165           11  "
      ]
     },
     "execution_count": 4,
     "metadata": {},
     "output_type": "execute_result"
    }
   ],
   "source": [
    "notifs_table_augmented.head()"
   ]
  },
  {
   "cell_type": "code",
   "execution_count": 12,
   "metadata": {
    "hidden": true
   },
   "outputs": [],
   "source": [
    "notifs_table_augmented['notif_time_raw'] = notifs_table_augmented.apply(time_calc, axis=1)"
   ]
  },
  {
   "cell_type": "code",
   "execution_count": 16,
   "metadata": {
    "hidden": true
   },
   "outputs": [
    {
     "name": "stdout",
     "output_type": "stream",
     "text": [
      "saving data_hdf/_notifs_table_augmented.h5... OK (0.1s)\n"
     ]
    },
    {
     "name": "stderr",
     "output_type": "stream",
     "text": [
      "/home/nima_mohammadi/myenv/local/lib/python2.7/site-packages/pandas/core/generic.py:1471: PerformanceWarning: \n",
      "your performance may suffer as PyTables will pickle object types that it cannot\n",
      "map directly to c-types [inferred_type->mixed-integer,key->block3_values] [items->['notif_id', 'words']]\n",
      "\n",
      "  return pytables.to_hdf(path_or_buf, key, self, **kwargs)\n"
     ]
    }
   ],
   "source": [
    "deca_save(notifs_table_augmented, 'notifs_table_augmented')"
   ]
  },
  {
   "cell_type": "code",
   "execution_count": null,
   "metadata": {
    "hidden": true
   },
   "outputs": [],
   "source": []
  },
  {
   "cell_type": "markdown",
   "metadata": {
    "heading_collapsed": true
   },
   "source": [
    "# User Profile"
   ]
  },
  {
   "cell_type": "markdown",
   "metadata": {
    "hidden": true
   },
   "source": [
    "## Users' Latent Factors"
   ]
  },
  {
   "cell_type": "markdown",
   "metadata": {
    "heading_collapsed": true,
    "hidden": true
   },
   "source": [
    "### Train and Valid"
   ]
  },
  {
   "cell_type": "code",
   "execution_count": 3,
   "metadata": {
    "hidden": true
   },
   "outputs": [],
   "source": [
    "import scipy as sp\n",
    "from sklearn.preprocessing import StandardScaler\n",
    "import fbpca as fb\n",
    "from sklearn.cluster import MiniBatchKMeans, KMeans"
   ]
  },
  {
   "cell_type": "code",
   "execution_count": 4,
   "metadata": {
    "hidden": true
   },
   "outputs": [
    {
     "name": "stdout",
     "output_type": "stream",
     "text": [
      "loading data_hdf/_train_split.h5... OK (3.9s)\n",
      "loading data_hdf/_valid_split.h5... OK (0.4s)\n"
     ]
    }
   ],
   "source": [
    "train_split = deca_load('train_split')\n",
    "valid_split = deca_load('valid_split')\n",
    "notif_ids = list(set(train_split.notif_id.unique()).union(valid_split.notif_id.unique()))\n",
    "tbl_trn = train_split\n",
    "tbl_tst = valid_split"
   ]
  },
  {
   "cell_type": "code",
   "execution_count": 5,
   "metadata": {
    "hidden": true
   },
   "outputs": [],
   "source": [
    "tbl_tst['interaction'] = 1\n",
    "tbl_trn.loc[tbl_trn.interaction==1, 'interaction'] = 2\n",
    "tbl_trn.loc[tbl_trn.interaction==0, 'interaction'] = 1\n",
    "tbl_joined = pd.concat([tbl_trn, tbl_tst])\n",
    "tbl_joined = tbl_joined[['user_id', 'notif_id', 'interaction']]\n",
    "\n",
    "user_ids = list(tbl_joined.user_id.unique())\n",
    "notif_ids = list(tbl_joined.notif_id.unique())\n",
    "\n",
    "notif_ids_map = {j: i for i, j in enumerate(notif_ids)}\n",
    "user_ids_map = {j: i for i, j in enumerate(user_ids)}\n",
    "\n",
    "notif_ids_map_rev = {j: i for i, j in notif_ids_map.iteritems()}\n",
    "user_ids_map_rev = {j: i for i, j in user_ids_map.iteritems()}\n",
    "\n",
    "notif_ids_mapping = pd.DataFrame(notif_ids_map.items()).set_index(0).iloc[:,0]\n",
    "user_ids_mapping = pd.DataFrame(user_ids_map.items()).set_index(0).iloc[:,0]"
   ]
  },
  {
   "cell_type": "code",
   "execution_count": 6,
   "metadata": {
    "hidden": true
   },
   "outputs": [],
   "source": [
    "tbl_joined['nid'] = tbl_joined.notif_id.map(notif_ids_mapping)\n",
    "tbl_joined['uid'] = tbl_joined.user_id.map(user_ids_mapping)"
   ]
  },
  {
   "cell_type": "code",
   "execution_count": 7,
   "metadata": {
    "hidden": true
   },
   "outputs": [
    {
     "name": "stderr",
     "output_type": "stream",
     "text": [
      "/home/nima_mohammadi/myenv/local/lib/python2.7/site-packages/sklearn/utils/validation.py:475: DataConversionWarning: Data with input dtype int64 was converted to float64 by StandardScaler.\n",
      "  warnings.warn(msg, DataConversionWarning)\n"
     ]
    }
   ],
   "source": [
    "ratings_split = sp.sparse.csr_matrix((tbl_joined.loc[:, 'interaction'], (tbl_joined.loc[:, 'uid'], tbl_joined.loc[:, 'nid'])))\n",
    "scaler = StandardScaler(with_mean=False)\n",
    "scaled_ratings_split = scaler.fit_transform(ratings_split)"
   ]
  },
  {
   "cell_type": "code",
   "execution_count": 8,
   "metadata": {
    "hidden": true
   },
   "outputs": [],
   "source": [
    "n_comps = 10"
   ]
  },
  {
   "cell_type": "code",
   "execution_count": 9,
   "metadata": {
    "hidden": true
   },
   "outputs": [
    {
     "name": "stdout",
     "output_type": "stream",
     "text": [
      "CPU times: user 1min 27s, sys: 1min 47s, total: 3min 15s\n",
      "Wall time: 1min 16s\n"
     ]
    }
   ],
   "source": [
    "%%time\n",
    "# U, mu, V = fb.pca(ratings_split, n_comps, raw=True, n_iter=30)\n",
    "U_scale, mu_scale, V_scale = fb.pca(scaled_ratings_split, n_comps, raw=True, n_iter=30)"
   ]
  },
  {
   "cell_type": "code",
   "execution_count": 10,
   "metadata": {
    "hidden": true
   },
   "outputs": [],
   "source": [
    "# UsvdSplitOrig = pd.DataFrame(U, index=[user_ids_map_rev[i] for i in range(U.shape[0])], columns=['USVD{}'.format(i) for i in range(U.shape[1])])\n",
    "UsvdSplitScaled = pd.DataFrame(U_scale, index=[user_ids_map_rev[i] for i in range(U_scale.shape[0])], columns=['USVD{}'.format(i) for i in range(U_scale.shape[1])])\n",
    "# VsvdSplitOrig = pd.DataFrame(V.T, index=[notif_ids_map_rev[i] for i in range(V.T.shape[0])], columns=['VSVD{}'.format(i) for i in range(V.T.shape[1])])\n",
    "VsvdSplitScaled = pd.DataFrame(V_scale.T, index=[notif_ids_map_rev[i] for i in range(V_scale.T.shape[0])], columns=['VSVD{}'.format(i) for i in range(V_scale.T.shape[1])])"
   ]
  },
  {
   "cell_type": "code",
   "execution_count": 11,
   "metadata": {
    "hidden": true
   },
   "outputs": [
    {
     "name": "stdout",
     "output_type": "stream",
     "text": [
      "CPU times: user 10.8 s, sys: 116 ms, total: 10.9 s\n",
      "Wall time: 10.9 s\n"
     ]
    }
   ],
   "source": [
    "%%time\n",
    "km = MiniBatchKMeans(n_clusters=150, max_iter=400, n_init=7, verbose=0, max_no_improvement=40)\n",
    "km.fit(U_scale)\n",
    "UsvdSplitScaled['Usvd_kmeans150'] = km.labels_"
   ]
  },
  {
   "cell_type": "code",
   "execution_count": 12,
   "metadata": {
    "hidden": true
   },
   "outputs": [
    {
     "name": "stdout",
     "output_type": "stream",
     "text": [
      "CPU times: user 6.81 s, sys: 39.2 s, total: 46 s\n",
      "Wall time: 1.44 s\n"
     ]
    }
   ],
   "source": [
    "%%time\n",
    "km = KMeans(n_clusters=111, init='k-means++', max_iter=100, n_init=10, verbose=0)\n",
    "km.fit(V_scale.T)\n",
    "VsvdSplitScaled['Vsvd_kmeans111'] = km.labels_"
   ]
  },
  {
   "cell_type": "code",
   "execution_count": 13,
   "metadata": {
    "hidden": true
   },
   "outputs": [
    {
     "name": "stdout",
     "output_type": "stream",
     "text": [
      "saving data_hdf/_UsvdSplitScaled.h5... OK (2.2s)\n",
      "saving data_hdf/_VsvdSplitScaled.h5... OK (0.1s)\n"
     ]
    }
   ],
   "source": [
    "# deca_save(UsvdSplitOrig, 'UsvdSplitOrig')\n",
    "deca_save(UsvdSplitScaled, 'UsvdSplitScaled')\n",
    "# deca_save(VsvdSplitOrig, 'VsvdSplitOrig')\n",
    "deca_save(VsvdSplitScaled, 'VsvdSplitScaled')"
   ]
  },
  {
   "cell_type": "code",
   "execution_count": null,
   "metadata": {
    "hidden": true
   },
   "outputs": [],
   "source": []
  },
  {
   "cell_type": "markdown",
   "metadata": {
    "hidden": true
   },
   "source": [
    "### Full Train"
   ]
  },
  {
   "cell_type": "code",
   "execution_count": 3,
   "metadata": {
    "hidden": true
   },
   "outputs": [],
   "source": [
    "import scipy as sp\n",
    "from sklearn.preprocessing import StandardScaler\n",
    "import fbpca as fb\n",
    "from sklearn.cluster import MiniBatchKMeans, KMeans"
   ]
  },
  {
   "cell_type": "code",
   "execution_count": 4,
   "metadata": {
    "hidden": true
   },
   "outputs": [
    {
     "name": "stdout",
     "output_type": "stream",
     "text": [
      "loading data_hdf/_train_interactions.h5... OK (6.6s)\n",
      "loading data_hdf/_test.h5... OK (0.2s)\n"
     ]
    }
   ],
   "source": [
    "full_train_table = deca_load('train_interactions').reset_index(drop=True)\n",
    "test = deca_load('test').reset_index(drop=True)\n",
    "notif_ids = list(set(full_train_table.notif_id.unique()).union(test.notif_id.unique()))\n",
    "tbl_trn = full_train_table\n",
    "tbl_tst = test"
   ]
  },
  {
   "cell_type": "code",
   "execution_count": 5,
   "metadata": {
    "hidden": true
   },
   "outputs": [],
   "source": [
    "tbl_tst['interaction'] = 1\n",
    "tbl_trn.loc[tbl_trn.interaction==1, 'interaction'] = 2\n",
    "tbl_trn.loc[tbl_trn.interaction==0, 'interaction'] = 1\n",
    "tbl_joined = pd.concat([tbl_trn, tbl_tst])\n",
    "tbl_joined = tbl_joined[['user_id', 'notif_id', 'interaction']]\n",
    "\n",
    "user_ids = list(tbl_joined.user_id.unique())\n",
    "notif_ids = list(tbl_joined.notif_id.unique())\n",
    "\n",
    "notif_ids_map = {j: i for i, j in enumerate(notif_ids)}\n",
    "user_ids_map = {j: i for i, j in enumerate(user_ids)}\n",
    "\n",
    "notif_ids_map_rev = {j: i for i, j in notif_ids_map.iteritems()}\n",
    "user_ids_map_rev = {j: i for i, j in user_ids_map.iteritems()}\n",
    "\n",
    "notif_ids_mapping = pd.DataFrame(notif_ids_map.items()).set_index(0).iloc[:,0]\n",
    "user_ids_mapping = pd.DataFrame(user_ids_map.items()).set_index(0).iloc[:,0]"
   ]
  },
  {
   "cell_type": "code",
   "execution_count": 6,
   "metadata": {
    "hidden": true
   },
   "outputs": [],
   "source": [
    "tbl_joined['nid'] = tbl_joined.notif_id.map(notif_ids_mapping)\n",
    "tbl_joined['uid'] = tbl_joined.user_id.map(user_ids_mapping)"
   ]
  },
  {
   "cell_type": "code",
   "execution_count": 7,
   "metadata": {
    "hidden": true
   },
   "outputs": [
    {
     "name": "stderr",
     "output_type": "stream",
     "text": [
      "/home/nima_mohammadi/myenv/local/lib/python2.7/site-packages/sklearn/utils/validation.py:475: DataConversionWarning: Data with input dtype int64 was converted to float64 by StandardScaler.\n",
      "  warnings.warn(msg, DataConversionWarning)\n"
     ]
    }
   ],
   "source": [
    "ratings_full = sp.sparse.csr_matrix((tbl_joined.loc[:, 'interaction'], (tbl_joined.loc[:, 'uid'], tbl_joined.loc[:, 'nid'])))\n",
    "scaler = StandardScaler(with_mean=False)\n",
    "scaled_ratings_full = scaler.fit_transform(ratings_full)"
   ]
  },
  {
   "cell_type": "code",
   "execution_count": 8,
   "metadata": {
    "hidden": true
   },
   "outputs": [],
   "source": [
    "n_comps = 10"
   ]
  },
  {
   "cell_type": "code",
   "execution_count": 9,
   "metadata": {
    "hidden": true
   },
   "outputs": [
    {
     "name": "stdout",
     "output_type": "stream",
     "text": [
      "CPU times: user 2min 20s, sys: 2min 10s, total: 4min 31s\n",
      "Wall time: 2min 8s\n"
     ]
    }
   ],
   "source": [
    "%%time\n",
    "U_scale, mu_scale, V_scale = fb.pca(scaled_ratings_full, n_comps, raw=True, n_iter=30)"
   ]
  },
  {
   "cell_type": "code",
   "execution_count": 10,
   "metadata": {
    "hidden": true
   },
   "outputs": [],
   "source": [
    "UsvdFullScaled = pd.DataFrame(U_scale, index=[user_ids_map_rev[i] for i in range(U_scale.shape[0])], columns=['USVD{}'.format(i) for i in range(U_scale.shape[1])])\n",
    "VsvdFullScaled = pd.DataFrame(V_scale.T, index=[notif_ids_map_rev[i] for i in range(V_scale.T.shape[0])], columns=['VSVD{}'.format(i) for i in range(V_scale.T.shape[1])])"
   ]
  },
  {
   "cell_type": "code",
   "execution_count": 11,
   "metadata": {
    "hidden": true
   },
   "outputs": [
    {
     "name": "stdout",
     "output_type": "stream",
     "text": [
      "CPU times: user 16.3 s, sys: 148 ms, total: 16.5 s\n",
      "Wall time: 16.5 s\n"
     ]
    }
   ],
   "source": [
    "%%time\n",
    "km = MiniBatchKMeans(n_clusters=150, max_iter=400, n_init=7, verbose=0, max_no_improvement=40)\n",
    "km.fit(U_scale)\n",
    "UsvdFullScaled['Usvd_kmeans150'] = km.labels_"
   ]
  },
  {
   "cell_type": "code",
   "execution_count": 12,
   "metadata": {
    "hidden": true
   },
   "outputs": [
    {
     "name": "stdout",
     "output_type": "stream",
     "text": [
      "CPU times: user 7.05 s, sys: 38.1 s, total: 45.1 s\n",
      "Wall time: 1.43 s\n"
     ]
    }
   ],
   "source": [
    "%%time\n",
    "km = KMeans(n_clusters=111, init='k-means++', max_iter=100, n_init=10, verbose=0)\n",
    "km.fit(V_scale.T)\n",
    "VsvdFullScaled['Vsvd_kmeans111'] = km.labels_"
   ]
  },
  {
   "cell_type": "code",
   "execution_count": 13,
   "metadata": {
    "hidden": true
   },
   "outputs": [
    {
     "name": "stdout",
     "output_type": "stream",
     "text": [
      "saving data_hdf/_UsvdFullScaled.h5... OK (1.7s)\n",
      "saving data_hdf/_VsvdFullScaled.h5... OK (0.0s)\n"
     ]
    }
   ],
   "source": [
    "deca_save(UsvdFullScaled, 'UsvdFullScaled')\n",
    "deca_save(VsvdFullScaled, 'VsvdFullScaled')"
   ]
  },
  {
   "cell_type": "code",
   "execution_count": null,
   "metadata": {
    "hidden": true
   },
   "outputs": [],
   "source": []
  },
  {
   "cell_type": "markdown",
   "metadata": {
    "heading_collapsed": true,
    "hidden": true
   },
   "source": [
    "## User-Notif similarity based on words (disabled)"
   ]
  },
  {
   "cell_type": "code",
   "execution_count": 3,
   "metadata": {
    "hidden": true
   },
   "outputs": [],
   "source": [
    "from sklearn.feature_extraction.text import TfidfVectorizer\n",
    "from scipy import linalg, dot"
   ]
  },
  {
   "cell_type": "code",
   "execution_count": 4,
   "metadata": {
    "hidden": true
   },
   "outputs": [
    {
     "name": "stdout",
     "output_type": "stream",
     "text": [
      "loading data_hdf/_notifs_generated.h5... OK (0.3s)\n"
     ]
    }
   ],
   "source": [
    "notif_table = deca_load('notifs_generated') #ignore warning!\n",
    "notif_table.words.fillna('-1', inplace=True) #replace NaN words with empty strings"
   ]
  },
  {
   "cell_type": "code",
   "execution_count": 39,
   "metadata": {
    "hidden": true
   },
   "outputs": [],
   "source": [
    "notif_ids = []\n",
    "notif_sentences = []\n",
    "notif_table = notif_table.sort_values('notif_id')\n",
    "for notif in notif_table.itertuples():\n",
    "    sentence = ' '.join(notif.words.split('|'))\n",
    "    notif_ids.append(notif.notif_id)\n",
    "    notif_sentences.append(sentence)\n",
    "vectorizer = TfidfVectorizer(min_df=.00065, max_df=.1, sublinear_tf = True) # max_features=200, ngram_range=(0,3)\n",
    "vectorizer.fit(notif_sentences)\n",
    "notif_prof = vectorizer.transform(notif_sentences).todense()"
   ]
  },
  {
   "cell_type": "code",
   "execution_count": null,
   "metadata": {
    "hidden": true
   },
   "outputs": [],
   "source": []
  },
  {
   "cell_type": "code",
   "execution_count": 49,
   "metadata": {
    "hidden": true
   },
   "outputs": [],
   "source": [
    "import sklearn.metrics"
   ]
  },
  {
   "cell_type": "code",
   "execution_count": 50,
   "metadata": {
    "hidden": true
   },
   "outputs": [],
   "source": [
    "def similarity_users_notifs(tbl, notif_ids, notif_prof):\n",
    "    interacts = tbl[tbl.interaction==1][['user_id', 'notif_id', 'interaction']]\n",
    "    interacts = interacts.append([{'user_id': -1, 'notif_id': nid, 'interaction': 0} for nid in notif_ids])\n",
    "    interacts = pd.pivot_table(interacts, index='user_id', columns='notif_id', values='interaction').fillna(0)\n",
    "    interacts.drop(-1, inplace=True)\n",
    "    print('Calculating user profiles')\n",
    "    user_prof = dot(interacts.values, notif_prof) / linalg.norm(interacts.values) / linalg.norm(notif_prof)\n",
    "    print('Calculating cosine similarity')\n",
    "    similarity_user_notif = sklearn.metrics.pairwise.cosine_similarity(user_prof, notif_prof)\n",
    "    print('Converting to dataframe')\n",
    "    similarity_user_notif_df = pd.DataFrame(data=similarity_user_notif, index=interacts.index, columns=interacts.columns)\n",
    "    return similarity_user_notif_df\n",
    "#     similarity_user_notif_df['user_id'] = interacts.index\n",
    "#     return pd.melt(similarity_user_notif_df, id_vars='user_id', value_vars=list(similarity_user_notif_df.columns[:-1]), value_name='similarity')"
   ]
  },
  {
   "cell_type": "markdown",
   "metadata": {
    "heading_collapsed": true,
    "hidden": true
   },
   "source": [
    "### TRAIN VALID SPLIT"
   ]
  },
  {
   "cell_type": "code",
   "execution_count": 13,
   "metadata": {
    "hidden": true
   },
   "outputs": [
    {
     "name": "stdout",
     "output_type": "stream",
     "text": [
      "loading data_hdf/_train_split.h5... OK (14.4s)\n",
      "loading data_hdf/_valid_split.h5... OK (1.3s)\n"
     ]
    }
   ],
   "source": [
    "train_split = deca_load('train_split')\n",
    "valid_split = deca_load('valid_split')"
   ]
  },
  {
   "cell_type": "code",
   "execution_count": 51,
   "metadata": {
    "hidden": true
   },
   "outputs": [
    {
     "name": "stdout",
     "output_type": "stream",
     "text": [
      "CPU times: user 1h 49min 38s, sys: 9min 20s, total: 1h 58min 59s\n",
      "Wall time: 16min 37s\n"
     ]
    }
   ],
   "source": [
    "%%time\n",
    "train_split_user_notif_similarity = similarity_users_notifs(train_split, notif_ids, notif_prof)"
   ]
  },
  {
   "cell_type": "code",
   "execution_count": 55,
   "metadata": {
    "hidden": true
   },
   "outputs": [
    {
     "data": {
      "text/plain": [
       "(1066051, 6347)"
      ]
     },
     "execution_count": 55,
     "metadata": {},
     "output_type": "execute_result"
    }
   ],
   "source": [
    "train_split_user_notif_similarity.shape"
   ]
  },
  {
   "cell_type": "code",
   "execution_count": 56,
   "metadata": {
    "hidden": true
   },
   "outputs": [
    {
     "name": "stdout",
     "output_type": "stream",
     "text": [
      "CPU times: user 3.02 s, sys: 392 ms, total: 3.42 s\n",
      "Wall time: 683 ms\n"
     ]
    }
   ],
   "source": [
    "%%time\n",
    "train_split['uid_nid'] = train_split.user_id * 700000 + train_split.notif_id\n",
    "valid_split['uid_nid'] = valid_split.user_id * 700000 + valid_split.notif_id"
   ]
  },
  {
   "cell_type": "code",
   "execution_count": 57,
   "metadata": {
    "hidden": true
   },
   "outputs": [
    {
     "name": "stdout",
     "output_type": "stream",
     "text": [
      "CPU times: user 15min 36s, sys: 24.1 s, total: 16min\n",
      "Wall time: 15min 53s\n"
     ]
    }
   ],
   "source": [
    "%%time\n",
    "similarity_dict = {}\n",
    "simil_uid_indices = set(train_split_user_notif_similarity.index)\n",
    "for uidnid in set(train_split.uid_nid.unique()).union(valid_split.uid_nid.unique()):\n",
    "    uid = uidnid // 700000\n",
    "    if uid in simil_uid_indices:\n",
    "        nid = uidnid % 700000\n",
    "        similarity_dict[uidnid] = train_split_user_notif_similarity.loc[uid,nid]"
   ]
  },
  {
   "cell_type": "code",
   "execution_count": 58,
   "metadata": {
    "hidden": true
   },
   "outputs": [
    {
     "name": "stdout",
     "output_type": "stream",
     "text": [
      "CPU times: user 39.1 s, sys: 1.28 s, total: 40.4 s\n",
      "Wall time: 40.4 s\n"
     ]
    }
   ],
   "source": [
    "%%time\n",
    "valid_split['user_notif_similarity'] = valid_split.uid_nid.map(similarity_dict)"
   ]
  },
  {
   "cell_type": "code",
   "execution_count": 59,
   "metadata": {
    "hidden": true
   },
   "outputs": [
    {
     "name": "stdout",
     "output_type": "stream",
     "text": [
      "CPU times: user 47.7 s, sys: 2.93 s, total: 50.7 s\n",
      "Wall time: 50.7 s\n"
     ]
    }
   ],
   "source": [
    "%%time\n",
    "train_split['user_notif_similarity'] = train_split.uid_nid.map(similarity_dict)"
   ]
  },
  {
   "cell_type": "code",
   "execution_count": null,
   "metadata": {
    "hidden": true
   },
   "outputs": [],
   "source": []
  },
  {
   "cell_type": "code",
   "execution_count": 60,
   "metadata": {
    "hidden": true
   },
   "outputs": [
    {
     "name": "stdout",
     "output_type": "stream",
     "text": [
      "saving data_hdf/_user_notif_similarity.h5... OK (6.0s)\n",
      "saving data_hdf/_user_notif_similarity_val.h5... OK (0.5s)\n"
     ]
    }
   ],
   "source": [
    "deca_save(train_split.user_notif_similarity, 'user_notif_similarity')\n",
    "deca_save(valid_split.user_notif_similarity, 'user_notif_similarity_val')"
   ]
  },
  {
   "cell_type": "markdown",
   "metadata": {
    "heading_collapsed": true,
    "hidden": true
   },
   "source": [
    "### FULL TRAIN AND TEST"
   ]
  },
  {
   "cell_type": "code",
   "execution_count": 9,
   "metadata": {
    "hidden": true
   },
   "outputs": [
    {
     "name": "stdout",
     "output_type": "stream",
     "text": [
      "loading data_hdf/_train_interactions.h5... OK (22.5s)\n",
      "loading data_hdf/_test.h5... OK (1.1s)\n"
     ]
    }
   ],
   "source": [
    "full_train_table = deca_load('train_interactions')\n",
    "test_table = deca_load('test')"
   ]
  },
  {
   "cell_type": "code",
   "execution_count": 10,
   "metadata": {
    "hidden": true
   },
   "outputs": [
    {
     "name": "stdout",
     "output_type": "stream",
     "text": [
      "CPU times: user 50min 25s, sys: 14min 18s, total: 1h 4min 43s\n",
      "Wall time: 25min 58s\n"
     ]
    }
   ],
   "source": [
    "%%time\n",
    "full_train_user_notif_similarity = similarity_users_notifs(full_train_table, notif_ids, notif_prof)"
   ]
  },
  {
   "cell_type": "code",
   "execution_count": 11,
   "metadata": {
    "hidden": true
   },
   "outputs": [
    {
     "name": "stdout",
     "output_type": "stream",
     "text": [
      "CPU times: user 3.63 s, sys: 884 ms, total: 4.51 s\n",
      "Wall time: 1.07 s\n"
     ]
    }
   ],
   "source": [
    "%%time\n",
    "full_train_table['uid_nid'] = full_train_table.user_id * 700000 + full_train_table.notif_id\n",
    "test_table['uid_nid'] = test_table.user_id * 700000 + test_table.notif_id"
   ]
  },
  {
   "cell_type": "code",
   "execution_count": 38,
   "metadata": {
    "hidden": true
   },
   "outputs": [],
   "source": [
    "%%time\n",
    "similarity_dict = {}\n",
    "simil_uid_indices = set(full_train_user_notif_similarity.index)\n",
    "for uidnid in set(full_train_table.uid_nid.unique()).union(test_table.uid_nid.unique()):\n",
    "    uid = uidnid // 700000\n",
    "    if uid in simil_uid_indices:\n",
    "        nid = uidnid % 700000\n",
    "        similarity_dict[uidnid] = full_train_user_notif_similarity.loc[uid,nid]"
   ]
  },
  {
   "cell_type": "markdown",
   "metadata": {
    "heading_collapsed": true
   },
   "source": [
    "# Split to train and validation"
   ]
  },
  {
   "cell_type": "code",
   "execution_count": 39,
   "metadata": {
    "hidden": true
   },
   "outputs": [
    {
     "name": "stdout",
     "output_type": "stream",
     "text": [
      "loading data_hdf/_train_interactions.h5... OK (22.3s)\n",
      "loading data_hdf/_test.h5... OK (0.9s)\n",
      "Fulltrain rows: 98403133\n",
      "Test rows: 10928823\n",
      "----------\n",
      "Train_split rows: 56762338\n",
      "Valid_split rows: 5499040\n"
     ]
    }
   ],
   "source": [
    "SAVE = False\n",
    "\n",
    "full_train_table = deca_load('train_interactions')\n",
    "test_table = deca_load('test')\n",
    "\n",
    "valid_split = full_train_table[full_train_table['notif_id'] > 518000]\n",
    "train_split = full_train_table[full_train_table['notif_id'] <= 518000]\n",
    "users_val = set(valid_split.user_id.unique().tolist())\n",
    "users_trn = set(train_split.user_id.unique().tolist())\n",
    "train_users_to_remove = list(users_val.intersection(users_trn))[:900000]\n",
    "train_split = train_split[~train_split['user_id'].isin(train_users_to_remove)]\n",
    "\n",
    "if SAVE:\n",
    "    deca_save(train_split, 'train_split')\n",
    "    deca_save(valid_split, 'valid_split')\n",
    "\n",
    "print('Fulltrain rows:', full_train_table.shape[0])\n",
    "print('Test rows:', test_table.shape[0])\n",
    "print('-'*10)\n",
    "print('Train_split rows:', train_split.shape[0])\n",
    "print('Valid_split rows:', valid_split.shape[0])"
   ]
  },
  {
   "cell_type": "markdown",
   "metadata": {
    "heading_collapsed": true,
    "hidden": true
   },
   "source": [
    "## Stats for train and test"
   ]
  },
  {
   "cell_type": "code",
   "execution_count": 40,
   "metadata": {
    "hidden": true
   },
   "outputs": [
    {
     "name": "stdout",
     "output_type": "stream",
     "text": [
      "Total train records: 56762338 (0.576834662368)\n",
      "Total valid records: 5499040 (0.0558827735698)\n"
     ]
    }
   ],
   "source": [
    "fsc = full_train_table['user_id'].count()\n",
    "tsc = train_split['user_id'].count()\n",
    "vsc = valid_split['user_id'].count()\n",
    "print('Total train records: {} ({})'.format(tsc, tsc/fsc))\n",
    "print('Total valid records: {} ({})'.format(vsc, vsc/fsc))"
   ]
  },
  {
   "cell_type": "code",
   "execution_count": 41,
   "metadata": {
    "hidden": true
   },
   "outputs": [],
   "source": [
    "users_test = set(test_table.user_id.unique())\n",
    "notifs_test = set(test_table.notif_id.unique())\n",
    "\n",
    "users_full_train = set(full_train_table.user_id.unique())\n",
    "notifs_full_train = set(full_train_table.notif_id.unique())\n",
    "\n",
    "all_users = users_full_train.union(users_test)\n",
    "all_notifs = notifs_full_train.union(notifs_test)\n",
    "\n",
    "user_p = len(users_full_train.intersection(users_test))\n",
    "notif_p = len(notifs_full_train.intersection(notifs_test))\n",
    "user_p2 = len(users_full_train - users_test)\n",
    "notif_p2 = len(notifs_full_train - notifs_test)\n",
    "user_p3 = len(users_test - users_full_train)\n",
    "notif_p3 = len(notifs_test - notifs_full_train)"
   ]
  },
  {
   "cell_type": "code",
   "execution_count": 42,
   "metadata": {
    "hidden": true
   },
   "outputs": [
    {
     "name": "stdout",
     "output_type": "stream",
     "text": [
      "Common users TEST and FULLTRN:\t2030753\t0.506433055672\n",
      "Common users VALID and TRAIN:\t972962\t0.375764593019\n",
      "--------------------\n",
      "users on FULLTRN 2589286\n",
      "users on TEST 3451381\n",
      "users on TRAIN 1689286\n",
      "users on VALID 1872962\n",
      "--------------------\n",
      "users only on FULLTRN:\t558533\t0.139288024631\n",
      "users only on TEST:\t1420628\t0.354278919698\n",
      "users only on TRAIN:\t716324\t0.276649238439\n",
      "users only on VALID:\t900000\t0.347586168542\n",
      "\n",
      "\n",
      "Common notifs TEST and FULLTRN:\t0\t0.0\n",
      "Common notifs VALID and TRAIN:\t0\t0.0\n",
      "--------------------\n",
      "notifs on FULLTRN 4440\n",
      "notifs on TEST 189\n",
      "notifs on TRAIN 4156\n",
      "notifs on VALID 284\n",
      "--------------------\n",
      "notifs only on FULLTRN:\t4440\t0.959170447181\n",
      "notifs only on TRAIN:\t4156\t0.936036036036\n",
      "notifs only on TEST:\t189\t0.0408295528192\n",
      "notifs only on VALID:\t284\t0.063963963964\n"
     ]
    }
   ],
   "source": [
    "users_valid = set(valid_split.user_id.unique())\n",
    "users_train = set(train_split.user_id.unique())\n",
    "\n",
    "notifs_valid = set(valid_split.notif_id.unique())\n",
    "notifs_train = set(train_split.notif_id.unique())\n",
    "\n",
    "user_q = len(users_train.intersection(users_valid))\n",
    "notif_q = len(notifs_train.intersection(notifs_valid))\n",
    "user_q2 = len(users_train - users_valid)\n",
    "notif_q2 = len(notifs_train - notifs_valid)\n",
    "user_q3 = len(users_valid - users_train)\n",
    "notif_q3 = len(notifs_valid - notifs_train)\n",
    "\n",
    "print('Common users TEST and FULLTRN:\\t{}\\t{}'.format(user_p, user_p / len(all_users)))\n",
    "print('Common users VALID and TRAIN:\\t{}\\t{}'.format(user_q, user_q / len(users_full_train)))\n",
    "print('-' * 20)\n",
    "print('users on FULLTRN', len(users_full_train))\n",
    "print('users on TEST', len(users_test))\n",
    "print('users on TRAIN', len(users_train))\n",
    "print('users on VALID', len(users_valid))\n",
    "print('-' * 20)\n",
    "print('users only on FULLTRN:\\t{}\\t{}'.format(user_p2, user_p2 / len(all_users)))\n",
    "print('users only on TEST:\\t{}\\t{}'.format(user_p3, user_p3 / len(all_users)))\n",
    "print('users only on TRAIN:\\t{}\\t{}'.format(user_q2, user_q2 / len(users_full_train)))\n",
    "print('users only on VALID:\\t{}\\t{}'.format(user_q3, user_q3 / len(users_full_train)))\n",
    "print('\\n')\n",
    "print('Common notifs TEST and FULLTRN:\\t{}\\t{}'.format(notif_p, notif_p / len(all_notifs)))\n",
    "print('Common notifs VALID and TRAIN:\\t{}\\t{}'.format(notif_q, notif_q / len(notifs_full_train)))\n",
    "print('-' * 20)\n",
    "print('notifs on FULLTRN', len(notifs_full_train))\n",
    "print('notifs on TEST', len(notifs_test))\n",
    "print('notifs on TRAIN', len(notifs_train))\n",
    "print('notifs on VALID', len(notifs_valid))\n",
    "print('-' * 20)\n",
    "print('notifs only on FULLTRN:\\t{}\\t{}'.format(notif_p2, notif_p2 / len(all_notifs)))\n",
    "print('notifs only on TRAIN:\\t{}\\t{}'.format(notif_q2, notif_q2 / len(notifs_full_train)))\n",
    "print('notifs only on TEST:\\t{}\\t{}'.format(notif_p3, notif_p3 / len(all_notifs)))\n",
    "print('notifs only on VALID:\\t{}\\t{}'.format(notif_q3, notif_q3 / len(notifs_full_train)))"
   ]
  },
  {
   "cell_type": "code",
   "execution_count": 43,
   "metadata": {
    "hidden": true
   },
   "outputs": [
    {
     "data": {
      "image/png": "[encoded data removed]",
      "text/plain": [
       "<matplotlib.figure.Figure at 0x7fdbf86649d0>"
      ]
     },
     "metadata": {},
     "output_type": "display_data"
    }
   ],
   "source": [
    "labels_full = 'Train', 'Test', 'Train & Test'\n",
    "sizes_full_u = [user_p2, user_p3, user_p]\n",
    "sizes_full_n = [notif_p2, notif_p3, notif_p]\n",
    "\n",
    "labels_split = 'Train', 'Valid', 'Train & Valid'\n",
    "sizes_split_u = [user_q2, user_q3, user_q]\n",
    "sizes_split_n = [notif_q2, notif_q3, notif_q]\n",
    "\n",
    "explode = (0, 0.1, 0)  # only \"explode\" the 2nd slice (i.e. 'Hogs')\n",
    "\n",
    "f, ((ax1, ax2), (ax3, ax4)) = plt.subplots(2, 2)\n",
    "\n",
    "f.set_figheight(13)\n",
    "f.set_figwidth(13)\n",
    "\n",
    "ax1.set_title('Users [FULL]')\n",
    "ax1.pie(sizes_full_u, explode=explode, labels=labels_full, autopct='%1.1f%%',\n",
    "        shadow=True, startangle=90)\n",
    "ax1.axis('equal') \n",
    "\n",
    "ax2.set_title('Notifs [FULL]')\n",
    "ax2.pie(sizes_full_n, explode=explode, labels=labels_full, autopct='%1.1f%%',\n",
    "        shadow=True, startangle=90)\n",
    "ax2.axis('equal') \n",
    "\n",
    "ax3.set_title('Users [SPLIT]')\n",
    "ax3.pie(sizes_split_u, explode=explode, labels=labels_split, autopct='%1.1f%%',\n",
    "        shadow=True, startangle=90)\n",
    "ax3.axis('equal') \n",
    "\n",
    "ax4.set_title('Notifs [SPLIT]')\n",
    "ax4.pie(sizes_split_n, explode=explode, labels=labels_split, autopct='%1.1f%%',\n",
    "        shadow=True, startangle=90)\n",
    "ax4.axis('equal') \n",
    "\n",
    "plt.show()"
   ]
  },
  {
   "cell_type": "markdown",
   "metadata": {
    "heading_collapsed": true
   },
   "source": [
    "# Augmenting with History"
   ]
  },
  {
   "cell_type": "markdown",
   "metadata": {
    "heading_collapsed": true,
    "hidden": true
   },
   "source": [
    "## User Imps"
   ]
  },
  {
   "cell_type": "code",
   "execution_count": 3,
   "metadata": {
    "hidden": true
   },
   "outputs": [
    {
     "name": "stdout",
     "output_type": "stream",
     "text": [
      "loading data_hdf/_train_interactions.h5... OK (7.8s)\n",
      "loading data_hdf/_test.h5... OK (0.2s)\n"
     ]
    }
   ],
   "source": [
    "full_train = deca_load('train_interactions')[['user_id', 'notif_id']]\n",
    "test = deca_load('test')[['user_id', 'notif_id']]"
   ]
  },
  {
   "cell_type": "code",
   "execution_count": 4,
   "metadata": {
    "hidden": true
   },
   "outputs": [],
   "source": [
    "concat_train_test = pd.concat([full_train, test])"
   ]
  },
  {
   "cell_type": "code",
   "execution_count": 6,
   "metadata": {
    "hidden": true
   },
   "outputs": [],
   "source": [
    "joinints = lambda x: tuple(set(x))"
   ]
  },
  {
   "cell_type": "code",
   "execution_count": 7,
   "metadata": {
    "hidden": true
   },
   "outputs": [
    {
     "name": "stdout",
     "output_type": "stream",
     "text": [
      "CPU times: user 2min 18s, sys: 5.98 s, total: 2min 24s\n",
      "Wall time: 2min 23s\n"
     ]
    }
   ],
   "source": [
    "%%time\n",
    "users_notifs = concat_train_test.groupby('user_id').notif_id.agg(joinints)"
   ]
  },
  {
   "cell_type": "code",
   "execution_count": 8,
   "metadata": {
    "hidden": true
   },
   "outputs": [],
   "source": [
    "users_notifs_imps = users_notifs.to_frame()\n",
    "users_notifs_imps = users_notifs_imps.reset_index()\n",
    "users_notifs_imps = users_notifs_imps.rename(columns={'user_id': 'user_id', 'notif_id': 'imps'})"
   ]
  },
  {
   "cell_type": "code",
   "execution_count": 10,
   "metadata": {
    "hidden": true
   },
   "outputs": [
    {
     "name": "stdout",
     "output_type": "stream",
     "text": [
      "saving data_hdf/_users_notifs_imps.h5... "
     ]
    },
    {
     "name": "stderr",
     "output_type": "stream",
     "text": [
      "/home/nima_mohammadi/myenv/local/lib/python2.7/site-packages/pandas/core/generic.py:1471: PerformanceWarning: \n",
      "your performance may suffer as PyTables will pickle object types that it cannot\n",
      "map directly to c-types [inferred_type->mixed,key->block0_values] [items->['imps']]\n",
      "\n",
      "  return pytables.to_hdf(path_or_buf, key, self, **kwargs)\n"
     ]
    },
    {
     "name": "stdout",
     "output_type": "stream",
     "text": [
      "OK (12.2s)\n"
     ]
    }
   ],
   "source": [
    "deca_save(users_notifs_imps, 'users_notifs_imps')"
   ]
  },
  {
   "cell_type": "code",
   "execution_count": null,
   "metadata": {
    "hidden": true
   },
   "outputs": [],
   "source": []
  },
  {
   "cell_type": "code",
   "execution_count": null,
   "metadata": {
    "hidden": true
   },
   "outputs": [],
   "source": []
  },
  {
   "cell_type": "code",
   "execution_count": null,
   "metadata": {
    "hidden": true
   },
   "outputs": [],
   "source": []
  },
  {
   "cell_type": "code",
   "execution_count": 13,
   "metadata": {
    "hidden": true
   },
   "outputs": [],
   "source": [
    "ww = valid_split.groupby('user_id').notif_id.count()"
   ]
  },
  {
   "cell_type": "code",
   "execution_count": 14,
   "metadata": {
    "hidden": true
   },
   "outputs": [
    {
     "data": {
      "text/plain": [
       "user_id\n",
       "3    1\n",
       "4    4\n",
       "7    4\n",
       "8    4\n",
       "9    6\n",
       "Name: notif_id, dtype: int64"
      ]
     },
     "execution_count": 14,
     "metadata": {},
     "output_type": "execute_result"
    }
   ],
   "source": [
    "ww.head()"
   ]
  },
  {
   "cell_type": "markdown",
   "metadata": {
    "heading_collapsed": true,
    "hidden": true
   },
   "source": [
    "## Notif time diff to prev and next notif"
   ]
  },
  {
   "cell_type": "code",
   "execution_count": 117,
   "metadata": {
    "hidden": true
   },
   "outputs": [],
   "source": [
    "def priximity_notif_time_diff(tbl, order='prev_diff', history=None):\n",
    "    N = 150\n",
    "    alpha = list(np.logspace(-.3, -2.01, 110))\n",
    "    if order=='prev_diff':\n",
    "        tbl = tbl.sort_values('notif_time_raw')\n",
    "        col1 = 'prev_time_diff'\n",
    "        col2 = 'prev_nid'\n",
    "        col3 = 'prev_hour_imps'\n",
    "        col4 = 'prev_day_imps'\n",
    "        col5 = 'prev_3hours_imps'\n",
    "        last_clicks_flag = True\n",
    "    else:\n",
    "        tbl = tbl.sort_values('notif_time_raw', ascending=False)\n",
    "        col1 = 'next_time_diff'\n",
    "        col2 = 'next_nid'\n",
    "        col3 = 'next_hour_imps'\n",
    "        col4 = 'next_day_imps'\n",
    "        col5 = 'next_3hours_imps'\n",
    "        last_clicks_flag = False\n",
    "    uids = list(tbl.user_id.unique())\n",
    "    if history is not None:\n",
    "        last_notif_time_dict = history['last_notif_time_dict']\n",
    "        last_nid_dict = history['last_nid_dict']\n",
    "        last_imps = history['last_imps']\n",
    "        last_imps_day_pointer = history['last_imps_day_pointer']\n",
    "        last_imps_hour_pointer = history['last_imps_hour_pointer']\n",
    "        last_imps_3hours_pointer = history['last_imps_3hours_pointer']\n",
    "        last_imps_len = history['last_imps_len']\n",
    "        last_click_first_dict = history['last_click_first_dict']\n",
    "        last_click_second_dict = history['last_click_second_dict']\n",
    "        last_click_third_dict = history['last_click_third_dict']\n",
    "        last_click_fourth_dict = history['last_click_fourth_dict']\n",
    "        last_click_first_diff_dict = history['last_click_first_diff_dict']\n",
    "        last_click_second_diff_dict = history['last_click_second_diff_dict']\n",
    "        last_click_third_diff_dict = history['last_click_third_diff_dict']\n",
    "        last_click_fourth_diff_dict = history['last_click_fourth_diff_dict']\n",
    "        last_click_fifth_diff_dict = history['last_click_fifth_diff_dict']\n",
    "        movAvgRt_dict = history['movAvgRt_dict']\n",
    "        flag = False\n",
    "    else:\n",
    "        last_notif_time_dict = {}\n",
    "        last_nid_dict = {}\n",
    "        last_imps = defaultdict(lambda: [0] * N)\n",
    "        last_imps_day_pointer = defaultdict(int)\n",
    "        last_imps_hour_pointer = defaultdict(int)\n",
    "        last_imps_3hours_pointer = defaultdict(int)\n",
    "        last_imps_len = defaultdict(int)\n",
    "        last_click_first_dict = {}\n",
    "        last_click_second_dict = {}\n",
    "        last_click_third_dict = {}\n",
    "        last_click_fourth_dict = {}\n",
    "        last_click_first_diff_dict = {}\n",
    "        last_click_second_diff_dict = {}\n",
    "        last_click_third_diff_dict = {}\n",
    "        last_click_fourth_diff_dict = {}\n",
    "        last_click_fifth_diff_dict = {}\n",
    "        movAvgRt_dict = {}\n",
    "        flag = True\n",
    "    try:\n",
    "        tbl = tbl[['user_id', 'notif_id', 'notif_time_raw', 'response_time', 'interaction']]\n",
    "    except:\n",
    "        tbl = tbl[['user_id', 'notif_id', 'notif_time_raw']]\n",
    "    last_time_diff = []\n",
    "    last_notif = []\n",
    "    indices = []\n",
    "    last_hour_imps_count = []\n",
    "    last_3hours_imps_count = []\n",
    "    last_day_imps_count = []\n",
    "    last_click_first = []\n",
    "    last_click_first_diff = []\n",
    "    last_click_second = []\n",
    "    last_click_second_diff = []\n",
    "    last_click_third = []\n",
    "    last_click_third_diff = []\n",
    "    last_click_fourth = []\n",
    "    last_click_fourth_diff = []\n",
    "    last_click_fifth_diff = []\n",
    "    last_movAvgRt = []\n",
    "    length = tbl.shape[0]\n",
    "    for row in tqdm(tbl.itertuples(), total=length, mininterval=4):\n",
    "        uid = row.user_id\n",
    "        nid = row.notif_id\n",
    "        notif_time_raw = row.notif_time_raw\n",
    "        if last_clicks_flag:\n",
    "            prevRT = movAvgRt_dict.get(uid, None)\n",
    "            last_click_first.append(last_click_first_dict.get(uid, None))\n",
    "            last_click_second.append(last_click_second_dict.get(uid, None))\n",
    "            last_click_third.append(last_click_third_dict.get(uid, None))\n",
    "            last_click_fourth.append(last_click_fourth_dict.get(uid, None))\n",
    "            \n",
    "            last_click_second_diff.append(last_click_second_diff_dict.get(uid, None) and (last_click_first_diff_dict.get(uid, None) - last_click_second_diff_dict.get(uid, None)))\n",
    "            last_click_third_diff.append(last_click_third_diff_dict.get(uid, None) and (last_click_second_diff_dict.get(uid, None) - last_click_third_diff_dict.get(uid, None)))\n",
    "            last_click_fourth_diff.append(last_click_fourth_diff_dict.get(uid, None) and (last_click_third_diff_dict.get(uid, None) - last_click_fourth_diff_dict.get(uid, None)))\n",
    "            last_click_fifth_diff.append(last_click_fifth_diff_dict.get(uid, None) and (last_click_fourth_diff_dict.get(uid, None) - last_click_fifth_diff_dict.get(uid, None)))\n",
    "            last_movAvgRt.append(prevRT)\n",
    "            if flag:\n",
    "                curAlpha = alpha[last_imps_len[uid]]\n",
    "                curRT = (curAlpha*row.response_time) + ((1-curAlpha) * movAvgRt_dict.get(uid, row.response_time))\n",
    "                movAvgRt_dict[uid] = curRT\n",
    "                if row.interaction:\n",
    "                    last_click_fourth_dict[uid] = last_click_third_dict.get(uid, None)\n",
    "                    last_click_third_dict[uid] = last_click_second_dict.get(uid, None)\n",
    "                    last_click_second_dict[uid] = last_click_first_dict.get(uid, None)\n",
    "                    last_click_first_dict[uid] = nid\n",
    "                    \n",
    "                    last_click_fifth_diff_dict[uid] = last_click_fourth_diff_dict.get(uid, None)\n",
    "                    last_click_fourth_diff_dict[uid] = last_click_third_diff_dict.get(uid, None)\n",
    "                    last_click_third_diff_dict[uid] = last_click_second_diff_dict.get(uid, None)\n",
    "                    last_click_second_diff_dict[uid] = last_click_first_diff_dict.get(uid, None)\n",
    "                    last_click_first_diff_dict[uid] = notif_time_raw\n",
    "                    \n",
    "        temp_last_imps = last_imps[uid]\n",
    "        last_imps[uid][last_imps_len[uid]] = notif_time_raw\n",
    "        last_imps_len[uid] += 1\n",
    "        \n",
    "        if last_clicks_flag:\n",
    "            last_time_diff.append(notif_time_raw - last_notif_time_dict.get(uid, notif_time_raw+1))\n",
    "            last_hour_limit = notif_time_raw - 60\n",
    "            last_day_limit = notif_time_raw - 1440\n",
    "            last_3hours_limit = notif_time_raw - 180\n",
    "            for last_imps_hour_pointer[uid] in xrange(last_imps_hour_pointer[uid], last_imps_len[uid]+1):\n",
    "                if temp_last_imps[last_imps_hour_pointer[uid]] > last_hour_limit:\n",
    "                    break\n",
    "            for last_imps_day_pointer[uid] in xrange(last_imps_day_pointer[uid], last_imps_len[uid]+1):\n",
    "                if temp_last_imps[last_imps_day_pointer[uid]] > last_day_limit:\n",
    "                    break\n",
    "            for last_imps_3hours_pointer[uid] in xrange(last_imps_3hours_pointer[uid], last_imps_len[uid]+1):\n",
    "                if temp_last_imps[last_imps_3hours_pointer[uid]] > last_3hours_limit:\n",
    "                    break\n",
    "        else:\n",
    "            last_time_diff.append(last_notif_time_dict.get(uid, notif_time_raw-1) - notif_time_raw)\n",
    "            last_hour_limit = notif_time_raw + 60\n",
    "            last_day_limit = notif_time_raw + 1440\n",
    "            last_3hours_limit = notif_time_raw + 180\n",
    "            for last_imps_hour_pointer[uid] in xrange(last_imps_hour_pointer[uid], last_imps_len[uid]+1):\n",
    "                if temp_last_imps[last_imps_hour_pointer[uid]] < last_hour_limit:\n",
    "                    break\n",
    "            for last_imps_day_pointer[uid] in xrange(last_imps_day_pointer[uid], last_imps_len[uid]+1):\n",
    "                if temp_last_imps[last_imps_day_pointer[uid]] < last_day_limit:\n",
    "                    break\n",
    "            for last_imps_3hours_pointer[uid] in xrange(last_imps_3hours_pointer[uid], last_imps_len[uid]+1):\n",
    "                if temp_last_imps[last_imps_3hours_pointer[uid]] < last_3hours_limit:\n",
    "                    break\n",
    "        \n",
    "        last_hour_imps_count.append(last_imps_len[uid] - last_imps_hour_pointer[uid] - 1)\n",
    "        last_day_imps_count.append(last_imps_len[uid] - last_imps_day_pointer[uid] - 1)\n",
    "        last_3hours_imps_count.append(last_imps_len[uid] - last_imps_3hours_pointer[uid] - 1)\n",
    "        \n",
    "        indices.append(row.Index)\n",
    "        last_notif.append(last_nid_dict.get(uid, None))\n",
    "        last_notif_time_dict[uid] = row.notif_time_raw\n",
    "        last_nid_dict[uid] = row.notif_id\n",
    "        resdict = {'ind': indices, col1: last_time_diff, \n",
    "                                   col2: last_notif, col3: last_hour_imps_count,\n",
    "                                   col4: last_day_imps_count, col5: last_3hours_imps_count\n",
    "                  }\n",
    "        if last_clicks_flag:\n",
    "            resdict['last_click_1st'] = last_click_first\n",
    "            resdict['last_click_2nd'] = last_click_second\n",
    "            resdict['last_click_3rd'] = last_click_third\n",
    "            resdict['last_click_4th'] = last_click_fourth\n",
    "            resdict['last_click_2nd_diff'] = last_click_second_diff\n",
    "            resdict['last_click_3rd_diff'] = last_click_third_diff\n",
    "            resdict['last_click_4th_diff'] = last_click_fourth_diff\n",
    "            resdict['last_click_5th_diff'] = last_click_fifth_diff\n",
    "            resdict['movAvgRt'] = last_movAvgRt\n",
    "    return pd.DataFrame.from_dict(resdict).set_index('ind'), {\n",
    "            'last_notif_time_dict': last_notif_time_dict, \n",
    "            'last_nid_dict': last_nid_dict, \n",
    "            'last_imps': last_imps, \n",
    "            'last_imps_len': last_imps_len, \n",
    "            'last_imps_day_pointer': last_imps_day_pointer, \n",
    "            'last_imps_hour_pointer': last_imps_hour_pointer, \n",
    "            'last_imps_3hours_pointer': last_imps_3hours_pointer, \n",
    "            'last_click_first_dict': last_click_first_dict, \n",
    "            'last_click_second_dict': last_click_second_dict, \n",
    "            'last_click_third_dict': last_click_third_dict, \n",
    "            'last_click_fourth_dict': last_click_fourth_dict,\n",
    "            'last_click_first_diff_dict': last_click_first_diff_dict, \n",
    "            'last_click_second_diff_dict': last_click_second_diff_dict, \n",
    "            'last_click_third_diff_dict': last_click_third_diff_dict, \n",
    "            'last_click_fourth_diff_dict': last_click_fourth_diff_dict,\n",
    "            'last_click_fifth_diff_dict': last_click_fifth_diff_dict,\n",
    "            'movAvgRt_dict' : movAvgRt_dict\n",
    "    }"
   ]
  },
  {
   "cell_type": "code",
   "execution_count": 49,
   "metadata": {
    "hidden": true
   },
   "outputs": [
    {
     "name": "stdout",
     "output_type": "stream",
     "text": [
      "loading data_hdf/_train_interactions.h5... OK (6.8s)\n",
      "loading data_hdf/_test.h5... OK (0.2s)\n",
      "loading data_hdf/_train_split.h5... OK (4.0s)\n",
      "loading data_hdf/_valid_split.h5... OK (0.4s)\n",
      "loading data_hdf/_notifs_table_augmented.h5... OK (0.0s)\n"
     ]
    }
   ],
   "source": [
    "full_train_table = deca_load('train_interactions').reset_index(drop=True)\n",
    "test_table = deca_load('test').reset_index(drop=True)\n",
    "train_split = deca_load('train_split').reset_index(drop=True)\n",
    "valid_split = deca_load('valid_split').reset_index(drop=True)\n",
    "notif_table = deca_load('notifs_table_augmented')"
   ]
  },
  {
   "cell_type": "code",
   "execution_count": 50,
   "metadata": {
    "hidden": true
   },
   "outputs": [],
   "source": [
    "def time_diff_calc_tbl(tbl):\n",
    "    diff_day = (tbl.interaction_dow - tbl.delivery_dow) % 7\n",
    "    diff_time = (tbl.interaction_hour * 60 + tbl.interaction_min) - (tbl.delivery_hour * 60 + tbl.delivery_min)\n",
    "    return abs((diff_day * 24 * 60) + diff_time)\n",
    "train_split['response_time'] = time_diff_calc_tbl(train_split)\n",
    "full_train_table['response_time'] = time_diff_calc_tbl(full_train_table)"
   ]
  },
  {
   "cell_type": "code",
   "execution_count": null,
   "metadata": {
    "hidden": true
   },
   "outputs": [],
   "source": []
  },
  {
   "cell_type": "code",
   "execution_count": 51,
   "metadata": {
    "hidden": true
   },
   "outputs": [],
   "source": [
    "%%time\n",
    "train_split = pd.merge(train_split[['user_id', 'notif_id', 'interaction', 'response_time']], notif_table[['notif_id', 'notif_time_raw']], on='notif_id', how='left')\n",
    "valid_split = pd.merge(valid_split[['user_id', 'notif_id']], notif_table[['notif_id', 'notif_time_raw']], on='notif_id', how='left')\n",
    "full_train_table = pd.merge(full_train_table[['user_id', 'notif_id', 'interaction', 'response_time']], notif_table[['notif_id', 'notif_time_raw']], on='notif_id', how='left')\n",
    "test_table = pd.merge(test_table[['user_id', 'notif_id']], notif_table[['notif_id', 'notif_time_raw']], on='notif_id', how='left')"
   ]
  },
  {
   "cell_type": "code",
   "execution_count": null,
   "metadata": {
    "hidden": true
   },
   "outputs": [],
   "source": []
  },
  {
   "cell_type": "code",
   "execution_count": 131,
   "metadata": {
    "hidden": true
   },
   "outputs": [],
   "source": [
    "# q, w = priximity_notif_time_diff(train_split[train_split.user_id==10387291])\n",
    "# q2, w = priximity_notif_time_diff(valid_split[valid_split.user_id==10387291], 'prev_diff', w)\n",
    "# pd.concat([valid_split[valid_split.user_id==10387291], q2], axis=1).sort_values('notif_time_raw')\n",
    "# pd.concat([train_split[train_split.user_id==10387291], q], axis=1).sort_values('notif_time_raw').tail(5)"
   ]
  },
  {
   "cell_type": "code",
   "execution_count": 133,
   "metadata": {
    "hidden": true
   },
   "outputs": [
    {
     "data": {
      "application/vnd.jupyter.widget-view+json": {
       "model_id": "11d4aaff055b497186dead11d056dd9d",
       "version_major": 2,
       "version_minor": 0
      },
      "text/html": [
       "<p>Failed to display Jupyter Widget of type <code>HBox</code>.</p>\n",
       "<p>\n",
       "  If you're reading this message in the Jupyter Notebook or JupyterLab Notebook, it may mean\n",
       "  that the widgets JavaScript is still loading. If this message persists, it\n",
       "  likely means that the widgets JavaScript library is either not installed or\n",
       "  not enabled. See the <a href=\"https://ipywidgets.readthedocs.io/en/stable/user_install.html\">Jupyter\n",
       "  Widgets Documentation</a> for setup instructions.\n",
       "</p>\n",
       "<p>\n",
       "  If you're reading this message in another frontend (for example, a static\n",
       "  rendering on GitHub or <a href=\"https://nbviewer.jupyter.org/\">NBViewer</a>),\n",
       "  it may mean that your frontend doesn't currently support widgets.\n",
       "</p>\n"
      ],
      "text/plain": [
       "HBox(children=(IntProgress(value=0, max=56762338), HTML(value=u'')))"
      ]
     },
     "metadata": {},
     "output_type": "display_data"
    },
    {
     "name": "stdout",
     "output_type": "stream",
     "text": [
      "\n"
     ]
    }
   ],
   "source": [
    "prev_diff_train, history = priximity_notif_time_diff(train_split)"
   ]
  },
  {
   "cell_type": "code",
   "execution_count": 134,
   "metadata": {
    "hidden": true
   },
   "outputs": [
    {
     "data": {
      "application/vnd.jupyter.widget-view+json": {
       "model_id": "84033de8283442caa41dc3e959ad11bd",
       "version_major": 2,
       "version_minor": 0
      },
      "text/html": [
       "<p>Failed to display Jupyter Widget of type <code>HBox</code>.</p>\n",
       "<p>\n",
       "  If you're reading this message in the Jupyter Notebook or JupyterLab Notebook, it may mean\n",
       "  that the widgets JavaScript is still loading. If this message persists, it\n",
       "  likely means that the widgets JavaScript library is either not installed or\n",
       "  not enabled. See the <a href=\"https://ipywidgets.readthedocs.io/en/stable/user_install.html\">Jupyter\n",
       "  Widgets Documentation</a> for setup instructions.\n",
       "</p>\n",
       "<p>\n",
       "  If you're reading this message in another frontend (for example, a static\n",
       "  rendering on GitHub or <a href=\"https://nbviewer.jupyter.org/\">NBViewer</a>),\n",
       "  it may mean that your frontend doesn't currently support widgets.\n",
       "</p>\n"
      ],
      "text/plain": [
       "HBox(children=(IntProgress(value=0, max=5499040), HTML(value=u'')))"
      ]
     },
     "metadata": {},
     "output_type": "display_data"
    },
    {
     "name": "stdout",
     "output_type": "stream",
     "text": [
      "\n"
     ]
    }
   ],
   "source": [
    "prev_diff_valid, history = priximity_notif_time_diff(valid_split, 'prev_diff', history)"
   ]
  },
  {
   "cell_type": "code",
   "execution_count": 135,
   "metadata": {
    "hidden": true
   },
   "outputs": [
    {
     "data": {
      "application/vnd.jupyter.widget-view+json": {
       "model_id": "82044987a3494274ba5fd4961f4f553a",
       "version_major": 2,
       "version_minor": 0
      },
      "text/html": [
       "<p>Failed to display Jupyter Widget of type <code>HBox</code>.</p>\n",
       "<p>\n",
       "  If you're reading this message in the Jupyter Notebook or JupyterLab Notebook, it may mean\n",
       "  that the widgets JavaScript is still loading. If this message persists, it\n",
       "  likely means that the widgets JavaScript library is either not installed or\n",
       "  not enabled. See the <a href=\"https://ipywidgets.readthedocs.io/en/stable/user_install.html\">Jupyter\n",
       "  Widgets Documentation</a> for setup instructions.\n",
       "</p>\n",
       "<p>\n",
       "  If you're reading this message in another frontend (for example, a static\n",
       "  rendering on GitHub or <a href=\"https://nbviewer.jupyter.org/\">NBViewer</a>),\n",
       "  it may mean that your frontend doesn't currently support widgets.\n",
       "</p>\n"
      ],
      "text/plain": [
       "HBox(children=(IntProgress(value=0, max=5499040), HTML(value=u'')))"
      ]
     },
     "metadata": {},
     "output_type": "display_data"
    },
    {
     "name": "stdout",
     "output_type": "stream",
     "text": [
      "\n"
     ]
    }
   ],
   "source": [
    "next_diff_valid, history = priximity_notif_time_diff(valid_split, 'next_diff')"
   ]
  },
  {
   "cell_type": "code",
   "execution_count": 136,
   "metadata": {
    "hidden": true
   },
   "outputs": [
    {
     "data": {
      "application/vnd.jupyter.widget-view+json": {
       "model_id": "019acaff785e477f8cc0052ed6ecb5c5",
       "version_major": 2,
       "version_minor": 0
      },
      "text/html": [
       "<p>Failed to display Jupyter Widget of type <code>HBox</code>.</p>\n",
       "<p>\n",
       "  If you're reading this message in the Jupyter Notebook or JupyterLab Notebook, it may mean\n",
       "  that the widgets JavaScript is still loading. If this message persists, it\n",
       "  likely means that the widgets JavaScript library is either not installed or\n",
       "  not enabled. See the <a href=\"https://ipywidgets.readthedocs.io/en/stable/user_install.html\">Jupyter\n",
       "  Widgets Documentation</a> for setup instructions.\n",
       "</p>\n",
       "<p>\n",
       "  If you're reading this message in another frontend (for example, a static\n",
       "  rendering on GitHub or <a href=\"https://nbviewer.jupyter.org/\">NBViewer</a>),\n",
       "  it may mean that your frontend doesn't currently support widgets.\n",
       "</p>\n"
      ],
      "text/plain": [
       "HBox(children=(IntProgress(value=0, max=56762338), HTML(value=u'')))"
      ]
     },
     "metadata": {},
     "output_type": "display_data"
    },
    {
     "name": "stdout",
     "output_type": "stream",
     "text": [
      "\n"
     ]
    }
   ],
   "source": [
    "next_diff_train, history = priximity_notif_time_diff(train_split, 'next_diff', history)"
   ]
  },
  {
   "cell_type": "code",
   "execution_count": 137,
   "metadata": {
    "hidden": true
   },
   "outputs": [
    {
     "name": "stdout",
     "output_type": "stream",
     "text": [
      "saving data_hdf/_history_train.h5... OK (74.8s)\n",
      "saving data_hdf/_history_valid.h5... OK (6.1s)\n"
     ]
    }
   ],
   "source": [
    "deca_save(pd.concat([prev_diff_train, next_diff_train], axis=1), 'history_train')\n",
    "deca_save(pd.concat([prev_diff_valid, next_diff_valid], axis=1), 'history_valid')"
   ]
  },
  {
   "cell_type": "code",
   "execution_count": 138,
   "metadata": {
    "hidden": true
   },
   "outputs": [
    {
     "data": {
      "text/plain": [
       "93"
      ]
     },
     "execution_count": 138,
     "metadata": {},
     "output_type": "execute_result"
    }
   ],
   "source": [
    "del prev_diff_train, next_diff_train, prev_diff_valid, next_diff_valid, history\n",
    "import gc\n",
    "gc.collect()"
   ]
  },
  {
   "cell_type": "code",
   "execution_count": 140,
   "metadata": {
    "hidden": true
   },
   "outputs": [
    {
     "data": {
      "application/vnd.jupyter.widget-view+json": {
       "model_id": "4647b4878f484642896617b066f9f353",
       "version_major": 2,
       "version_minor": 0
      },
      "text/html": [
       "<p>Failed to display Jupyter Widget of type <code>HBox</code>.</p>\n",
       "<p>\n",
       "  If you're reading this message in the Jupyter Notebook or JupyterLab Notebook, it may mean\n",
       "  that the widgets JavaScript is still loading. If this message persists, it\n",
       "  likely means that the widgets JavaScript library is either not installed or\n",
       "  not enabled. See the <a href=\"https://ipywidgets.readthedocs.io/en/stable/user_install.html\">Jupyter\n",
       "  Widgets Documentation</a> for setup instructions.\n",
       "</p>\n",
       "<p>\n",
       "  If you're reading this message in another frontend (for example, a static\n",
       "  rendering on GitHub or <a href=\"https://nbviewer.jupyter.org/\">NBViewer</a>),\n",
       "  it may mean that your frontend doesn't currently support widgets.\n",
       "</p>\n"
      ],
      "text/plain": [
       "HBox(children=(IntProgress(value=0, max=98403133), HTML(value=u'')))"
      ]
     },
     "metadata": {},
     "output_type": "display_data"
    },
    {
     "name": "stdout",
     "output_type": "stream",
     "text": [
      "\n"
     ]
    }
   ],
   "source": [
    "prev_diff_ftrain, history = priximity_notif_time_diff(full_train_table)"
   ]
  },
  {
   "cell_type": "code",
   "execution_count": 141,
   "metadata": {
    "hidden": true
   },
   "outputs": [
    {
     "data": {
      "application/vnd.jupyter.widget-view+json": {
       "model_id": "082f461751a3440c9bb65c8a80d2f4a4",
       "version_major": 2,
       "version_minor": 0
      },
      "text/html": [
       "<p>Failed to display Jupyter Widget of type <code>HBox</code>.</p>\n",
       "<p>\n",
       "  If you're reading this message in the Jupyter Notebook or JupyterLab Notebook, it may mean\n",
       "  that the widgets JavaScript is still loading. If this message persists, it\n",
       "  likely means that the widgets JavaScript library is either not installed or\n",
       "  not enabled. See the <a href=\"https://ipywidgets.readthedocs.io/en/stable/user_install.html\">Jupyter\n",
       "  Widgets Documentation</a> for setup instructions.\n",
       "</p>\n",
       "<p>\n",
       "  If you're reading this message in another frontend (for example, a static\n",
       "  rendering on GitHub or <a href=\"https://nbviewer.jupyter.org/\">NBViewer</a>),\n",
       "  it may mean that your frontend doesn't currently support widgets.\n",
       "</p>\n"
      ],
      "text/plain": [
       "HBox(children=(IntProgress(value=0, max=10928823), HTML(value=u'')))"
      ]
     },
     "metadata": {},
     "output_type": "display_data"
    },
    {
     "name": "stdout",
     "output_type": "stream",
     "text": [
      "\n"
     ]
    }
   ],
   "source": [
    "prev_diff_test, history = priximity_notif_time_diff(test_table, 'prev_diff', history)"
   ]
  },
  {
   "cell_type": "code",
   "execution_count": null,
   "metadata": {
    "hidden": true
   },
   "outputs": [],
   "source": []
  },
  {
   "cell_type": "code",
   "execution_count": null,
   "metadata": {
    "hidden": true
   },
   "outputs": [
    {
     "data": {
      "application/vnd.jupyter.widget-view+json": {
       "model_id": "317c684be2a847ada3e483cebb84b8a9",
       "version_major": 2,
       "version_minor": 0
      },
      "text/html": [
       "<p>Failed to display Jupyter Widget of type <code>HBox</code>.</p>\n",
       "<p>\n",
       "  If you're reading this message in the Jupyter Notebook or JupyterLab Notebook, it may mean\n",
       "  that the widgets JavaScript is still loading. If this message persists, it\n",
       "  likely means that the widgets JavaScript library is either not installed or\n",
       "  not enabled. See the <a href=\"https://ipywidgets.readthedocs.io/en/stable/user_install.html\">Jupyter\n",
       "  Widgets Documentation</a> for setup instructions.\n",
       "</p>\n",
       "<p>\n",
       "  If you're reading this message in another frontend (for example, a static\n",
       "  rendering on GitHub or <a href=\"https://nbviewer.jupyter.org/\">NBViewer</a>),\n",
       "  it may mean that your frontend doesn't currently support widgets.\n",
       "</p>\n"
      ],
      "text/plain": [
       "HBox(children=(IntProgress(value=0, max=10928823), HTML(value=u'')))"
      ]
     },
     "metadata": {},
     "output_type": "display_data"
    },
    {
     "name": "stdout",
     "output_type": "stream",
     "text": [
      "\n"
     ]
    }
   ],
   "source": [
    "next_diff_test, history = priximity_notif_time_diff(test_table, 'next_diff')"
   ]
  },
  {
   "cell_type": "code",
   "execution_count": null,
   "metadata": {
    "hidden": true
   },
   "outputs": [
    {
     "data": {
      "application/vnd.jupyter.widget-view+json": {
       "model_id": "0716d7e6268e45d191fe809bb7a615b5",
       "version_major": 2,
       "version_minor": 0
      },
      "text/html": [
       "<p>Failed to display Jupyter Widget of type <code>HBox</code>.</p>\n",
       "<p>\n",
       "  If you're reading this message in the Jupyter Notebook or JupyterLab Notebook, it may mean\n",
       "  that the widgets JavaScript is still loading. If this message persists, it\n",
       "  likely means that the widgets JavaScript library is either not installed or\n",
       "  not enabled. See the <a href=\"https://ipywidgets.readthedocs.io/en/stable/user_install.html\">Jupyter\n",
       "  Widgets Documentation</a> for setup instructions.\n",
       "</p>\n",
       "<p>\n",
       "  If you're reading this message in another frontend (for example, a static\n",
       "  rendering on GitHub or <a href=\"https://nbviewer.jupyter.org/\">NBViewer</a>),\n",
       "  it may mean that your frontend doesn't currently support widgets.\n",
       "</p>\n"
      ],
      "text/plain": [
       "HBox(children=(IntProgress(value=0, max=98403133), HTML(value=u'')))"
      ]
     },
     "metadata": {},
     "output_type": "display_data"
    }
   ],
   "source": [
    "next_diff_ftrain, history = priximity_notif_time_diff(full_train_table, 'next_diff', history)"
   ]
  },
  {
   "cell_type": "code",
   "execution_count": null,
   "metadata": {
    "hidden": true
   },
   "outputs": [],
   "source": [
    "deca_save(pd.concat([prev_diff_ftrain, next_diff_ftrain], axis=1), 'history_ftrain')\n",
    "deca_save(pd.concat([prev_diff_test, next_diff_test], axis=1), 'history_test')"
   ]
  },
  {
   "cell_type": "code",
   "execution_count": null,
   "metadata": {
    "hidden": true
   },
   "outputs": [],
   "source": []
  },
  {
   "cell_type": "code",
   "execution_count": null,
   "metadata": {
    "hidden": true
   },
   "outputs": [],
   "source": []
  },
  {
   "cell_type": "code",
   "execution_count": null,
   "metadata": {
    "hidden": true
   },
   "outputs": [],
   "source": []
  },
  {
   "cell_type": "code",
   "execution_count": 389,
   "metadata": {
    "hidden": true
   },
   "outputs": [],
   "source": [
    "aaa = pd.concat([full_train_table, prev_diff_ftrain, next_diff_ftrain], axis=1)\n",
    "bbb = pd.concat([test_table, prev_diff_test, next_diff_test], axis=1)"
   ]
  },
  {
   "cell_type": "code",
   "execution_count": null,
   "metadata": {
    "hidden": true
   },
   "outputs": [],
   "source": [
    "aaa.prev_day_impsmps.value_counts()"
   ]
  },
  {
   "cell_type": "code",
   "execution_count": 392,
   "metadata": {
    "hidden": true
   },
   "outputs": [
    {
     "data": {
      "text/html": [
       "<div>\n",
       "<style scoped>\n",
       "    .dataframe tbody tr th:only-of-type {\n",
       "        vertical-align: middle;\n",
       "    }\n",
       "\n",
       "    .dataframe tbody tr th {\n",
       "        vertical-align: top;\n",
       "    }\n",
       "\n",
       "    .dataframe thead th {\n",
       "        text-align: right;\n",
       "    }\n",
       "</style>\n",
       "<table border=\"1\" class=\"dataframe\">\n",
       "  <thead>\n",
       "    <tr style=\"text-align: right;\">\n",
       "      <th></th>\n",
       "      <th>user_id</th>\n",
       "      <th>notif_id</th>\n",
       "      <th>interaction</th>\n",
       "      <th>notif_time_raw</th>\n",
       "      <th>last_click_1st</th>\n",
       "      <th>last_click_2nd</th>\n",
       "      <th>last_click_3rd</th>\n",
       "      <th>last_click_4th</th>\n",
       "      <th>prev_3hours_imps</th>\n",
       "      <th>prev_day_imps</th>\n",
       "      <th>prev_hour_imps</th>\n",
       "      <th>prev_nid</th>\n",
       "      <th>prev_time_diff</th>\n",
       "      <th>next_3hours_imps</th>\n",
       "      <th>next_day_imps</th>\n",
       "      <th>next_hour_imps</th>\n",
       "      <th>next_nid</th>\n",
       "      <th>next_time_diff</th>\n",
       "    </tr>\n",
       "  </thead>\n",
       "  <tbody>\n",
       "    <tr>\n",
       "      <th>2744689</th>\n",
       "      <td>10387291</td>\n",
       "      <td>512935</td>\n",
       "      <td>0</td>\n",
       "      <td>29611</td>\n",
       "      <td>496825.0</td>\n",
       "      <td>478300.0</td>\n",
       "      <td>471104.0</td>\n",
       "      <td>418065.0</td>\n",
       "      <td>2</td>\n",
       "      <td>7</td>\n",
       "      <td>1</td>\n",
       "      <td>517560.0</td>\n",
       "      <td>59</td>\n",
       "      <td>0</td>\n",
       "      <td>5</td>\n",
       "      <td>0</td>\n",
       "      <td>520062.0</td>\n",
       "      <td>300</td>\n",
       "    </tr>\n",
       "    <tr>\n",
       "      <th>72954701</th>\n",
       "      <td>10387291</td>\n",
       "      <td>520062</td>\n",
       "      <td>0</td>\n",
       "      <td>29911</td>\n",
       "      <td>496825.0</td>\n",
       "      <td>478300.0</td>\n",
       "      <td>471104.0</td>\n",
       "      <td>418065.0</td>\n",
       "      <td>0</td>\n",
       "      <td>6</td>\n",
       "      <td>0</td>\n",
       "      <td>512935.0</td>\n",
       "      <td>300</td>\n",
       "      <td>1</td>\n",
       "      <td>9</td>\n",
       "      <td>0</td>\n",
       "      <td>521771.0</td>\n",
       "      <td>99</td>\n",
       "    </tr>\n",
       "    <tr>\n",
       "      <th>18275588</th>\n",
       "      <td>10387291</td>\n",
       "      <td>521771</td>\n",
       "      <td>0</td>\n",
       "      <td>30010</td>\n",
       "      <td>496825.0</td>\n",
       "      <td>478300.0</td>\n",
       "      <td>471104.0</td>\n",
       "      <td>418065.0</td>\n",
       "      <td>1</td>\n",
       "      <td>5</td>\n",
       "      <td>0</td>\n",
       "      <td>520062.0</td>\n",
       "      <td>99</td>\n",
       "      <td>0</td>\n",
       "      <td>8</td>\n",
       "      <td>0</td>\n",
       "      <td>524367.0</td>\n",
       "      <td>740</td>\n",
       "    </tr>\n",
       "    <tr>\n",
       "      <th>62291286</th>\n",
       "      <td>10387291</td>\n",
       "      <td>524367</td>\n",
       "      <td>0</td>\n",
       "      <td>30750</td>\n",
       "      <td>496825.0</td>\n",
       "      <td>478300.0</td>\n",
       "      <td>471104.0</td>\n",
       "      <td>418065.0</td>\n",
       "      <td>0</td>\n",
       "      <td>5</td>\n",
       "      <td>0</td>\n",
       "      <td>521771.0</td>\n",
       "      <td>740</td>\n",
       "      <td>2</td>\n",
       "      <td>7</td>\n",
       "      <td>1</td>\n",
       "      <td>524746.0</td>\n",
       "      <td>7</td>\n",
       "    </tr>\n",
       "    <tr>\n",
       "      <th>74622849</th>\n",
       "      <td>10387291</td>\n",
       "      <td>524746</td>\n",
       "      <td>0</td>\n",
       "      <td>30757</td>\n",
       "      <td>496825.0</td>\n",
       "      <td>478300.0</td>\n",
       "      <td>471104.0</td>\n",
       "      <td>418065.0</td>\n",
       "      <td>1</td>\n",
       "      <td>6</td>\n",
       "      <td>1</td>\n",
       "      <td>524367.0</td>\n",
       "      <td>7</td>\n",
       "      <td>1</td>\n",
       "      <td>6</td>\n",
       "      <td>0</td>\n",
       "      <td>525707.0</td>\n",
       "      <td>131</td>\n",
       "    </tr>\n",
       "  </tbody>\n",
       "</table>\n",
       "</div>"
      ],
      "text/plain": [
       "           user_id notif_id  interaction  notif_time_raw  last_click_1st  \\\n",
       "2744689   10387291   512935            0           29611        496825.0   \n",
       "72954701  10387291   520062            0           29911        496825.0   \n",
       "18275588  10387291   521771            0           30010        496825.0   \n",
       "62291286  10387291   524367            0           30750        496825.0   \n",
       "74622849  10387291   524746            0           30757        496825.0   \n",
       "\n",
       "          last_click_2nd  last_click_3rd  last_click_4th  prev_3hours_imps  \\\n",
       "2744689         478300.0        471104.0        418065.0                 2   \n",
       "72954701        478300.0        471104.0        418065.0                 0   \n",
       "18275588        478300.0        471104.0        418065.0                 1   \n",
       "62291286        478300.0        471104.0        418065.0                 0   \n",
       "74622849        478300.0        471104.0        418065.0                 1   \n",
       "\n",
       "          prev_day_imps  prev_hour_imps  prev_nid  prev_time_diff  \\\n",
       "2744689               7               1  517560.0              59   \n",
       "72954701              6               0  512935.0             300   \n",
       "18275588              5               0  520062.0              99   \n",
       "62291286              5               0  521771.0             740   \n",
       "74622849              6               1  524367.0               7   \n",
       "\n",
       "          next_3hours_imps  next_day_imps  next_hour_imps  next_nid  \\\n",
       "2744689                  0              5               0  520062.0   \n",
       "72954701                 1              9               0  521771.0   \n",
       "18275588                 0              8               0  524367.0   \n",
       "62291286                 2              7               1  524746.0   \n",
       "74622849                 1              6               0  525707.0   \n",
       "\n",
       "          next_time_diff  \n",
       "2744689              300  \n",
       "72954701              99  \n",
       "18275588             740  \n",
       "62291286               7  \n",
       "74622849             131  "
      ]
     },
     "execution_count": 392,
     "metadata": {},
     "output_type": "execute_result"
    }
   ],
   "source": [
    "aaa[aaa.user_id==10387291].sort_values('notif_time_raw').tail()"
   ]
  },
  {
   "cell_type": "code",
   "execution_count": 391,
   "metadata": {
    "hidden": true
   },
   "outputs": [
    {
     "data": {
      "text/html": [
       "<div>\n",
       "<style scoped>\n",
       "    .dataframe tbody tr th:only-of-type {\n",
       "        vertical-align: middle;\n",
       "    }\n",
       "\n",
       "    .dataframe tbody tr th {\n",
       "        vertical-align: top;\n",
       "    }\n",
       "\n",
       "    .dataframe thead th {\n",
       "        text-align: right;\n",
       "    }\n",
       "</style>\n",
       "<table border=\"1\" class=\"dataframe\">\n",
       "  <thead>\n",
       "    <tr style=\"text-align: right;\">\n",
       "      <th></th>\n",
       "      <th>user_id</th>\n",
       "      <th>notif_id</th>\n",
       "      <th>notif_time_raw</th>\n",
       "      <th>last_click_1st</th>\n",
       "      <th>last_click_2nd</th>\n",
       "      <th>last_click_3rd</th>\n",
       "      <th>last_click_4th</th>\n",
       "      <th>prev_3hours_imps</th>\n",
       "      <th>prev_day_imps</th>\n",
       "      <th>prev_hour_imps</th>\n",
       "      <th>prev_nid</th>\n",
       "      <th>prev_time_diff</th>\n",
       "      <th>next_3hours_imps</th>\n",
       "      <th>next_day_imps</th>\n",
       "      <th>next_hour_imps</th>\n",
       "      <th>next_nid</th>\n",
       "      <th>next_time_diff</th>\n",
       "    </tr>\n",
       "  </thead>\n",
       "  <tbody>\n",
       "    <tr>\n",
       "      <th>2854800</th>\n",
       "      <td>10387291</td>\n",
       "      <td>525707</td>\n",
       "      <td>30888</td>\n",
       "      <td>496825.0</td>\n",
       "      <td>478300.0</td>\n",
       "      <td>471104.0</td>\n",
       "      <td>418065.0</td>\n",
       "      <td>2</td>\n",
       "      <td>7</td>\n",
       "      <td>0</td>\n",
       "      <td>524746.0</td>\n",
       "      <td>131</td>\n",
       "      <td>2</td>\n",
       "      <td>5</td>\n",
       "      <td>0</td>\n",
       "      <td>526670.0</td>\n",
       "      <td>163</td>\n",
       "    </tr>\n",
       "    <tr>\n",
       "      <th>8364147</th>\n",
       "      <td>10387291</td>\n",
       "      <td>526670</td>\n",
       "      <td>31051</td>\n",
       "      <td>496825.0</td>\n",
       "      <td>478300.0</td>\n",
       "      <td>471104.0</td>\n",
       "      <td>418065.0</td>\n",
       "      <td>1</td>\n",
       "      <td>5</td>\n",
       "      <td>0</td>\n",
       "      <td>525707.0</td>\n",
       "      <td>163</td>\n",
       "      <td>2</td>\n",
       "      <td>4</td>\n",
       "      <td>1</td>\n",
       "      <td>525944.0</td>\n",
       "      <td>1</td>\n",
       "    </tr>\n",
       "    <tr>\n",
       "      <th>6591947</th>\n",
       "      <td>10387291</td>\n",
       "      <td>525944</td>\n",
       "      <td>31052</td>\n",
       "      <td>496825.0</td>\n",
       "      <td>478300.0</td>\n",
       "      <td>471104.0</td>\n",
       "      <td>418065.0</td>\n",
       "      <td>2</td>\n",
       "      <td>6</td>\n",
       "      <td>1</td>\n",
       "      <td>526670.0</td>\n",
       "      <td>1</td>\n",
       "      <td>1</td>\n",
       "      <td>3</td>\n",
       "      <td>0</td>\n",
       "      <td>526851.0</td>\n",
       "      <td>120</td>\n",
       "    </tr>\n",
       "    <tr>\n",
       "      <th>2698583</th>\n",
       "      <td>10387291</td>\n",
       "      <td>526851</td>\n",
       "      <td>31172</td>\n",
       "      <td>496825.0</td>\n",
       "      <td>478300.0</td>\n",
       "      <td>471104.0</td>\n",
       "      <td>418065.0</td>\n",
       "      <td>2</td>\n",
       "      <td>7</td>\n",
       "      <td>0</td>\n",
       "      <td>525944.0</td>\n",
       "      <td>120</td>\n",
       "      <td>2</td>\n",
       "      <td>2</td>\n",
       "      <td>0</td>\n",
       "      <td>526967.0</td>\n",
       "      <td>63</td>\n",
       "    </tr>\n",
       "    <tr>\n",
       "      <th>2940059</th>\n",
       "      <td>10387291</td>\n",
       "      <td>526967</td>\n",
       "      <td>31235</td>\n",
       "      <td>496825.0</td>\n",
       "      <td>478300.0</td>\n",
       "      <td>471104.0</td>\n",
       "      <td>418065.0</td>\n",
       "      <td>1</td>\n",
       "      <td>8</td>\n",
       "      <td>0</td>\n",
       "      <td>526851.0</td>\n",
       "      <td>63</td>\n",
       "      <td>1</td>\n",
       "      <td>1</td>\n",
       "      <td>0</td>\n",
       "      <td>527475.0</td>\n",
       "      <td>69</td>\n",
       "    </tr>\n",
       "  </tbody>\n",
       "</table>\n",
       "</div>"
      ],
      "text/plain": [
       "          user_id notif_id  notif_time_raw  last_click_1st  last_click_2nd  \\\n",
       "2854800  10387291   525707           30888        496825.0        478300.0   \n",
       "8364147  10387291   526670           31051        496825.0        478300.0   \n",
       "6591947  10387291   525944           31052        496825.0        478300.0   \n",
       "2698583  10387291   526851           31172        496825.0        478300.0   \n",
       "2940059  10387291   526967           31235        496825.0        478300.0   \n",
       "\n",
       "         last_click_3rd  last_click_4th  prev_3hours_imps  prev_day_imps  \\\n",
       "2854800        471104.0        418065.0                 2              7   \n",
       "8364147        471104.0        418065.0                 1              5   \n",
       "6591947        471104.0        418065.0                 2              6   \n",
       "2698583        471104.0        418065.0                 2              7   \n",
       "2940059        471104.0        418065.0                 1              8   \n",
       "\n",
       "         prev_hour_imps  prev_nid  prev_time_diff  next_3hours_imps  \\\n",
       "2854800               0  524746.0             131                 2   \n",
       "8364147               0  525707.0             163                 2   \n",
       "6591947               1  526670.0               1                 1   \n",
       "2698583               0  525944.0             120                 2   \n",
       "2940059               0  526851.0              63                 1   \n",
       "\n",
       "         next_day_imps  next_hour_imps  next_nid  next_time_diff  \n",
       "2854800              5               0  526670.0             163  \n",
       "8364147              4               1  525944.0               1  \n",
       "6591947              3               0  526851.0             120  \n",
       "2698583              2               0  526967.0              63  \n",
       "2940059              1               0  527475.0              69  "
      ]
     },
     "execution_count": 391,
     "metadata": {},
     "output_type": "execute_result"
    }
   ],
   "source": [
    "bbb[bbb.user_id==10387291].sort_values('notif_time_raw').head()"
   ]
  },
  {
   "cell_type": "code",
   "execution_count": null,
   "metadata": {
    "hidden": true
   },
   "outputs": [],
   "source": [
    "aaa.prev_day_imps.hist(log=True)"
   ]
  },
  {
   "cell_type": "code",
   "execution_count": null,
   "metadata": {
    "hidden": true
   },
   "outputs": [],
   "source": []
  },
  {
   "cell_type": "code",
   "execution_count": null,
   "metadata": {
    "hidden": true
   },
   "outputs": [],
   "source": []
  },
  {
   "cell_type": "markdown",
   "metadata": {
    "heading_collapsed": true,
    "hidden": true
   },
   "source": [
    "## Last clicks"
   ]
  },
  {
   "cell_type": "code",
   "execution_count": null,
   "metadata": {
    "hidden": true
   },
   "outputs": [],
   "source": [
    "def append_user_history(trn_tbl, tst_tbl):\n",
    "    trn_tbl = trn_tbl.reset_index(drop=True)\n",
    "    tst_tbl = tst_tbl.reset_index(drop=True)\n",
    "    uids = set(trn_tbl.user_id.unique()).union(set(tst_tbl.user_id.unique()))\n",
    "    interaction_hist_dict_1 = {k:None for k in uids}\n",
    "    interaction_hist_dict_2 = {k:None for k in uids}\n",
    "\n",
    "    one_last_notif_interactions_nid = []\n",
    "    second_last_notif_interactions_nid = []\n",
    "\n",
    "    for row in tqdm(trn_tbl.itertuples(), total=trn_tbl.shape[0], mininterval=2):\n",
    "        one_last_notif_interactions_nid.append(interaction_hist_dict_1[row.user_id])\n",
    "        second_last_notif_interactions_nid.append(interaction_hist_dict_2[row.user_id])\n",
    "        if row.interaction:\n",
    "            interaction_hist_dict_2[row.user_id] = interaction_hist_dict_1[row.user_id]\n",
    "            interaction_hist_dict_1[row.user_id] = row.notif_id\n",
    "\n",
    "    tst_one_last_notif_interactions_nid = []\n",
    "    tst_second_last_notif_interactions_nid = []\n",
    "    for row in tqdm(tst_tbl.itertuples(), total=tst_tbl.shape[0], mininterval=2):\n",
    "        tst_one_last_notif_interactions_nid.append(interaction_hist_dict_1[row.user_id])\n",
    "        tst_second_last_notif_interactions_nid.append(interaction_hist_dict_2[row.user_id])\n",
    "    print('Constructing new tables')\n",
    "    one_last_series = pd.Series(one_last_notif_interactions_nid)\n",
    "    second_last_series = pd.Series(second_last_notif_interactions_nid)\n",
    "    new_trn_aug_table = one_last_series.to_frame('one_last_ad').merge(second_last_series.to_frame('second_last_ad'), left_index=True, right_index=True, how='outer')\n",
    "    \n",
    "    tst_one_last_series = pd.Series(tst_one_last_notif_interactions_nid)\n",
    "    tst_second_last_series = pd.Series(tst_second_last_notif_interactions_nid)\n",
    "    new_tst_aug_table = tst_one_last_series.to_frame('one_last_ad').merge(tst_second_last_series.to_frame('second_last_ad'), left_index=True, right_index=True, how='outer')\n",
    "    \n",
    "    new_trn_tbl = trn_tbl.merge(new_trn_aug_table, left_index=True, right_index=True)\n",
    "    new_tst_tbl = tst_tbl.merge(new_tst_aug_table, left_index=True, right_index=True)\n",
    "    return new_trn_tbl, new_tst_tbl"
   ]
  },
  {
   "cell_type": "code",
   "execution_count": null,
   "metadata": {
    "hidden": true
   },
   "outputs": [],
   "source": [
    "full_train_table = deca_load('train_interactions')\n",
    "test_table = deca_load('test')\n",
    "train_split = deca_load('train_split')\n",
    "valid_split = deca_load('valid_split')\n",
    "\n",
    "new_full_train, new_test = append_user_history(full_train_table, test_table)\n",
    "new_train_split, new_valid_split = append_user_history(train_split, valid_split)\n",
    "\n",
    "deca_save(new_full_train, 'full_train_history')\n",
    "deca_save(new_test, 'test_history')\n",
    "deca_save(new_train_split, 'train_split_history')\n",
    "deca_save(new_valid_split, 'valid_split_history')\n",
    "\n",
    "del full_train_table, new_full_train, test_table, new_test\n",
    "del train_split, new_train_split, valid_split, new_valid_split"
   ]
  },
  {
   "cell_type": "markdown",
   "metadata": {},
   "source": [
    "# Export GBDT input (disabled)\n",
    "This section is obsolete and the GBDT input is directly read from the generated binary HDF files. "
   ]
  },
  {
   "cell_type": "code",
   "execution_count": 89,
   "metadata": {},
   "outputs": [],
   "source": [
    "%%cython --compile-args=-O3 --cplus\n",
    "from libcpp.string cimport string\n",
    "\n",
    "cdef extern from \"<sstream>\" namespace \"std\":\n",
    "    cdef cppclass stringstream:\n",
    "        stringstream& operator<<(int)\n",
    "        stringstream& operator<<(double)\n",
    "        stringstream &operator<<(const string &)\n",
    "        string str()\n",
    "        void str(string)\n",
    "\n",
    "cdef extern from \"<sstream>\" namespace \"std\":\n",
    "    cdef cppclass stringstream:\n",
    "        stringstream& operator<<(int)\n",
    "        stringstream& operator<<(double)\n",
    "        stringstream &operator<<(const string &)\n",
    "        string str()\n",
    "        void str(string)\n",
    "        \n",
    "cdef extern from \"math.h\":\n",
    "    double floor(double x)\n",
    "\n",
    "cimport cython\n",
    "from libc.stdint cimport uint32_t, int64_t, uint64_t\n",
    "from libc.math cimport isnan\n",
    "from cpython cimport array\n",
    "from libc.stdio cimport FILE, fopen, fprintf, fclose\n",
    "\n",
    "cpdef dict dense_to_dict (double[:,:] table):\n",
    "    cdef dict result = {}\n",
    "    cdef int i, j\n",
    "    cdef int rows = table.shape[0]\n",
    "    cdef int cols = table.shape[1]\n",
    "    cdef stringstream mystr\n",
    "    cdef string space = ' '\n",
    "    for i in range(rows):\n",
    "        mystr.str('')\n",
    "        for j in range(1, cols):\n",
    "            mystr << table[i][j]\n",
    "            if j != cols-1:\n",
    "                mystr << space\n",
    "        result[<int>table[i][0]] = mystr.str()\n",
    "    return result\n",
    "\n",
    "ctypedef fused short_or_long:\n",
    "    cython.short\n",
    "    cython.long\n",
    "    cython.double\n",
    "\n",
    "cpdef sparse_to_dict(short_or_long[:,:] table):\n",
    "#     cdef list reslist = []\n",
    "    cdef dict result = {}\n",
    "    cdef dict DictFeature = {}\n",
    "    cdef int rows = table.shape[0]\n",
    "    cdef int cols = table.shape[1]\n",
    "    cdef int val\n",
    "    cdef int last_idx = 1\n",
    "    cdef stringstream mystr\n",
    "    cdef string space = ' '\n",
    "    for i in range(rows):\n",
    "        mystr.str('')\n",
    "        for j in range(1, cols):\n",
    "            if isnan(<float>table[i][j]):\n",
    "                continue\n",
    "            val = <int>table[i][j]\n",
    "            if (j, val) not in DictFeature:\n",
    "                DictFeature[(j, val)] = last_idx\n",
    "                last_idx += 1\n",
    "            mystr << floor(DictFeature[(j, val)])\n",
    "            if j != cols-1:\n",
    "                mystr << space\n",
    "        result[<int>table[i][0]] = mystr.str()\n",
    "    return result\n",
    "\n",
    "cpdef write_gbdt_file(long[:] target, long[:] uids, dict user_dict, string filepath):\n",
    "    cdef FILE *outfile = fopen(filepath.c_str(), 'wt')\n",
    "    cdef int i\n",
    "    cdef char* s\n",
    "    for i in range(len(uids)):\n",
    "        s = user_dict[uids[i]]\n",
    "        fprintf(outfile, \"%d %s\\n\", target[i], s)\n",
    "    fclose(outfile)"
   ]
  },
  {
   "cell_type": "code",
   "execution_count": null,
   "metadata": {},
   "outputs": [],
   "source": [
    "# train_split = deca_load('train_split_history')\n",
    "# valid_split = deca_load('valid_split_history')\n",
    "\n",
    "# full_train_table = deca_load('full_train_history')\n",
    "# test = deca_load('test_history')\n",
    "\n",
    "# users_table = deca_load('users_table_augmented')\n",
    "# u1s = deca_load('user_sparse_1')\n",
    "\n",
    "# u2s = deca_load('user_sparse_2')\n",
    "\n",
    "# users_sparse_gbdt = sparse_to_dict(users_table[['user_id', 'C1', 'C2', 'C3', 'C4', 'C5', 'C6']].values)\n",
    "\n",
    "# users_table_numericals = users_table[['user_id', 'N1', 'N2', 'N3']].copy()\n",
    "\n",
    "# new_user_numerical_table = pd.merge(users_table_numericals, u1s, how='left', on='user_id')\n",
    "# new_user_numerical_table.fillna(0, inplace=True)\n",
    "\n",
    "# #ver2\n",
    "# new_user_numerical_table = pd.merge(users_table_numericals, u1s, how='left', on='user_id')\n",
    "# new_user_numerical_table = pd.merge(new_user_numerical_table, u2s, how='left', on='user_id')\n",
    "# new_user_numerical_table.fillna(0, inplace=True)\n",
    "\n",
    "# users_dense_gbdt = dense_to_dict(new_user_numerical_table.values)\n",
    "\n",
    "# write_gbdt_file(train_split.interaction.values, train_split.user_id.values, users_sparse_gbdt, '/media/ramdisk/tr.gbdt.sparse')\n",
    "# write_gbdt_file(train_split.interaction.values, train_split.user_id.values, users_dense_gbdt, '/media/ramdisk/tr.gbdt.dense')\n",
    "# write_gbdt_file(valid_split.interaction.values, valid_split.user_id.values, users_sparse_gbdt, '/media/ramdisk/va.gbdt.sparse')\n",
    "# write_gbdt_file(valid_split.interaction.values, valid_split.user_id.values, users_dense_gbdt, '/media/ramdisk/va.gbdt.dense')\n",
    "\n",
    "# write_gbdt_file(np.zeros(test.shape[0]).astype(np.int), test.user_id.values, users_sparse_gbdt, '/media/ramdisk/tst.gbdt.sparse')\n",
    "# write_gbdt_file(np.zeros(test.shape[0]).astype(np.int), test.user_id.values, users_dense_gbdt, '/media/ramdisk/tst.gbdt.dense')\n",
    "\n",
    "# write_gbdt_file(full_train_table.interaction.values, full_train_table.user_id.values, users_sparse_gbdt, '/media/ramdisk/ftr.gbdt.sparse')\n",
    "# write_gbdt_file(full_train_table.interaction.values, full_train_table.user_id.values, users_dense_gbdt, '/media/ramdisk/ftr.gbdt.dense')"
   ]
  },
  {
   "cell_type": "markdown",
   "metadata": {},
   "source": [
    "# Preparing data for FFM (START HERE)\n",
    "# Load Data"
   ]
  },
  {
   "cell_type": "code",
   "execution_count": 3,
   "metadata": {
    "init_cell": true
   },
   "outputs": [
    {
     "name": "stdout",
     "output_type": "stream",
     "text": [
      "loading data_hdf/_full_train_history.h5... OK (93.8s)\n",
      "loading data_hdf/_test_history.h5... OK (6.3s)\n",
      "loading data_hdf/_ftrn_xgb_gbdt_hist_5OF.leafs.h5... OK (54.1s)\n",
      "loading data_hdf/_tst_xgb_gbdt_hist_5OF.leafs.h5... OK (5.5s)\n",
      "loading data_hdf/_history_ftrain.h5... OK (60.7s)\n",
      "loading data_hdf/_history_test.h5... OK (51.0s)\n"
     ]
    }
   ],
   "source": [
    "split_pathway = False #or full tables\n",
    "lgbm_gbdt = True #or xgb gbdt\n",
    "\n",
    "gbdt_filename = 'xgb_gbdt_hist_5OF'\n",
    "\n",
    "maincols_trn = [u'user_id', u'notif_id', u'interaction']\n",
    "maincols_tst = [u'user_id', u'notif_id']\n",
    "histcols = [u'last_click_1st', u'last_click_2nd',\n",
    "       u'last_click_3rd', u'last_click_4th',\n",
    "       u'prev_day_imps', u'prev_nid',\n",
    "       u'next_day_imps',u'next_nid']\n",
    "\n",
    "if split_pathway:\n",
    "    train_split = deca_load('train_split')[maincols_trn].reset_index(drop=True)\n",
    "    valid_split = deca_load('valid_split')[maincols_trn].reset_index(drop=True)\n",
    "    if lgbm_gbdt:\n",
    "        gb_tr_out = deca_load('trn_gbdt_hist2.leafs')\n",
    "        gb_va_out = deca_load('val_gbdt_hist2.leafs')\n",
    "    else:\n",
    "        gb_tr_out = deca_load('trn_xgb_gbdt_hist.leafs')\n",
    "        gb_va_out = deca_load('val_xgb_gbdt_hist.leafs')\n",
    "    gb_tr_out.columns = ['GB{}'.format(c) for c in gb_tr_out.columns]\n",
    "    gb_va_out.columns = ['GB{}'.format(c) for c in gb_va_out.columns]\n",
    "    train_split = pd.merge(train_split, gb_tr_out, left_index=True, right_index=True)\n",
    "    valid_split = pd.merge(valid_split, gb_va_out, left_index=True, right_index=True)\n",
    "    train_split = pd.concat([train_split, deca_load('history_train')[histcols]], axis=1)\n",
    "    valid_split = pd.concat([valid_split, deca_load('history_valid')[histcols]], axis=1)\n",
    "    del gb_tr_out, gb_va_out\n",
    "else:\n",
    "    full_train_table = deca_load('full_train_history')[maincols_trn]\n",
    "    test = deca_load('test_history')[maincols_tst]\n",
    "    \n",
    "    gb_ftr_out = deca_load('ftrn_{}.leafs'.format(gbdt_filename))\n",
    "    gb_tst_out = deca_load('tst_{}.leafs'.format(gbdt_filename))\n",
    "    \n",
    "    gb_ftr_out.columns = ['GB{}'.format(c) for c in gb_ftr_out.columns]\n",
    "    gb_tst_out.columns = ['GB{}'.format(c) for c in gb_tst_out.columns]\n",
    "    full_train_table = pd.merge(full_train_table, gb_ftr_out, left_index=True, right_index=True)\n",
    "    test = pd.merge(test, gb_tst_out, left_index=True, right_index=True)\n",
    "    full_train_table = pd.concat([full_train_table, deca_load('history_ftrain')[histcols]], axis=1)\n",
    "    test = pd.concat([test, deca_load('history_test')[histcols]], axis=1)\n",
    "    del gb_ftr_out, gb_tst_out"
   ]
  },
  {
   "cell_type": "code",
   "execution_count": 4,
   "metadata": {
    "init_cell": true
   },
   "outputs": [],
   "source": [
    "if split_pathway:\n",
    "    train_split['uid'] = train_split.user_id\n",
    "    valid_split['uid'] = valid_split.user_id\n",
    "else:\n",
    "    full_train_table['uid'] = full_train_table.user_id\n",
    "    test['uid'] = test.user_id"
   ]
  },
  {
   "cell_type": "code",
   "execution_count": 5,
   "metadata": {
    "init_cell": true
   },
   "outputs": [
    {
     "name": "stdout",
     "output_type": "stream",
     "text": [
      "loading data_hdf/_users_table_augmented.h5... OK (8.5s)\n",
      "loading data_hdf/_notifs_table_augmented.h5... OK (0.1s)\n"
     ]
    }
   ],
   "source": [
    "includeImps = False\n",
    "\n",
    "usercols = [u'user_id', u'C1', u'C2', u'C3', u'C4', u'C5', u'C6', u'N1', u'N2', u'N3', \n",
    "       u'S1_PCA_KMEANS234', u'S2_PCA_KMEANS189', u'S1notNA', u'S1idxmax', u'S2notNA', \n",
    "            u'S2idxmax', u'u1s_kmeans199', u'u2s_kmeans299']\n",
    "notifcols = [u'notif_id', u'notif_send_dow', u'notif_send_hour',\n",
    "       u'notifC', u'words', u'sentenceC', u'icon_hash',\n",
    "       u'icon_kmeans250', u'icon_kmeans500', u'notif_time_bin',\n",
    "       u'notif_kmeans', u'notif_kmeans520', u'words_count']\n",
    "\n",
    "users_table = deca_load('users_table_augmented')[usercols]\n",
    "notifs_table = deca_load('notifs_table_augmented')[notifcols]"
   ]
  },
  {
   "cell_type": "code",
   "execution_count": 6,
   "metadata": {
    "init_cell": true
   },
   "outputs": [
    {
     "name": "stdout",
     "output_type": "stream",
     "text": [
      "loading data_hdf/_UsvdFullScaled.h5... OK (3.6s)\n",
      "loading data_hdf/_UsvdFullScaled.h5... OK (0.5s)\n",
      "loading data_hdf/_VsvdFullScaled.h5... OK (0.0s)\n",
      "loading data_hdf/_VsvdFullScaled.h5... OK (0.1s)\n",
      "CPU times: user 7min 20s, sys: 7min 57s, total: 15min 17s\n",
      "Wall time: 15min 20s\n",
      "Parser   : 1.98 s\n"
     ]
    }
   ],
   "source": [
    "%%time\n",
    "user_table_temp = users_table\n",
    "notif_table_temp = notifs_table\n",
    "if split_pathway:\n",
    "    train_split = pd.merge(train_split, \n",
    "                  user_table_temp,\n",
    "                  how='left',\n",
    "                  on='user_id'\n",
    "                 )\n",
    "    train_split = pd.merge(train_split, \n",
    "                  notif_table_temp,\n",
    "                  how='left',\n",
    "                  on='notif_id'\n",
    "                 )\n",
    "    valid_split = pd.merge(valid_split, \n",
    "              user_table_temp,\n",
    "              how='left',\n",
    "              on='user_id'\n",
    "             )\n",
    "    valid_split = pd.merge(valid_split, \n",
    "              notif_table_temp,\n",
    "              how='left',\n",
    "              on='notif_id'\n",
    "             )\n",
    "    train_split = pd.merge(train_split, deca_load('UsvdSplitScaled')[['Usvd_kmeans150']],\n",
    "                          how='left', left_on='user_id', right_index=True)\n",
    "    valid_split = pd.merge(valid_split, deca_load('UsvdSplitScaled')[['Usvd_kmeans150']],\n",
    "                          how='left', left_on='user_id', right_index=True)\n",
    "    train_split = pd.merge(train_split, deca_load('VsvdSplitScaled')[['Vsvd_kmeans111']],\n",
    "                          how='left', left_on='notif_id', right_index=True)\n",
    "    valid_split = pd.merge(valid_split, deca_load('VsvdSplitScaled')[['Vsvd_kmeans111']],\n",
    "                          how='left', left_on='notif_id', right_index=True)\n",
    "    \n",
    "else:\n",
    "    full_train_table = pd.merge(full_train_table, \n",
    "                  user_table_temp,\n",
    "                  how='left',\n",
    "                  on='user_id'\n",
    "                 )\n",
    "    full_train_table = pd.merge(full_train_table, \n",
    "                  notif_table_temp,\n",
    "                  how='left',\n",
    "                  on='notif_id'\n",
    "                 )\n",
    "    test = pd.merge(test, \n",
    "              user_table_temp,\n",
    "              how='left',\n",
    "              on='user_id'\n",
    "             )\n",
    "    test = pd.merge(test, \n",
    "              notif_table_temp,\n",
    "              how='left',\n",
    "              on='notif_id'\n",
    "             )\n",
    "    full_train_table = pd.merge(full_train_table, deca_load('UsvdFullScaled')[['Usvd_kmeans150']],\n",
    "                          how='left', left_on='user_id', right_index=True)\n",
    "    test = pd.merge(test, deca_load('UsvdFullScaled')[['Usvd_kmeans150']],\n",
    "                          how='left', left_on='user_id', right_index=True)\n",
    "    full_train_table = pd.merge(full_train_table, deca_load('VsvdFullScaled')[['Vsvd_kmeans111']],\n",
    "                          how='left', left_on='notif_id', right_index=True)\n",
    "    test = pd.merge(test, deca_load('VsvdFullScaled')[['Vsvd_kmeans111']],\n",
    "                          how='left', left_on='notif_id', right_index=True)"
   ]
  },
  {
   "cell_type": "code",
   "execution_count": 7,
   "metadata": {
    "init_cell": true,
    "scrolled": true
   },
   "outputs": [
    {
     "name": "stdout",
     "output_type": "stream",
     "text": [
      "(last_click_1st 2 [1617]), \n",
      "\t(last_click_1st 1 [0]), \n",
      "(last_click_2nd 11 [504]), \n",
      "\t(last_click_2nd 1 [0]), \n",
      "(last_click_3rd 21 [283]), \n",
      "\t(last_click_3rd 1 [0]), \n",
      "(last_click_4th 31 [397]), \n",
      "\t(last_click_4th 1 [0]), \n",
      "SKIPPED prev_day_imps\n",
      "(prev_nid 191 [7486276]), \n",
      "\t(prev_nid 1 [0]), \n",
      "SKIPPED next_day_imps\n",
      "SKIPPED next_nid\n",
      "(uid 1420628 [3839035]), \n",
      "\t(uid 1 [0]), \n",
      "(C1 257 [581]), \n",
      "\t(C1 1 [0]), \n",
      "(C2 1577 [3298]), \n",
      "\t(C2 1 [0]), \n",
      "(C3 54 [194]), \n",
      "\t(C3 1 [0]), \n",
      "(C4 177 [509]), \n",
      "\t(C4 1 [0]), \n",
      "SKIPPED C5\n",
      "SKIPPED C6\n",
      "(N1 59 [757]), \n",
      "\t(N1 1 [0]), \n",
      "(N2 437 [5279]), \n",
      "\t(N2 1 [0]), \n",
      "(N3 357 [4000]), \n",
      "\t(N3 1 [0]), \n",
      "SKIPPED S1_PCA_KMEANS234\n",
      "SKIPPED S2_PCA_KMEANS189\n",
      "SKIPPED S1notNA\n",
      "SKIPPED S1idxmax\n",
      "(S2notNA 6 [253]), \n",
      "\t(S2notNA 1 [0]), \n",
      "SKIPPED S2idxmax\n",
      "(u1s_kmeans199 1 [0]), \n",
      "\t(u1s_kmeans199 1 [0]), \n",
      "(u2s_kmeans299 1 [0]), \n",
      "\t(u2s_kmeans299 1 [0]), \n",
      "SKIPPED notif_send_dow\n",
      "SKIPPED notif_send_hour\n",
      "(notifC 0 [0]), \n",
      "(sentenceC 52 [6975880]), \n",
      "\t(sentenceC 1 [0]), \n",
      "(icon_hash 57 [5961147]), \n",
      "\t(icon_hash 1 [0]), \n",
      "(icon_kmeans250 6 [1794102]), \n",
      "\t(icon_kmeans250 1 [0]), \n",
      "(icon_kmeans500 10 [2411529]), \n",
      "\t(icon_kmeans500 1 [0]), \n",
      "SKIPPED notif_time_bin\n",
      "(notif_kmeans 7 [978508]), \n",
      "\t(notif_kmeans 1 [0]), \n",
      "(notif_kmeans520 13 [2513863]), \n",
      "\t(notif_kmeans520 1 [0]), \n",
      "(Usvd_kmeans150 11 [2118971]), \n",
      "\t(Usvd_kmeans150 1 [0]), \n",
      "(Vsvd_kmeans111 2 [337074]), \n",
      "\t(Vsvd_kmeans111 1 [0]), \n",
      "finished!\n"
     ]
    }
   ],
   "source": [
    "if split_pathway:\n",
    "    for col in valid_split.columns:\n",
    "        if col.startswith('GB') or col in ['interaction', 'user_id', 'notif_id', 'words']:\n",
    "            continue\n",
    "        items_val = set(valid_split[col].unique().tolist())\n",
    "        items_trn = set(train_split[col].unique().tolist())\n",
    "        unseen_vals = items_val - items_trn\n",
    "        print ('({} {} [{}]), '.format(col, len(unseen_vals), valid_split[valid_split[col].isin(unseen_vals)].shape[0]))\n",
    "        if unseen_vals:\n",
    "            if col in ['uid', 'notif_kmeans520', 'icon_kmeans250', #notif_kmeans\n",
    "                       'icon_kmeans500', 'sentenceC', 'Usvd_kmeans150', 'Vsvd_kmeans111', 'u1s_kmeans199', 'u2s_kmeans299']: \n",
    "                items_to_delete_val = (items_val ^ items_trn)\n",
    "                valid_split.loc[valid_split[col].isin(items_to_delete_val), col] = np.nan\n",
    "                train_split.loc[train_split[col].isin(items_to_delete_val), col] = np.nan\n",
    "            else:\n",
    "                items_to_delete_val = (items_val - items_trn)\n",
    "                valid_split.loc[valid_split[col].isin(items_to_delete_val), col] = np.nan\n",
    "            items_val = set(valid_split[col].unique().tolist())\n",
    "            items_trn = set(train_split[col].unique().tolist())\n",
    "            unseen_vals = items_val - items_trn\n",
    "            print ('\\t({} {} [{}]), '.format(col, len(unseen_vals), valid_split[valid_split[col].isin(unseen_vals)].shape[0]))\n",
    "else:\n",
    "    for col in test.columns:\n",
    "        if col in ['prev_day_imps', 'C5', 'C6', 'S1_PCA_KMEANS234', 'S2_PCA_KMEANS189', 'notif_send_dow', 'notif_time_bin', \n",
    "                   'notif_send_hour', 'S2idxmax', 'S1idxmax', 'S1notNA', 'next_nid', 'next_day_imps']:\n",
    "            print('SKIPPED', col)\n",
    "            continue\n",
    "        if col.startswith('GB') or col in ['interaction', 'user_id', 'notif_id', 'words', 'words_count']:\n",
    "            continue\n",
    "        items_val = set(test[col].unique().tolist())\n",
    "        items_trn = set(full_train_table[col].unique().tolist())\n",
    "        unseen_vals = items_val - items_trn\n",
    "        print ('({} {} [{}]), '.format(col, len(unseen_vals), test[test[col].isin(unseen_vals)].shape[0]))\n",
    "        if unseen_vals:\n",
    "            if col in ['uid', 'notif_kmeans520', 'icon_kmeans250', #notif_kmeans\n",
    "                       'icon_kmeans500', 'sentenceC', 'Usvd_kmeans150', 'Vsvd_kmeans111', 'u1s_kmeans199', 'u2s_kmeans299']: \n",
    "                items_to_delete_val = (items_val ^ items_trn)\n",
    "                test.loc[test[col].isin(items_to_delete_val), col] = np.nan\n",
    "                full_train_table.loc[full_train_table[col].isin(items_to_delete_val), col] = np.nan\n",
    "            else:\n",
    "                items_to_delete_val = (items_val - items_trn)\n",
    "                test.loc[test[col].isin(items_to_delete_val), col] = np.nan\n",
    "            items_val = set(test[col].unique().tolist())\n",
    "            items_trn = set(full_train_table[col].unique().tolist())\n",
    "            unseen_vals = items_val - items_trn\n",
    "            print ('\\t({} {} [{}]), '.format(col, len(unseen_vals), test[test[col].isin(unseen_vals)].shape[0]))\n",
    "print('finished!')"
   ]
  },
  {
   "cell_type": "markdown",
   "metadata": {
    "heading_collapsed": true
   },
   "source": [
    "# Notifs"
   ]
  },
  {
   "cell_type": "markdown",
   "metadata": {
    "heading_collapsed": true,
    "hidden": true
   },
   "source": [
    "## Augmenting notifs table with impression data from *_both_* train and test info\n",
    "ranges are found by quantile analysis\n",
    "\n",
    "<span style=\"color:red\">QUESTION:</span> Does it cause leakage?! For real world, sure! But for the competition?"
   ]
  },
  {
   "cell_type": "code",
   "execution_count": null,
   "metadata": {
    "hidden": true
   },
   "outputs": [],
   "source": [
    "# test_notif_imps = test_table.groupby('notif_id').notif_id.count().to_frame(name='impressions')\n",
    "# train_notif_imps = full_train_table.groupby('notif_id').notif_id.count().to_frame(name='impressions')\n",
    "# all_notif_imps = pd.concat([test_notif_imps, train_notif_imps])"
   ]
  },
  {
   "cell_type": "code",
   "execution_count": null,
   "metadata": {
    "hidden": true
   },
   "outputs": [],
   "source": [
    "# def get_imp_bin(imps):\n",
    "#     if imps<5700:\n",
    "#         imp_bin = 1\n",
    "#     if imps < 7100:\n",
    "#         imp_bin = 2\n",
    "#     elif imps < 8300:\n",
    "#         imp_bin = 3\n",
    "#     elif imps < 12000:\n",
    "#         imp_bin = 4\n",
    "#     elif imps < 21000:\n",
    "#         imp_bin = 5\n",
    "#     elif imps < 55000:\n",
    "#         imp_bin = 6\n",
    "#     else:\n",
    "#         imp_bin = 7\n",
    "#     return imp_bin"
   ]
  },
  {
   "cell_type": "code",
   "execution_count": null,
   "metadata": {
    "hidden": true
   },
   "outputs": [],
   "source": [
    "# all_notif_imps = all_notif_imps.apply(get_imp_bin)\n",
    "# all_notif_imps = all_notif_imps.to_frame(name='impression_bin')\n",
    "# notif_table_full = notif_table_full.merge(all_notif_imps, left_on='notif_id', right_index=True, how='outer')\n",
    "# notif_table_split = notif_table_split.merge(all_notif_imps, left_on='notif_id', right_index=True, how='outer')\n",
    "# test_table = notif_table_split.merge(all_notif_imps, left_on='notif_id', right_index=True, how='outer')"
   ]
  },
  {
   "cell_type": "code",
   "execution_count": null,
   "metadata": {
    "hidden": true
   },
   "outputs": [],
   "source": [
    "# test_notif_imps = test_table.groupby('notif_id').notif_id.count().to_frame(name='impressions')"
   ]
  },
  {
   "cell_type": "code",
   "execution_count": null,
   "metadata": {
    "hidden": true
   },
   "outputs": [],
   "source": []
  },
  {
   "cell_type": "markdown",
   "metadata": {},
   "source": [
    "# Merging users table"
   ]
  },
  {
   "cell_type": "markdown",
   "metadata": {},
   "source": [
    "## Binning numerical user features (N1, N2 & N3)"
   ]
  },
  {
   "cell_type": "code",
   "execution_count": null,
   "metadata": {},
   "outputs": [],
   "source": [
    "users_table['N1_bin'] = pd.qcut(users_table['N1'], 10, duplicates='drop')\n",
    "users_table['N1_bin'] =  users_table['N1_bin'].cat.codes\n",
    "users_table['N1_bin'] = users_table['N1_bin'].astype(str)\n",
    "users_table['N2_bin'] = pd.qcut(users_table['N2'], 20)\n",
    "users_table['N2_bin'] =  users_table['N2_bin'].cat.codes\n",
    "users_table['N2_bin'] = users_table['N2_bin'].astype(str)\n",
    "users_table['N3_bin'] = pd.qcut(users_table['N3'], 20, duplicates='drop')\n",
    "users_table['N3_bin'] =  users_table['N3_bin'].cat.codes\n",
    "users_table['N3_bin'] = users_table['N3_bin'].astype(str)"
   ]
  },
  {
   "cell_type": "markdown",
   "metadata": {},
   "source": [
    "# Selecting and Mapping Features"
   ]
  },
  {
   "cell_type": "markdown",
   "metadata": {},
   "source": [
    "## Selecting features"
   ]
  },
  {
   "cell_type": "code",
   "execution_count": 8,
   "metadata": {
    "init_cell": true
   },
   "outputs": [
    {
     "name": "stdout",
     "output_type": "stream",
     "text": [
      "Included Fields:\n",
      "C1, C2, C3, C4, C5, C6, GB0, GB10, GB12, GB14, GB16, GB18, GB2, GB20, GB22, GB24, GB4, GB6, GB8, N1, N2, N3, S1_PCA_KMEANS234, S2_PCA_KMEANS189, icon_kmeans500, next_nid, notifC, notif_kmeans, notif_kmeans520, prev_day_imps, prev_nid, u1s_kmeans199, u2s_kmeans299, uid, words, words_count, \n",
      "\n",
      "Excluded Fields:\n",
      "GB1, GB11, GB13, GB15, GB17, GB19, GB21, GB23, GB25, GB3, GB5, GB7, GB9, S1idxmax, S1notNA, S2idxmax, S2notNA, Usvd_kmeans150, Vsvd_kmeans111, icon_hash, icon_kmeans250, imps, interaction, last_click_1st, last_click_2nd, last_click_3rd, last_click_4th, next_day_imps, notif_id, notif_send_dow, notif_send_hour, notif_time_bin, sentenceC, user_id, "
     ]
    }
   ],
   "source": [
    "FILE_NUM = 2\n",
    "if split_pathway:\n",
    "    COLS = sorted(list(set(list(train_split.columns) + list(notifs_table.columns) + list(users_table.columns))))\n",
    "    max_gb_col = int(filter(lambda x: x.startswith('GB'), list(train_split.columns))[-1][2:])\n",
    "else:\n",
    "    COLS = sorted(list(set(list(full_train_table.columns) + list(notifs_table.columns) + list(users_table.columns))))\n",
    "    max_gb_col = int(filter(lambda x: x.startswith('GB'), list(full_train_table.columns))[-1][2:])\n",
    "\n",
    "COLS.append('imps')\n",
    "\n",
    "# + ['GB{}'.format(i) for i in range(0, max_gb_col+1)]\n",
    "if FILE_NUM==1:\n",
    "    Flds = ['uid'] + ['GB{}'.format(i) for i in range(0, max_gb_col+1)] + \\\n",
    "                     ['C1', 'C2', 'C3', 'C4', 'C5', 'C6', \n",
    "                     'N1', 'N2', 'N3'] + \\\n",
    "                    ['next_day_imps', 'next_nid', 'prev_nid'] + \\\n",
    "            ['S1_PCA_KMEANS234', 'S1idxmax', 'S2idxmax'] + \\\n",
    "            ['u1s_kmeans199', 'u2s_kmeans299', 'Usvd_kmeans150', 'Vsvd_kmeans111'] + \\\n",
    "                     ['notif_send_dow', 'notifC', 'notif_send_hour', 'sentenceC', 'notif_kmeans', 'words_count', 'icon_kmeans250'] \n",
    "elif FILE_NUM==2:\n",
    "    Flds = ['uid'] + ['GB{}'.format(i) for i in range(0, max_gb_col+1, 2)] + \\\n",
    "                     ['C1', 'C2', 'C3', 'C4', 'C5', 'C6', \n",
    "                     'N1', 'N2', 'N3'] + \\\n",
    "                    ['prev_day_imps', 'next_nid', 'prev_nid'] + \\\n",
    "            ['S1_PCA_KMEANS234', 'S2_PCA_KMEANS189'] + \\\n",
    "            ['u1s_kmeans199', 'u2s_kmeans299'] + \\\n",
    "                     ['notifC', 'notif_kmeans', 'words_count', \n",
    "                      'icon_kmeans500', 'notif_kmeans520']#'icon_kmeans250'] #, 'Usvd_kmeans150', 'Vsvd_kmeans111'] + \\\n",
    "#'u1s_kmeans199', 'u2s_kmeans299'\n",
    "#icon_kmeans250\n",
    "\n",
    "includeWords = True\n",
    "if includeWords:\n",
    "    Flds.append('words')\n",
    "    \n",
    "includeImps = False\n",
    "if includeImps:\n",
    "    Flds.append('imps')\n",
    "    \n",
    "Fields = list(enumerate(Flds))\n",
    "\n",
    "excludedF, includedF = [], []\n",
    "for c in COLS:\n",
    "    if c in dict(Fields).values():\n",
    "        includedF.append(c)\n",
    "    else:\n",
    "        excludedF.append(c)\n",
    "print(\"Included Fields:\")\n",
    "for feat in sorted(includedF):\n",
    "    print(feat, end=', ')\n",
    "print('\\n')\n",
    "print(\"Excluded Fields:\")\n",
    "for feat in sorted(excludedF):\n",
    "    print(feat, end=', ')"
   ]
  },
  {
   "cell_type": "markdown",
   "metadata": {},
   "source": [
    "## Create DictField and DictFeature mappings"
   ]
  },
  {
   "cell_type": "code",
   "execution_count": 9,
   "metadata": {
    "init_cell": true,
    "scrolled": true
   },
   "outputs": [
    {
     "name": "stdout",
     "output_type": "stream",
     "text": [
      "(0) uid has 2030754 features\n",
      "(1) GB0 has 256 features\n",
      "(2) GB2 has 256 features\n",
      "(3) GB4 has 256 features\n",
      "(4) GB6 has 256 features\n",
      "(5) GB8 has 256 features\n",
      "(6) GB10 has 256 features\n",
      "(7) GB12 has 256 features\n",
      "(8) GB14 has 254 features\n",
      "(9) GB16 has 254 features\n",
      "(10) GB18 has 234 features\n",
      "(11) GB20 has 256 features\n",
      "(12) GB22 has 249 features\n",
      "(13) GB24 has 256 features\n",
      "(14) C1 has 1078 features\n",
      "(15) C2 has 6622 features\n",
      "(16) C3 has 229 features\n",
      "(17) C4 has 1017 features\n",
      "(18) C5 has 33 features\n",
      "(19) C6 has 428 features\n",
      "(20) N1 has 294 features\n",
      "(21) N2 has 2517 features\n",
      "(22) N3 has 1851 features\n",
      "(23) prev_day_imps has 52 features\n",
      "(24) next_nid has 4629 features\n",
      "(25) prev_nid has 4440 features\n",
      "(26) S1_PCA_KMEANS234 has 235 features\n",
      "(27) S2_PCA_KMEANS189 has 190 features\n",
      "(28) u1s_kmeans199 has 200 features\n",
      "(29) u2s_kmeans299 has 300 features\n",
      "(30) notifC has 7 features\n",
      "(31) notif_kmeans has 219 features\n",
      "(32) words_count has 47 features\n",
      "(33) icon_kmeans500 has 37 features\n",
      "(34) notif_kmeans520 has 27 features\n",
      "(35) words has 1830 features\n",
      "Total fields:36\n",
      "Total features:2060331\n",
      "Feature bitlength:21.0\n",
      "Took 33.0438380241s\n"
     ]
    }
   ],
   "source": [
    "config_str = ''\n",
    "tic = time.time()\n",
    "DictField = dict([(f[1], f[0])for f in Fields])\n",
    "DictFeature = {}\n",
    "featNum = 0\n",
    "\n",
    "flatten = lambda l: [item for sublist in l for item in sublist]\n",
    "\n",
    "if split_pathway:\n",
    "    tbl = train_split\n",
    "else:\n",
    "    tbl = full_train_table\n",
    "\n",
    "for ci, c in Fields:\n",
    "    features = None\n",
    "    if c == 'words':\n",
    "        if split_pathway:\n",
    "            notif_ids_train = list(train_split.notif_id.unique())\n",
    "        else:\n",
    "            notif_ids_train = list(full_train_table.notif_id.unique())\n",
    "        features = notif_train_words = list(set(flatten([map(int, msg.split('|')) for msg in notifs_table[notifs_table.notif_id.isin(notif_ids_train)]['words']])))\n",
    "    elif c == 'imps':\n",
    "        if split_pathway:\n",
    "            user_ids_train = list(train_split.user_id.unique())\n",
    "        else:\n",
    "            user_ids_train = list(full_train_table.user_id.unique())\n",
    "        users_notifs_imps = deca_load('users_notifs_imps')\n",
    "        features = user_train_imps = list(set(flatten(users_notifs_imps[users_notifs_imps.user_id.isin(user_ids_train)]['imps'])))\n",
    "    else:\n",
    "        features = list(tbl[c].unique())\n",
    "    print('({2}) {0} has {1} features'.format(c, len(features), ci))\n",
    "    config_str += '({2}) {0} has {1} features\\n'.format(c, len(features), ci)\n",
    "    for f in features:\n",
    "        if (ci, f) not in DictFeature:\n",
    "            DictFeature[(ci, f)] = featNum\n",
    "            featNum += 1\n",
    "print('Total fields:{}'.format(ci+1))\n",
    "print('Total features:{}'.format(featNum))\n",
    "print('Feature bitlength:{}'.format(math.ceil(math.log(featNum, 2))))\n",
    "print('Took {}s'.format(time.time() - tic))\n",
    "# conf_num = abs(murmurhash3_32(config_str)) * 2\n",
    "# with open('/home/nima_mohammadi/Pushe/CNFs/{}.config'.format(conf_num), 'w') as fc:\n",
    "#     fc.write(str(dt.now()) + '\\n')\n",
    "#     fc.write(config_str)\n",
    "# print('/home/nima_mohammadi/Pushe/CNFs/{}.config'.format(conf_num))"
   ]
  },
  {
   "cell_type": "markdown",
   "metadata": {},
   "source": [
    "# Create mappings for notif_ids seen by users and words"
   ]
  },
  {
   "cell_type": "code",
   "execution_count": 10,
   "metadata": {
    "init_cell": true
   },
   "outputs": [],
   "source": [
    "import collections\n",
    "def get_dict_for_words(ntf_tbl, ci, notif_train_words, decoded=False):\n",
    "    table = ntf_tbl.set_index('notif_id')\n",
    "    result_dict = defaultdict(list)\n",
    "    c = 'words'\n",
    "    for k, feature in table[~table[c].isnull()][c].iteritems():\n",
    "        #Taking word counts into account\n",
    "        notif_spl_words2 = collections.Counter(map(int, feature.split('|')))\n",
    "        weight = 1.0 / sum(notif_spl_words2.values())\n",
    "        for nw, cnt in notif_spl_words2.items():\n",
    "            if nw not in notif_train_words:\n",
    "                continue\n",
    "            result_dict[k].append((ci, DictFeature[(ci, nw)], np.log(1.7 + cnt)))\n",
    "    return result_dict"
   ]
  },
  {
   "cell_type": "code",
   "execution_count": 11,
   "metadata": {
    "init_cell": true
   },
   "outputs": [],
   "source": [
    "ci = -1\n",
    "for i, c in Fields:\n",
    "    if c=='words':\n",
    "        ci = i\n",
    "        break\n",
    "if ci >= 0:\n",
    "    words_dict_cython = get_dict_for_words(notifs_table, ci, notif_train_words)\n",
    "else:\n",
    "    words_dict_cython = None\n",
    "    print(\"'words' not included\")"
   ]
  },
  {
   "cell_type": "code",
   "execution_count": 12,
   "metadata": {
    "init_cell": true
   },
   "outputs": [],
   "source": [
    "%%cython --compile-args=-O3 --cplus\n",
    "cimport cython\n",
    "cpdef get_dict_for_imps(list items, int ci, user_train_imps, dict DictFeature):\n",
    "    result_dict = dict()\n",
    "    c = 'imps'\n",
    "    cdef long k\n",
    "    cdef float weight\n",
    "#     cdef list feature\n",
    "    cdef list out\n",
    "    for k, feature in items:\n",
    "        out = []\n",
    "        weight = 1.0 / len(feature)\n",
    "        for nw in feature:\n",
    "            if nw not in user_train_imps:\n",
    "                continue\n",
    "            out.append((ci, DictFeature[(ci, nw)], weight))\n",
    "        result_dict[k] = out\n",
    "    return result_dict"
   ]
  },
  {
   "cell_type": "code",
   "execution_count": 13,
   "metadata": {
    "init_cell": true
   },
   "outputs": [
    {
     "name": "stdout",
     "output_type": "stream",
     "text": [
      "'imps' not included\n",
      "CPU times: user 0 ns, sys: 0 ns, total: 0 ns\n",
      "Wall time: 221 µs\n"
     ]
    }
   ],
   "source": [
    "%%time\n",
    "ci = -1\n",
    "for i, c in Fields:\n",
    "    if c=='imps':\n",
    "        ci = i\n",
    "        break\n",
    "if ci >= 0:\n",
    "    imps_dict_cython = get_dict_for_imps(list(users_notifs_imps.set_index('user_id').imps.iteritems()), ci, set(user_train_imps), DictFeature)\n",
    "else:\n",
    "    imps_dict_cython = None\n",
    "    print(\"'imps' not included\")"
   ]
  },
  {
   "cell_type": "markdown",
   "metadata": {},
   "source": [
    "# Write binary for batch-learn"
   ]
  },
  {
   "cell_type": "code",
   "execution_count": 14,
   "metadata": {
    "init_cell": true
   },
   "outputs": [],
   "source": [
    "ModDictFeatures = dict()\n",
    "for k, v in DictFeature.iteritems():\n",
    "    if k[0] not in ModDictFeatures:\n",
    "        ModDictFeatures[k[0]] = {}\n",
    "    ModDictFeatures[k[0]][k[1]] = v"
   ]
  },
  {
   "cell_type": "code",
   "execution_count": 15,
   "metadata": {
    "init_cell": true
   },
   "outputs": [
    {
     "name": "stdout",
     "output_type": "stream",
     "text": [
      "(0, 'uid') (1, 'GB0') (2, 'GB2') (3, 'GB4') (4, 'GB6') (5, 'GB8') (6, 'GB10') (7, 'GB12') (8, 'GB14') (9, 'GB16') (10, 'GB18') (11, 'GB20') (12, 'GB22') (13, 'GB24') (14, 'C1') (15, 'C2') (16, 'C3') (17, 'C4') (18, 'C5') (19, 'C6') (20, 'N1') (21, 'N2') (22, 'N3') (23, 'prev_day_imps') (24, 'next_nid') (25, 'prev_nid') (26, 'S1_PCA_KMEANS234') (27, 'S2_PCA_KMEANS189') (28, 'u1s_kmeans199') (29, 'u2s_kmeans299') (30, 'notifC') (31, 'notif_kmeans') (32, 'words_count') (33, 'icon_kmeans500') (34, 'notif_kmeans520') \n",
      "CPU times: user 8min 28s, sys: 2min 34s, total: 11min 3s\n",
      "Wall time: 11min 3s\n"
     ]
    }
   ],
   "source": [
    "%%time\n",
    "TableFields = Fields\n",
    "TBL_COLS = Fields\n",
    "IGN_COLS = ['words', 'imps']\n",
    "# IGN_COLS += ['GB0', 'GB1', 'GB2', 'GB3', 'GB4', 'GB5', 'GB6']\n",
    "TBL_COLS = filter(lambda x: x[1] not in IGN_COLS, TBL_COLS)\n",
    "\n",
    "if split_pathway:\n",
    "    train_split_enc = train_split[[c[1] for c in TBL_COLS]].copy()\n",
    "    valid_split_enc = valid_split[[c[1] for c in TBL_COLS]].copy()\n",
    "    for col in TBL_COLS:\n",
    "        print(col, end=' ')\n",
    "        mapping = pd.DataFrame(ModDictFeatures[col[0]].items()).set_index(0).iloc[:,0]\n",
    "        train_split_enc[col[1]] = train_split_enc[col[1]].map(mapping)\n",
    "        valid_split_enc[col[1]] = valid_split_enc[col[1]].map(mapping)\n",
    "else:\n",
    "    full_train_table_enc = full_train_table[[c[1] for c in TBL_COLS]].copy()\n",
    "    test_enc = test[[c[1] for c in TBL_COLS]].copy()\n",
    "    for col in TBL_COLS:\n",
    "        print(col, end=' ')\n",
    "        mapping = pd.DataFrame(ModDictFeatures[col[0]].items()).set_index(0).iloc[:,0]\n",
    "        full_train_table_enc[col[1]] = full_train_table_enc[col[1]].map(mapping)\n",
    "        test_enc[col[1]] = test_enc[col[1]].map(mapping)\n",
    "print()"
   ]
  },
  {
   "cell_type": "markdown",
   "metadata": {},
   "source": [
    "### Distilled Knowledge (disabled)\n",
    "Our attempt to use distilled knowledge proposed by hinton (showed promising result but we did not have time to include it in our submissions)"
   ]
  },
  {
   "cell_type": "code",
   "execution_count": 46,
   "metadata": {},
   "outputs": [],
   "source": [
    "# from scipy import io\n",
    "# distilled = io.loadmat('/tmp/split.distilled')\n",
    "\n",
    "# valid_distilled_pos = valid_split_enc[valid_split_enc.index.isin(distilled['positive'])].copy()\n",
    "# valid_distilled_neg = valid_split_enc[valid_split_enc.index.isin(distilled['negative'])].copy()\n",
    "\n",
    "# valid_distilled_uid_nid_pos = valid_split[valid_split.index.isin(distilled['positive'])][['user_id', 'notif_id']]\n",
    "# valid_distilled_uid_nid_neg = valid_split[valid_split.index.isin(distilled['negative'])][['user_id', 'notif_id']]\n",
    "\n",
    "# new_train_split = pd.concat([train_split[['user_id', 'notif_id']], valid_distilled_uid_nid_pos, valid_distilled_uid_nid_neg])\n",
    "# new_train_split_enc = pd.concat([train_split_enc, valid_distilled_pos, valid_distilled_neg])\n",
    "# new_train_split_interaction = np.hstack([train_split.interaction.values, np.ones(valid_distilled_pos.shape[0]), np.zeros(valid_distilled_neg.shape[0])])\n",
    "\n",
    "# if split_pathway:\n",
    "#     tic = time.time()\n",
    "#     write_file('/media/ramdisk/train.bl', \n",
    "#                int(math.ceil(math.log(featNum, 2))), \n",
    "#                new_train_split_interaction, \n",
    "#                new_train_split[['user_id', 'notif_id']].values.astype(np.int), \n",
    "#                new_train_split_enc.values,\n",
    "#                words_dict_cython,\n",
    "#                imps_dict_cython\n",
    "#               )\n",
    "#     print('TRAIN: {}s'.format(time.time() - tic))\n",
    "    \n",
    "#     tic = time.time()\n",
    "#     write_file('/media/ramdisk/valid.bl', \n",
    "#                int(math.ceil(math.log(featNum, 2))), \n",
    "#                valid_split.interaction.values.astype(np.float), \n",
    "#                valid_split[['user_id', 'notif_id']].values.astype(np.int), \n",
    "#                valid_split_enc.values,\n",
    "#                words_dict_cython,\n",
    "#                imps_dict_cython\n",
    "#               )\n",
    "#     print('VALID: {}s'.format(time.time() - tic))"
   ]
  },
  {
   "cell_type": "markdown",
   "metadata": {},
   "source": [
    "### Write files"
   ]
  },
  {
   "cell_type": "markdown",
   "metadata": {},
   "source": [
    "As creating the intermediate LIBSVM-formatted text file would take too long, we directly export the binary in the format specified by `batch-learn`. Refer to the source of `batch-learn` as the reference for the following Cython implementation."
   ]
  },
  {
   "cell_type": "code",
   "execution_count": null,
   "metadata": {},
   "outputs": [],
   "source": [
    "%%cython --compile-args=-O3 --cplus\n",
    "cimport cython\n",
    "from libcpp.vector cimport vector\n",
    "from libc.stdio cimport FILE, fopen, fwrite, fscanf, fclose, ftell, stdout, stderr, getline, fread, setvbuf, _IOFBF\n",
    "from libc.stdint cimport uint32_t, int64_t, uint64_t\n",
    "# from libcpp.unordered_map cimport unordered_map as umap\n",
    "# from libcpp.map cimport map as cmap\n",
    "from libc.math cimport isnan\n",
    "\n",
    "cimport numpy as np\n",
    "import numpy as np\n",
    "\n",
    "cdef struct feature:\n",
    "    uint32_t index\n",
    "    float value\n",
    "    \n",
    "cdef struct file_index:\n",
    "    uint64_t n_examples\n",
    "    uint32_t n_fields\n",
    "    uint32_t n_indices\n",
    "\n",
    "    uint32_t n_index_bits\n",
    "    \n",
    "    vector[float] labels\n",
    "    vector[uint64_t] offsets\n",
    "    vector[uint64_t] groups\n",
    "    \n",
    "cdef inline uint64_t write_data(const vector[feature] &features, uint64_t offset, FILE* file):\n",
    "    fwrite(features.data(), sizeof(feature), features.size(), file)\n",
    "    offset += features.size()\n",
    "    return offset\n",
    "\n",
    "cpdef mydummy(list tbl_fields):\n",
    "    for ci, c in tbl_fields:\n",
    "        print (ci, c)\n",
    "    return 101010\n",
    "\n",
    "ctypedef fused double_or_long:\n",
    "    cython.double\n",
    "    cython.long\n",
    "\n",
    "# cpdef write_file(filepath, int index_bits, double[:] target, long[:,:] table_user_notif, dict user_dict, dict notif_dict, dict DictFeature, double_or_long[:,:] table_feats):\n",
    "    \n",
    "@cython.boundscheck(False)\n",
    "@cython.wraparound(False)\n",
    "@cython.embedsignature(True)\n",
    "cpdef write_file(filepath, int index_bits, double[:] target, long[:,:] table_user_notif, \n",
    "                 double_or_long[:,:] table_feats, words_dict=None, imps_dict=None):\n",
    "    print('Start writing')\n",
    "    cdef file_index output_index\n",
    "    output_index.n_examples = 0\n",
    "    output_index.n_fields = 0\n",
    "    output_index.n_indices = 0\n",
    "    output_index.n_index_bits = index_bits\n",
    "    output_index.offsets.push_back(0)\n",
    "    \n",
    "    cdef vector[feature] features\n",
    "    cdef feature f\n",
    "    cdef long uid, nid\n",
    "    cdef uint32_t field, index\n",
    "    \n",
    "    cdef int words_flag\n",
    "    cdef int imps_flag\n",
    "    cdef long max_notif\n",
    "    cdef long max_user\n",
    "    cdef vector[vector[feature]] words_features\n",
    "    cdef vector[vector[feature]] imps_features\n",
    "    \n",
    "    if words_dict:\n",
    "        words_flag = 1\n",
    "        max_notif = max(words_dict.keys())\n",
    "        words_features.resize(max_notif+1)\n",
    "        \n",
    "        for nid in words_dict.keys():\n",
    "            features.clear()\n",
    "            for ll in range(len(words_dict[nid])):\n",
    "                field, index, f.value = words_dict[nid][ll]\n",
    "                f.index = (field << index_bits) | index\n",
    "                features.push_back(f)\n",
    "                if field >= output_index.n_fields:\n",
    "                    output_index.n_fields = field + 1\n",
    "                if index >= output_index.n_indices:\n",
    "                    output_index.n_indices = index + 1\n",
    "            words_features[nid] = features\n",
    "    else:\n",
    "        words_flag = 0\n",
    "        \n",
    "    if imps_dict:\n",
    "        imps_flag = 1\n",
    "        max_user = max(imps_dict.keys())\n",
    "        imps_features.resize(max_user+1)\n",
    "        \n",
    "        for uid in imps_dict.keys():\n",
    "            features.clear()\n",
    "            for ll in range(len(imps_dict[uid])):\n",
    "                field, index, f.value = imps_dict[uid][ll]\n",
    "                f.index = (field << index_bits) | index\n",
    "                features.push_back(f)\n",
    "                if field >= output_index.n_fields:\n",
    "                    output_index.n_fields = field + 1\n",
    "                if index >= output_index.n_indices:\n",
    "                    output_index.n_indices = index + 1\n",
    "            imps_features[uid] = features\n",
    "    else:\n",
    "        imps_flag = 0\n",
    "    \n",
    "    cdef FILE* data_file = fopen('{}.data'.format(filepath), 'wb')\n",
    "    cdef FILE* index_file = fopen('{}.index'.format(filepath), 'wb')\n",
    "    \n",
    "    cdef char[80000] buf1\n",
    "    setvbuf(data_file, buf1, _IOFBF, sizeof(buf1))\n",
    "    \n",
    "    cdef uint64_t i = 0, j = 0\n",
    "    cdef float y, value\n",
    "    \n",
    "    cdef uint64_t offset = 0\n",
    "    cdef double_or_long tfeat\n",
    "    \n",
    "    cdef int ci, c, coli\n",
    "    \n",
    "    cdef long table_user_notif_len = len(table_user_notif)\n",
    "    cdef int table_feats_len = table_feats.shape[1]\n",
    "    \n",
    "    for i in range(table_user_notif_len):\n",
    "#         if (i % 1000000)==0:\n",
    "#             print(i)\n",
    "# #             fclose(data_file)\n",
    "# #             fclose(index_file)\n",
    "# #             return\n",
    "        uid = table_user_notif[i][0]\n",
    "        nid = table_user_notif[i][1]\n",
    "        features.clear()\n",
    "        y = 1.0 if target[i] > 0 else -1.0;\n",
    "        \n",
    "        #Adding table features\n",
    "        for ci in range(table_feats_len):\n",
    "            tfeat = table_feats[i][ci]\n",
    "            if isnan(<float>tfeat):\n",
    "#                 print \" ---> SKIPPED\", ci, i\n",
    "                continue\n",
    "#             value = 1\n",
    "            index = <long>tfeat #DictFeature[(ci, tfeat)]\n",
    "#             print(ci, <float>tfeat, index)\n",
    "            field = ci\n",
    "#             print(field, table_feats[i][coli], index, value)\n",
    "            f.index = (field << index_bits) | index\n",
    "            f.value = 1\n",
    "            features.push_back(f)\n",
    "            if field >= output_index.n_fields:\n",
    "                output_index.n_fields = field + 1\n",
    "            if index >= output_index.n_indices:\n",
    "                output_index.n_indices = index + 1\n",
    "            \n",
    "#         #Adding notif features\n",
    "#         features.insert(features.end(), notif_features[nid].begin(), notif_features[nid].end())\n",
    "#         #Adding user features\n",
    "#         features.insert(features.end(), user_features[uid].begin(), user_features[uid].end())\n",
    "        #Adding word features\n",
    "        if words_flag:\n",
    "            features.insert(features.end(), words_features[nid].begin(), words_features[nid].end())\n",
    "        if imps_flag:\n",
    "            features.insert(features.end(), imps_features[nid].begin(), imps_features[nid].end())\n",
    "                \n",
    "        #Write sample\n",
    "        output_index.n_examples += 1\n",
    "        output_index.labels.push_back(y)\n",
    "        output_index.groups.push_back(0);\n",
    "        offset = write_data(features, offset, data_file)\n",
    "        output_index.offsets.push_back(offset)\n",
    "    \n",
    "    # Write INDEX\n",
    "    cdef uint32_t file_format_version = 1\n",
    "    fwrite(&file_format_version, sizeof(uint32_t), 1, index_file) #version=1\n",
    "    # Header\n",
    "    fwrite(&output_index.n_examples, sizeof(uint64_t), 1, index_file)\n",
    "    fwrite(&output_index.n_fields, sizeof(uint32_t), 1, index_file)\n",
    "    fwrite(&output_index.n_indices, sizeof(uint32_t), 1, index_file)\n",
    "    fwrite(&output_index.n_index_bits, sizeof(uint32_t), 1, index_file)\n",
    "    \n",
    "    # Index itself\n",
    "    fwrite(output_index.labels.data(), sizeof(float), output_index.labels.size(), index_file)\n",
    "    fwrite(output_index.offsets.data(), sizeof(uint64_t), output_index.offsets.size(), index_file)\n",
    "    fwrite(output_index.groups.data(), sizeof(uint64_t), output_index.groups.size(), index_file)\n",
    "            \n",
    "    fclose(data_file)\n",
    "    fclose(index_file)"
   ]
  },
  {
   "cell_type": "code",
   "execution_count": 19,
   "metadata": {},
   "outputs": [],
   "source": [
    "# add a number to file simply to distinguish different runs comprising the final ensemble\n",
    "total_num = 37"
   ]
  },
  {
   "cell_type": "code",
   "execution_count": 21,
   "metadata": {},
   "outputs": [
    {
     "name": "stdout",
     "output_type": "stream",
     "text": [
      "/home/nima_mohammadi/ffm_files_latest/39__full_train_xgb_gbdt_hist_5OF.bl\n",
      "Start writing\n",
      "FULL TRAIN: 284.716874123s\n",
      "/home/nima_mohammadi/ffm_files_latest/39__test_xgb_gbdt_hist_5OF.bl\n",
      "Start writing\n",
      "TEST: 31.6942219734s\n"
     ]
    }
   ],
   "source": [
    "if split_pathway:\n",
    "    tic = time.time()\n",
    "    write_file('/media/ramdisk/train.bl', \n",
    "               int(math.ceil(math.log(featNum, 2))), \n",
    "               train_split.interaction.values.astype(np.float), \n",
    "               train_split[['user_id', 'notif_id']].values.astype(np.int), \n",
    "               train_split_enc.values,\n",
    "               words_dict_cython,\n",
    "               imps_dict_cython\n",
    "              )\n",
    "    print('TRAIN: {}s'.format(time.time() - tic))\n",
    "    \n",
    "    tic = time.time()\n",
    "    write_file('/media/ramdisk/valid.bl', \n",
    "               int(math.ceil(math.log(featNum, 2))), \n",
    "               valid_split.interaction.values.astype(np.float), \n",
    "               valid_split[['user_id', 'notif_id']].values.astype(np.int), \n",
    "               valid_split_enc.values,\n",
    "               words_dict_cython,\n",
    "               imps_dict_cython\n",
    "              )\n",
    "    print('VALID: {}s'.format(time.time() - tic))\n",
    "else:\n",
    "    tic = time.time()\n",
    "    print('/home/nima_mohammadi/ffm_files_latest/{}__full_train_{}.bl'.format(total_num+FILE_NUM, gbdt_filename))\n",
    "    write_file('/home/nima_mohammadi/ffm_files_latest/{}__full_train_{}.bl'.format(total_num+FILE_NUM, gbdt_filename), \n",
    "               int(math.ceil(math.log(featNum, 2))), \n",
    "               full_train_table.interaction.values.astype(np.float), \n",
    "               full_train_table[['user_id', 'notif_id']].values.astype(np.int), \n",
    "               full_train_table_enc.values,\n",
    "               words_dict_cython,\n",
    "               imps_dict_cython\n",
    "              )\n",
    "    print('FULL TRAIN: {}s'.format(time.time() - tic))\n",
    "    \n",
    "    tic = time.time()\n",
    "    print('/home/nima_mohammadi/ffm_files_latest/{}__test_{}.bl'.format(total_num+FILE_NUM, gbdt_filename))\n",
    "    write_file('/home/nima_mohammadi/ffm_files_latest/{}__test_{}.bl'.format(total_num+FILE_NUM, gbdt_filename), \n",
    "               int(math.ceil(math.log(featNum, 2))), \n",
    "               np.zeros(test.shape[0]), \n",
    "               test[['user_id', 'notif_id']].values.astype(np.int), \n",
    "               test_enc.values,\n",
    "               words_dict_cython,\n",
    "               imps_dict_cython\n",
    "              )\n",
    "    print('TEST: {}s'.format(time.time() - tic))"
   ]
  },
  {
   "cell_type": "code",
   "execution_count": null,
   "metadata": {},
   "outputs": [],
   "source": []
  }
 ],
 "metadata": {
  "celltoolbar": "Initialization Cell",
  "kernelspec": {
   "display_name": "Python 2",
   "language": "python",
   "name": "python2"
  },
  "language_info": {
   "codemirror_mode": {
    "name": "ipython",
    "version": 2
   },
   "file_extension": ".py",
   "mimetype": "text/x-python",
   "name": "python",
   "nbconvert_exporter": "python",
   "pygments_lexer": "ipython2",
   "version": "2.7.12"
  },
  "notify_time": "0"
 },
 "nbformat": 4,
 "nbformat_minor": 2
}
