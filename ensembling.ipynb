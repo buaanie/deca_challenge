{
 "cells": [
  {
   "cell_type": "code",
   "execution_count": 1,
   "metadata": {},
   "outputs": [],
   "source": [
    "import numpy as np\n",
    "import pandas as pd\n",
    "from __future__ import print_function\n",
    "import time, os\n",
    "from scipy.stats.mstats import gmean, hmean\n",
    "\n",
    "def deca_load(filename):\n",
    "    tic = time.time()\n",
    "    csv_path = 'data_raw/{}.csv'.format(filename)\n",
    "    hdf_path = 'data_hdf/_{}.h5'.format(filename)\n",
    "    if os.path.exists(hdf_path):\n",
    "        print('loading {}... '.format(hdf_path), end='')\n",
    "        result = pd.read_hdf(hdf_path)\n",
    "        print(\"OK ({0:.1f}s)\".format(time.time() - tic))\n",
    "        return result\n",
    "    else:\n",
    "        try:\n",
    "            os.mkdir('data_hdf')\n",
    "        except:\n",
    "            pass\n",
    "        print('loading {}... '.format(csv_path), end='')\n",
    "        result = pd.read_csv(csv_path)\n",
    "        print(\"OK ({0:.1f}s)\".format(time.time() - tic))\n",
    "        result.to_hdf(hdf_path, 'fixed', mode='w', complib='blosc', complevel=9)\n",
    "        print('Saved {} for fast future loading.'.format(hdf_path))\n",
    "        return result"
   ]
  },
  {
   "cell_type": "code",
   "execution_count": 2,
   "metadata": {},
   "outputs": [],
   "source": [
    "def sigmoid(x):\n",
    "    return 1. / (1. + np.exp(-x))\n",
    "\n",
    "def inverse_sigmoid(x):\n",
    "    return np.log(x / (1. - x))"
   ]
  },
  {
   "cell_type": "code",
   "execution_count": 3,
   "metadata": {},
   "outputs": [],
   "source": [
    "def calc_loss(y, yp):\n",
    "    yp = np.clip(yp, 1e-7, 1-1e-7)\n",
    "    loss_fn = y*np.log(yp)\n",
    "    loss_fp = (1-y)*np.log(1-yp)\n",
    "    return np.sum(-(5*loss_fn+loss_fp))/y.shape[0]"
   ]
  },
  {
   "cell_type": "code",
   "execution_count": 5,
   "metadata": {},
   "outputs": [],
   "source": [
    "# PREDS_PATH = '/tmp/allsubs/'\n",
    "# title_preds = filter(lambda x: x.endswith('txt'), os.listdir(PREDS_PATH))"
   ]
  },
  {
   "cell_type": "code",
   "execution_count": 8,
   "metadata": {},
   "outputs": [
    {
     "name": "stdout",
     "output_type": "stream",
     "text": [
      "CPU times: user 4 ms, sys: 236 ms, total: 240 ms\n",
      "Wall time: 394 ms\n"
     ]
    }
   ],
   "source": [
    "# %%time\n",
    "# all_preds = []\n",
    "# for i, c in enumerate(title_preds):\n",
    "#     if 'predsa' in c and len(c) == len('predsae.txt'):\n",
    "#         os.remove(os.path.join(PREDS_PATH, c))\n",
    "#         continue\n",
    "#     if 'pred_one' in c:\n",
    "#         os.remove(os.path.join(PREDS_PATH, c))\n",
    "#         continue"
   ]
  },
  {
   "cell_type": "markdown",
   "metadata": {},
   "source": [
    "# TEST"
   ]
  },
  {
   "cell_type": "code",
   "execution_count": 4,
   "metadata": {},
   "outputs": [],
   "source": [
    "PREDS_PATH = '/tmp/allsubs/'\n",
    "title_preds = filter(lambda x: x.endswith('txt'), os.listdir(PREDS_PATH))"
   ]
  },
  {
   "cell_type": "code",
   "execution_count": 5,
   "metadata": {},
   "outputs": [
    {
     "data": {
      "text/plain": [
       "171"
      ]
     },
     "execution_count": 5,
     "metadata": {},
     "output_type": "execute_result"
    }
   ],
   "source": [
    "len(title_preds)"
   ]
  },
  {
   "cell_type": "code",
   "execution_count": null,
   "metadata": {},
   "outputs": [],
   "source": []
  },
  {
   "cell_type": "code",
   "execution_count": 6,
   "metadata": {
    "scrolled": false
   },
   "outputs": [
    {
     "name": "stdout",
     "output_type": "stream",
     "text": [
      "0 preds_xg_ng2iter_NN_5.txt TRIPLE WGT\n",
      "1 20_ultim_nine3.txt\n",
      "2 ultim_one_IT1_k4_9.txt\n",
      "3 60_ultim_fifteen5_1epo.txt\n",
      "4 test_preds_xgb_7TWO.txt\n",
      "5 18_ultim_nine1.txt\n",
      "6 11298_ultim_thirtytwo4_2epo_nn.txt\n",
      "7 64_ultim_fifteen5_2epo_nn.txt\n",
      "8 25_ultim_SIX1.txt\n",
      "skip predsag.txt\n",
      "10 test_preds_xgb_4ONE.txt\n",
      "skip pred_one_#predsam.txt\n",
      "skip predsae.txt\n",
      "13 39_ultim_twelve5_2epo.txt\n",
      "14 99992_ultim_twentyone1_2epo_nn.txt\n",
      "15 17_ultim_two2.txt\n",
      "16 87998_ultim_twentytwo1_2epo_k4.txt\n",
      "skip pred_one_#predsal.txt\n",
      "18 ultim_one_IT_k4_.txt\n",
      "19 16_ultim_two2.txt\n",
      "skip pred_one_#predsad.txt\n",
      "21 preds_xg_ng2iter_k4_4.txt TRIPLE WGT\n",
      "22 37_ultim_twelve4_2epo.txt\n",
      "23 preds_lg_ng1iter_k5_1.txt\n",
      "24 63_ultim_fifteen5_2epo_nn.txt\n",
      "25 preds_lg_ng1iter_k4_1.txt\n",
      "26 19_ultim_nine1.txt\n",
      "27 preds_xg_ng2iter_k4_2.txt TRIPLE WGT\n",
      "28 66298_ultim_thirtytwo4_2epo_k5.txt\n",
      "29 67997_ultim_twentyseven3_2epo_k4.txt\n",
      "30 preds_xg_ng2iter_NN_4.txt TRIPLE WGT\n",
      "31 83_ultim_nineteen6_2epo.txt\n",
      "32 61_ultim_fifteen5_1epo.txt\n",
      "33 49_ultim_fifteen5_2epo.txt\n",
      "34 67998_ultim_thirtytwo4_2epo_k4.txt\n",
      "35 test_preds_lgbm_8THR.txt\n",
      "36 preds_lg_ng2iter_k4_1.txt TRIPLE WGT\n",
      "skip pred_one_#predsaj.txt\n",
      "38 preds_lg_ng2iter_k4_3.txt TRIPLE WGT\n",
      "39 6664_ultim_thirtythree6_2epo_nn.txt\n",
      "40 test_preds_xgb_3ONE.txt\n",
      "41 preds_xg_ng1iter_k4_3.txt\n",
      "42 75_ultim_eighteen5_2epo.txt\n",
      "43 ultim_two_IT_k4_.txt\n",
      "44 test_preds_xgb_1ONE.txt\n",
      "45 33_ultim_eleven3_3epo.txt\n",
      "skip pred_one_#predsae.txt\n",
      "47 test_preds_lgbm_5ONE.txt\n",
      "48 84_ultim_nineteen6_1epo_nn.txt\n",
      "49 preds_xg_ng2iter_k5_3.txt TRIPLE WGT\n",
      "skip pred_one_#predsab.txt\n",
      "51 test_preds_lgbm_2ONE.txt\n",
      "52 preds_lg_ng2iter_k4_4.txt TRIPLE WGT\n",
      "53 preds_lg_ng2iter_k5_1.txt TRIPLE WGT\n",
      "54 81_ultim_nineteen6_2epo.txt\n",
      "55 67_ultim_sixteen5_2epo_k5_.txt\n",
      "56 test_preds_lgbm_6TWO.txt\n",
      "57 36_ultim_twelve4_2epo.txt\n",
      "58 51_ultim_fifteen5_2epo.txt\n",
      "59 preds_xg_ng1iter_k4_1.txt\n",
      "60 preds_xg_ng2iter_k4_3.txt TRIPLE WGT\n",
      "61 test_preds_lgbm_10TWO.txt\n",
      "62 preds_xg_ng1iter_k5_2.txt\n",
      "63 ultim_one_ITone_k4_.txt\n",
      "skip predsai.txt\n",
      "65 ultim_one_IT_k4_1.txt\n",
      "66 test_preds_lgbm_1ONE.txt\n",
      "67 28_ultim_eleven3.txt\n",
      "68 74_ultim_eighteen5_2epo.txt\n",
      "69 27_ultim_eleven3.txt\n",
      "70 preds_xg_ng2iter_NN_3.txt TRIPLE WGT\n",
      "71 9995_ultim_twentyone1_2epo_k4.txt\n",
      "skip pred_one_#predsah.txt\n",
      "skip pred_one_#predsaa.txt\n",
      "74 9998_ultim_twentyone1_2epo_k5.txt\n",
      "75 846_ultim_twentyeight6_1epo.txt\n",
      "76 77_ultim_eighteen5_3epo.txt\n",
      "77 preds_lg_ng2iter_k4_2.txt TRIPLE WGT\n",
      "78 99991_ultim_twentyone1_2epo_nn.txt\n",
      "79 preds_lg_ng1iter_k4_2.txt\n",
      "80 preds_xg_ng1iter_k4_4.txt\n",
      "81 9991_ultim_twentyone1_2epo.txt\n",
      "82 82_ultim_nineteen6_2epo.txt\n",
      "83 test_preds_lgbm_9THR.txt\n",
      "84 30_ultim_eleven3_2epo.txt\n",
      "85 ultim_one_IT_k4_2.txt\n",
      "86 9992_ultim_twentyone1_2epo.txt\n",
      "87 67997_ultim_thirtytwo4_2epo_k4.txt\n",
      "88 56_ultim_sixteen5_3epo.txt\n",
      "89 67998_ultim_twentyseven3_2epo_k4.txt\n",
      "90 test_preds_xgb_5ONE.txt\n",
      "91 840_ultim_twentyeight6_2epo_nn.txt\n",
      "skip predsab.txt\n",
      "93 40_ultim_twelve5_2epo.txt\n",
      "94 88992_ultim_twentytwo1_2epo_nn.txt\n",
      "95 87999_ultim_twentytwo1_2epo_k4.txt\n",
      "96 test_preds_xgb_10TWO.txt\n",
      "97 test_preds_lgbm_3ONE.txt\n",
      "98 preds_xg_ng2iter_k5_4.txt TRIPLE WGT\n",
      "99 preds_xg_ng2iter_NN_1.txt TRIPLE WGT\n",
      "skip pred_one_#predsba.txt\n",
      "101 preds_lg_ng1iter_k5_2.txt\n",
      "102 86997_ultim_twentytwo1_2epo_k4.txt\n",
      "103 825_ultim_twentyeight6_2epo_nn.txt\n",
      "104 preds_lg_ng2iter_k5_3.txt TRIPLE WGT\n",
      "skip predsah.txt\n",
      "106 33393_ultim_thirtyseven5OF_1epo_nn.txt\n",
      "107 test_preds_xgb_6TWO.txt\n",
      "108 88991_ultim_twentytwo1_2epo_nn.txt\n",
      "109 53_ultim_sixteen5_2epo.txt\n",
      "110 46_ultim_twelve5_2epoNN.txt\n",
      "111 33392_ultim_thirtyseven5OF_1epo_nn.txt\n",
      "112 29_ultim_eleven3_2epo.txt\n",
      "113 57_ultim_sixteen5_3epo.txt\n",
      "114 preds_xg_ng2iter_k4_1.txt TRIPLE WGT\n",
      "115 32_ultim_eleven3_3epo.txt\n",
      "116 842_ultim_twentyeight6_3epo_nn.txt\n",
      "117 preds_xg_ng1iter_k5_3.txt\n",
      "118 test_preds_xgb_9THR.txt\n",
      "119 76_ultim_eighteen5_2epo.txt\n",
      "120 87997_ultim_twentytwo1_2epo_k4.txt\n",
      "121 10_ultim_two.txt\n",
      "122 824_ultim_twentyeight6_2epo_nn.txt\n",
      "skip pred_one_#predsbb.txt\n",
      "124 47_ultim_twelve5_2epoNN.txt\n",
      "125 ultim_one_IT1_k4_10.txt\n",
      "126 preds_lg_ng2iter_k5_4.txt TRIPLE WGT\n",
      "127 ultim_two_IT_k4_2.txt\n",
      "128 71_ultim_eighteen5_1epo.txt\n",
      "129 844_ultim_twentyeight6_1epo.txt\n",
      "130 43_ultim_twelve5_3epoNN.txt\n",
      "skip pred_one_#predsag.txt\n",
      "132 preds_xg_ng1iter_k5_1.txt\n",
      "133 35_ultim_twelve4_2epo.txt\n",
      "134 15_ultim_two2.txt\n",
      "135 9997_ultim_twentyone1_2epo_k5.txt\n",
      "136 ultim_two_IT_k5_.txt\n",
      "skip pred_one_#predsai.txt\n",
      "138 9996_ultim_twentyone1_2epo_k4.txt\n",
      "139 test_preds_lgbm_7TWO.txt\n",
      "140 preds_lg_ng2iter_k5_2.txt TRIPLE WGT\n",
      "141 24_ultim_SIX1.txt\n",
      "142 70_ultim_eighteen5_1epo.txt\n",
      "143 test_preds_lgbm_4ONE.txt\n",
      "144 preds_xg_ng2iter_NN_6.txt TRIPLE WGT\n",
      "145 13_ultim_two.txt\n",
      "146 42_ultim_twelve5_3epoNN.txt\n",
      "147 preds_xg_ng1iter_k4_2.txt\n",
      "skip pred_one_#predsac.txt\n",
      "skip pred_one_#predsaf.txt\n",
      "150 preds_xg_ng2iter_k5_2.txt TRIPLE WGT\n",
      "151 86998_ultim_twentytwo1_2epo_k4.txt\n",
      "152 11_ultim_two.txt\n",
      "153 preds_xg_ng1iter_k5_4.txt\n",
      "skip predsaf.txt\n",
      "155 9994_ultim_twentyone1_2epo_k4.txt\n",
      "skip predsaa.txt\n",
      "157 67999_ultim_twentyseven3_2epo_k4.txt\n",
      "skip predsad.txt\n",
      "skip pred_one_#predsak.txt\n",
      "160 12_ultim_two.txt\n",
      "skip predsaj.txt\n",
      "162 ultim_two_IT_k4_1.txt\n",
      "163 66_ultim_sixteen5_2epo_k5_.txt\n",
      "164 preds_xg_ng2iter_k5_1.txt TRIPLE WGT\n",
      "skip predsac.txt\n",
      "166 preds_xg_ng2iter_NN_2.txt TRIPLE WGT\n",
      "167 50_ultim_fifteen5_2epo.txt\n",
      "168 54_ultim_sixteen5_2epo.txt\n",
      "169 21_ultim_nine3.txt\n",
      "170 test_preds_xgb_2ONE.txt\n",
      "CPU times: user 4min 16s, sys: 1min 14s, total: 5min 31s\n",
      "Wall time: 5min 30s\n"
     ]
    }
   ],
   "source": [
    "%%time\n",
    "all_preds = []\n",
    "for i, c in enumerate(title_preds):\n",
    "    if 'predsa' in c and len(c) == len('predsae.txt'):\n",
    "        print('skip', c)\n",
    "        continue\n",
    "    if 'pred_one' in c:\n",
    "        print('skip', c)\n",
    "        continue\n",
    "    preds = []\n",
    "    with open(os.path.join(PREDS_PATH, c)) as fi:\n",
    "        preds = map(float, fi.readlines())\n",
    "    all_preds.append(preds)\n",
    "    if ('2iter' in c):\n",
    "        all_preds.append(preds)\n",
    "        all_preds.append(preds)\n",
    "        print(i, c, 'TRIPLE WGT')\n",
    "#     elif (('2epo' in c) and ('nn' not in c) and ('NN' not in c) and ('39_' not in c)):\n",
    "#         all_preds.append(preds)\n",
    "#         print(i, c, 'DOUBLE WGT')\n",
    "    else:\n",
    "        print(i, c)"
   ]
  },
  {
   "cell_type": "code",
   "execution_count": 7,
   "metadata": {},
   "outputs": [
    {
     "data": {
      "text/plain": [
       "190"
      ]
     },
     "execution_count": 7,
     "metadata": {},
     "output_type": "execute_result"
    }
   ],
   "source": [
    "len(all_preds)"
   ]
  },
  {
   "cell_type": "code",
   "execution_count": 11,
   "metadata": {},
   "outputs": [],
   "source": [
    "ensemble_preds = gmean(np.vstack(all_preds), axis=0)"
   ]
  },
  {
   "cell_type": "code",
   "execution_count": 17,
   "metadata": {},
   "outputs": [],
   "source": [
    "ensemble_preds = np.mean(np.vstack(all_preds), axis=0)"
   ]
  },
  {
   "cell_type": "code",
   "execution_count": 12,
   "metadata": {},
   "outputs": [],
   "source": [
    "ensemble_preds = np.clip(ensemble_preds+.0176, 1e-7, 1-1e-6)"
   ]
  },
  {
   "cell_type": "code",
   "execution_count": null,
   "metadata": {},
   "outputs": [],
   "source": []
  },
  {
   "cell_type": "code",
   "execution_count": 8,
   "metadata": {},
   "outputs": [],
   "source": [
    "# stacked = np.vstack(all_preds)\n",
    "m = gmean(np.vstack(all_preds), axis=0)\n",
    "# mstd = np.std(stacked, axis=0)\n",
    "\n",
    "m2 = m.copy()\n",
    "m2+=.0177\n",
    "m2[m2>.91]-=.010\n",
    "m2[m2>.81]-=.020\n",
    "m2 = np.clip(m2, 1e-7, 1-1e-6)\n",
    "# m2[np.argsort(mstd)[-200000:]] -=.10"
   ]
  },
  {
   "cell_type": "code",
   "execution_count": null,
   "metadata": {},
   "outputs": [],
   "source": []
  },
  {
   "cell_type": "code",
   "execution_count": 9,
   "metadata": {},
   "outputs": [],
   "source": [
    "with open('/media/ramdisk/fini_last92_almost4_rem.txt', 'w') as fo:\n",
    "    for s in m2:\n",
    "        fo.write(str(s) + '\\n')"
   ]
  },
  {
   "cell_type": "code",
   "execution_count": null,
   "metadata": {},
   "outputs": [],
   "source": []
  }
 ],
 "metadata": {
  "kernelspec": {
   "display_name": "Python 2",
   "language": "python",
   "name": "python2"
  },
  "language_info": {
   "codemirror_mode": {
    "name": "ipython",
    "version": 2
   },
   "file_extension": ".py",
   "mimetype": "text/x-python",
   "name": "python",
   "nbconvert_exporter": "python",
   "pygments_lexer": "ipython2",
   "version": "2.7.12"
  }
 },
 "nbformat": 4,
 "nbformat_minor": 2
}
